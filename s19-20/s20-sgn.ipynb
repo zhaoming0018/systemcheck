{
 "cells": [
  {
   "cell_type": "markdown",
   "metadata": {},
   "source": [
    "## 模型性能"
   ]
  },
  {
   "cell_type": "code",
   "execution_count": 3,
   "metadata": {},
   "outputs": [],
   "source": [
    "import os\n",
    "import sys\n",
    "import torch\n",
    "from torch.utils.data import Dataset, DataLoader, TensorDataset\n",
    "import matplotlib.pyplot as plt\n",
    "import pandas as pd\n",
    "from sklearn.metrics import *\n",
    "import numpy as np\n",
    "sys.path.append('../data/')\n",
    "sys.path.append(\"../\")\n",
    "from load_cifar import load_cifar\n",
    "from load_olivetti import load_olivetti\n",
    "from resnet import resnet\n",
    "from preact_resnet import PreActResNet18"
   ]
  },
  {
   "cell_type": "code",
   "execution_count": 4,
   "metadata": {},
   "outputs": [
    {
     "data": {
      "text/plain": [
       "['olivetti_sgn_preact_8.0_model.ckpt',\n",
       " 'olivetti_sgn_preact_32.0_model.ckpt',\n",
       " 'cifar_sgn_preact_resnet_8.0_model.ckpt',\n",
       " 'cifar_sgn_res5_8.0_model.ckpt',\n",
       " 'cifar_sgn_res5_16.0_model.ckpt',\n",
       " 'olivetti_sgn_resnet_768.0_model.ckpt',\n",
       " 'cifar_sgn_res5_15.0_model.ckpt',\n",
       " 'olivetti_sgn_resnet_2048.0_model.ckpt',\n",
       " 'cifar_sgn_res5_32.0_model.ckpt',\n",
       " 'cifar_sgn_preact_resnet_16.0_model.ckpt',\n",
       " 'olivetti_sgn_resnet_1024.0_model.ckpt',\n",
       " 'olivetti_sgn_preact_16.0_model.ckpt',\n",
       " 'cifar_sgn_preact_resnet_32.0_model.ckpt',\n",
       " 'olivetti_sgn_resnet_32.0_model.ckpt',\n",
       " 'olivetti_sgn_resnet_8.0_model.ckpt',\n",
       " 'olivetti_sgn_resnet_512.0_model.ckpt',\n",
       " 'olivetti_sgn_resnet_1536.0_model.ckpt',\n",
       " 'olivetti_sgn_resnet_16.0_model.ckpt']"
      ]
     },
     "execution_count": 4,
     "metadata": {},
     "output_type": "execute_result"
    }
   ],
   "source": [
    "os.listdir('ckpts/')"
   ]
  },
  {
   "cell_type": "markdown",
   "metadata": {},
   "source": [
    "#### CIFAR10/ResNet34"
   ]
  },
  {
   "cell_type": "code",
   "execution_count": 5,
   "metadata": {},
   "outputs": [],
   "source": [
    "# 加载数据\n",
    "def reshape_data(X_train, y_train, X_test):\n",
    "    # reshape train and subtract mean\n",
    "    pixel_mean = np.mean(X_train, axis=0)\n",
    "    X_train -= pixel_mean\n",
    "    X_test -= pixel_mean\n",
    "    return X_train, y_train, X_test\n",
    "\n",
    "def load_data(name='cifar'):\n",
    "    if name == 'cifar':\n",
    "        X_train, y_train, X_test, y_test = load_cifar(10)\n",
    "        X_train = np.dstack((X_train[:, :1024], X_train[:, 1024:2048], X_train[:, 2048:]))\n",
    "        X_train = X_train.reshape((-1, 32, 32, 3)).transpose(0, 3, 1, 2)\n",
    "        X_test = np.dstack((X_test[:, :1024], X_test[:, 1024:2048], X_test[:, 2048:]))\n",
    "        X_test = X_test.reshape((-1, 32, 32, 3)).transpose(0, 3, 1, 2)\n",
    "    else:\n",
    "        X_train, y_train, X_test, y_test = load_olivetti()\n",
    "    return X_train, y_train, X_test, y_test\n",
    "\n",
    "def rbg_to_grayscale(images):\n",
    "    return np.dot(images[..., :3], [0.299, 0.587, 0.114])"
   ]
  },
  {
   "cell_type": "code",
   "execution_count": 6,
   "metadata": {},
   "outputs": [],
   "source": [
    "def data_to_loader(x, y, size=512):\n",
    "    x_data = torch.from_numpy(x)\n",
    "    y_data = torch.from_numpy(y).long()\n",
    "    loader = DataLoader(dataset=TensorDataset(x_data, y_data), \n",
    "                          batch_size=size, \n",
    "                          shuffle=False, \n",
    "                          num_workers=2)\n",
    "    return loader"
   ]
  },
  {
   "cell_type": "code",
   "execution_count": 7,
   "metadata": {},
   "outputs": [],
   "source": [
    "# 加载CIFAR10\n",
    "X_train, y_train, X_test, y_test = load_data(name='cifar')\n",
    "X_train, y_train, X_test = reshape_data(X_train, y_train, X_test)\n",
    "test_loader = data_to_loader(X_test, y_test)"
   ]
  },
  {
   "cell_type": "code",
   "execution_count": 8,
   "metadata": {},
   "outputs": [],
   "source": [
    "device = 'cuda' if torch.cuda.is_available() else 'cpu'\n",
    "df_metric = pd.DataFrame(columns=('网络','数据集', 'lambda', '准确率', 'micro-F1', 'macro-F1'))"
   ]
  },
  {
   "cell_type": "code",
   "execution_count": 9,
   "metadata": {},
   "outputs": [],
   "source": [
    "def metric_model(net, modelpath, data_loader, lam, netname='ResNet34', dataname='CIFAR10'):\n",
    "    net.load_state_dict(torch.load(modelpath))\n",
    "    res = []\n",
    "    y_data = []\n",
    "    network.eval()\n",
    "    for i, data in enumerate(data_loader):\n",
    "        x, y = data\n",
    "        x_device = x.to(device)\n",
    "        pred = network(x_device)\n",
    "        res.append(pred.max(1)[1])\n",
    "        y_data.append(y.to(device))\n",
    "    res = torch.cat(res)\n",
    "    y_data = torch.cat(y_data)\n",
    "    print(len(res))\n",
    "    # 准确率\n",
    "    acc = accuracy_score(res.cpu().numpy(), y_data.cpu().numpy())\n",
    "    # micro-f1\n",
    "    micro_f1 = f1_score(res.cpu().numpy(), y_data.cpu().numpy(), average='micro')\n",
    "    # macro-f1\n",
    "    macro_f1 = f1_score(res.cpu().numpy(), y_data.cpu().numpy(), average='macro')\n",
    "    \n",
    "    global df_metric\n",
    "    # TODO:修改网络和数据集名字\n",
    "    df_metric = df_metric.append({\n",
    "        '网络': netname, \n",
    "        '数据集': dataname,\n",
    "        'lambda': lam,\n",
    "        '准确率': acc,\n",
    "        'micro-F1': micro_f1,\n",
    "        'macro-F1': macro_f1\n",
    "    }, ignore_index=True)\n",
    "#     df_metric.to_latex(sys.stderr)"
   ]
  },
  {
   "cell_type": "code",
   "execution_count": 11,
   "metadata": {},
   "outputs": [
    {
     "name": "stdout",
     "output_type": "stream",
     "text": [
      "10000\n"
     ]
    },
    {
     "name": "stderr",
     "output_type": "stream",
     "text": [
      "\\begin{tabular}{lllrrrr}\n",
      "\\toprule\n",
      "{} &        网络 &      数据集 &  lambda &     准确率 &  micro-F1 &  macro-F1 \\\\\n",
      "\\midrule\n",
      "0 &  ResNet34 &  CIFAR10 &     8.0 &  0.9259 &    0.9259 &  0.925786 \\\\\n",
      "\\bottomrule\n",
      "\\end{tabular}\n"
     ]
    }
   ],
   "source": [
    "# CIFAR10/ResNet34/4.0\n",
    "network = resnet(num_classes=10).to(device)\n",
    "path = 'ckpts/cifar_sgn_res5_8.0_model.ckpt'\n",
    "metric_model(network, path, test_loader, 8.0 ,netname='ResNet34', dataname='CIFAR10')\n",
    "df_metric.to_latex(sys.stderr)"
   ]
  },
  {
   "cell_type": "code",
   "execution_count": 13,
   "metadata": {},
   "outputs": [
    {
     "name": "stdout",
     "output_type": "stream",
     "text": [
      "10000\n"
     ]
    },
    {
     "name": "stderr",
     "output_type": "stream",
     "text": [
      "\\begin{tabular}{lllrrrr}\n",
      "\\toprule\n",
      "{} &        网络 &      数据集 &  lambda &     准确率 &  micro-F1 &  macro-F1 \\\\\n",
      "\\midrule\n",
      "0 &  ResNet34 &  CIFAR10 &     8.0 &  0.9259 &    0.9259 &  0.925786 \\\\\n",
      "1 &  ResNet34 &  CIFAR10 &    16.0 &  0.9223 &    0.9223 &  0.922307 \\\\\n",
      "\\bottomrule\n",
      "\\end{tabular}\n"
     ]
    }
   ],
   "source": [
    "# CIFAR10/ResNet34/8.0\n",
    "network = resnet(num_classes=10).to(device)\n",
    "path = 'ckpts/cifar_sgn_res5_16.0_model.ckpt'\n",
    "metric_model(network, path, test_loader, 16.0 ,netname='ResNet34', dataname='CIFAR10')\n",
    "df_metric.to_latex(sys.stderr)"
   ]
  },
  {
   "cell_type": "code",
   "execution_count": 14,
   "metadata": {},
   "outputs": [
    {
     "name": "stdout",
     "output_type": "stream",
     "text": [
      "10000\n"
     ]
    },
    {
     "name": "stderr",
     "output_type": "stream",
     "text": [
      "\\begin{tabular}{lllrrrr}\n",
      "\\toprule\n",
      "{} &        网络 &      数据集 &  lambda &     准确率 &  micro-F1 &  macro-F1 \\\\\n",
      "\\midrule\n",
      "0 &  ResNet34 &  CIFAR10 &     8.0 &  0.9259 &    0.9259 &  0.925786 \\\\\n",
      "1 &  ResNet34 &  CIFAR10 &    16.0 &  0.9223 &    0.9223 &  0.922307 \\\\\n",
      "2 &  ResNet34 &  CIFAR10 &    32.0 &  0.9166 &    0.9166 &  0.916605 \\\\\n",
      "\\bottomrule\n",
      "\\end{tabular}\n"
     ]
    }
   ],
   "source": [
    "# CIFAR10/ResNet34/16.0\n",
    "network = resnet(num_classes=10).to(device)\n",
    "path = 'ckpts/cifar_sgn_res5_32.0_model.ckpt'\n",
    "metric_model(network, path, test_loader, 32.0 ,netname='ResNet34', dataname='CIFAR10')\n",
    "df_metric.to_latex(sys.stderr)"
   ]
  },
  {
   "cell_type": "code",
   "execution_count": 18,
   "metadata": {},
   "outputs": [
    {
     "name": "stdout",
     "output_type": "stream",
     "text": [
      "10000\n"
     ]
    },
    {
     "name": "stderr",
     "output_type": "stream",
     "text": [
      "\\begin{tabular}{lllrrrr}\n",
      "\\toprule\n",
      "{} &        网络 &      数据集 &  lambda &     准确率 &  micro-F1 &  macro-F1 \\\\\n",
      "\\midrule\n",
      "0 &  ResNet34 &  CIFAR10 &     8.0 &  0.9259 &    0.9259 &  0.925786 \\\\\n",
      "1 &  ResNet34 &  CIFAR10 &    16.0 &  0.9223 &    0.9223 &  0.922307 \\\\\n",
      "2 &  ResNet34 &  CIFAR10 &    32.0 &  0.9166 &    0.9166 &  0.916605 \\\\\n",
      "3 &  ResNet34 &  CIFAR10 &     8.0 &  0.9413 &    0.9413 &  0.941216 \\\\\n",
      "\\bottomrule\n",
      "\\end{tabular}\n"
     ]
    }
   ],
   "source": [
    "# CIFAR10/ResNet34/16.0\n",
    "network = PreActResNet18(num_classes=10).to(device)\n",
    "path = 'ckpts/cifar_sgn_preact_resnet_8.0_model.ckpt'\n",
    "metric_model(network, path, test_loader, 8.0 ,netname='ResNet34', dataname='CIFAR10')\n",
    "df_metric.to_latex(sys.stderr)"
   ]
  },
  {
   "cell_type": "code",
   "execution_count": 19,
   "metadata": {},
   "outputs": [
    {
     "name": "stdout",
     "output_type": "stream",
     "text": [
      "10000\n"
     ]
    },
    {
     "name": "stderr",
     "output_type": "stream",
     "text": [
      "\\begin{tabular}{lllrrrr}\n",
      "\\toprule\n",
      "{} &        网络 &      数据集 &  lambda &     准确率 &  micro-F1 &  macro-F1 \\\\\n",
      "\\midrule\n",
      "0 &  ResNet34 &  CIFAR10 &     8.0 &  0.9259 &    0.9259 &  0.925786 \\\\\n",
      "1 &  ResNet34 &  CIFAR10 &    16.0 &  0.9223 &    0.9223 &  0.922307 \\\\\n",
      "2 &  ResNet34 &  CIFAR10 &    32.0 &  0.9166 &    0.9166 &  0.916605 \\\\\n",
      "3 &  ResNet34 &  CIFAR10 &     8.0 &  0.9413 &    0.9413 &  0.941216 \\\\\n",
      "4 &  ResNet34 &  CIFAR10 &    16.0 &  0.9464 &    0.9464 &  0.946308 \\\\\n",
      "\\bottomrule\n",
      "\\end{tabular}\n"
     ]
    }
   ],
   "source": [
    "# CIFAR10/ResNet34/16.0\n",
    "network = PreActResNet18(num_classes=10).to(device)\n",
    "path = 'ckpts/cifar_sgn_preact_resnet_16.0_model.ckpt'\n",
    "metric_model(network, path, test_loader, 16.0 ,netname='ResNet34', dataname='CIFAR10')\n",
    "df_metric.to_latex(sys.stderr)"
   ]
  },
  {
   "cell_type": "code",
   "execution_count": 20,
   "metadata": {},
   "outputs": [
    {
     "name": "stdout",
     "output_type": "stream",
     "text": [
      "10000\n"
     ]
    },
    {
     "name": "stderr",
     "output_type": "stream",
     "text": [
      "\\begin{tabular}{lllrrrr}\n",
      "\\toprule\n",
      "{} &        网络 &      数据集 &  lambda &     准确率 &  micro-F1 &  macro-F1 \\\\\n",
      "\\midrule\n",
      "0 &  ResNet34 &  CIFAR10 &     8.0 &  0.9259 &    0.9259 &  0.925786 \\\\\n",
      "1 &  ResNet34 &  CIFAR10 &    16.0 &  0.9223 &    0.9223 &  0.922307 \\\\\n",
      "2 &  ResNet34 &  CIFAR10 &    32.0 &  0.9166 &    0.9166 &  0.916605 \\\\\n",
      "3 &  ResNet34 &  CIFAR10 &     8.0 &  0.9413 &    0.9413 &  0.941216 \\\\\n",
      "4 &  ResNet34 &  CIFAR10 &    16.0 &  0.9464 &    0.9464 &  0.946308 \\\\\n",
      "5 &  ResNet34 &  CIFAR10 &    32.0 &  0.9461 &    0.9461 &  0.946063 \\\\\n",
      "\\bottomrule\n",
      "\\end{tabular}\n"
     ]
    }
   ],
   "source": [
    "# CIFAR10/ResNet34/16.0\n",
    "network = PreActResNet18(num_classes=10).to(device)\n",
    "path = 'ckpts/cifar_sgn_preact_resnet_32.0_model.ckpt'\n",
    "metric_model(network, path, test_loader, 32.0 ,netname='ResNet34', dataname='CIFAR10')\n",
    "df_metric.to_latex(sys.stderr)"
   ]
  },
  {
   "cell_type": "markdown",
   "metadata": {},
   "source": [
    "## Olivetti"
   ]
  },
  {
   "cell_type": "code",
   "execution_count": 22,
   "metadata": {},
   "outputs": [],
   "source": [
    "# 加载Olivetti\n",
    "X_train, y_train, X_test, y_test = load_data(name='olivetti')\n",
    "# mal_x_2, mal_y_2, num_targets = mal_data_synthesis(X_train, num_targets=2)\n",
    "# mal_x_4, mal_y_4, num_targets = mal_data_synthesis(X_train, num_targets=4)\n",
    "# mal_x_8, mal_y_8, num_targets = mal_data_synthesis(X_train, num_targets=8)\n",
    "X_train, y_train, X_test = reshape_data(X_train, y_train, X_test)\n",
    "test_loader = data_to_loader(X_test, y_test)\n",
    "# mal_2_loader = data_to_loader(mal_x_2, mal_y_2)\n",
    "# mal_4_loader = data_to_loader(mal_x_4, mal_y_4)\n",
    "# mal_8_loader = data_to_loader(mal_x_8, mal_y_8)"
   ]
  },
  {
   "cell_type": "code",
   "execution_count": 23,
   "metadata": {},
   "outputs": [],
   "source": [
    "df_metric = pd.DataFrame(columns=('网络','数据集', '准确率', 'micro-F1', 'macro-F1'))"
   ]
  },
  {
   "cell_type": "code",
   "execution_count": 24,
   "metadata": {},
   "outputs": [
    {
     "name": "stdout",
     "output_type": "stream",
     "text": [
      "120\n"
     ]
    },
    {
     "name": "stderr",
     "output_type": "stream",
     "text": [
      "\\begin{tabular}{lllrrrr}\n",
      "\\toprule\n",
      "{} &        网络 &       数据集 &  准确率 &  micro-F1 &  macro-F1 &  lambda \\\\\n",
      "\\midrule\n",
      "0 &  ResNet34 &  Olivetti &  0.9 &       0.9 &  0.896825 &     8.0 \\\\\n",
      "\\bottomrule\n",
      "\\end{tabular}\n"
     ]
    }
   ],
   "source": [
    "# 2\n",
    "network = resnet(num_classes=40).to(device)\n",
    "path = 'ckpts/olivetti_sgn_resnet_8.0_model.ckpt'\n",
    "metric_model(network, path, test_loader, 8.0 ,netname='ResNet34', dataname='Olivetti')\n",
    "df_metric.to_latex(sys.stderr)"
   ]
  },
  {
   "cell_type": "code",
   "execution_count": 25,
   "metadata": {},
   "outputs": [
    {
     "name": "stdout",
     "output_type": "stream",
     "text": [
      "120\n"
     ]
    },
    {
     "name": "stderr",
     "output_type": "stream",
     "text": [
      "\\begin{tabular}{lllrrrr}\n",
      "\\toprule\n",
      "{} &        网络 &       数据集 &       准确率 &  micro-F1 &  macro-F1 &  lambda \\\\\n",
      "\\midrule\n",
      "0 &  ResNet34 &  Olivetti &  0.900000 &  0.900000 &  0.896825 &     8.0 \\\\\n",
      "1 &  ResNet34 &  Olivetti &  0.916667 &  0.916667 &  0.913810 &    16.0 \\\\\n",
      "\\bottomrule\n",
      "\\end{tabular}\n"
     ]
    }
   ],
   "source": [
    "# 2\n",
    "network = resnet(num_classes=40).to(device)\n",
    "path = 'ckpts/olivetti_sgn_resnet_16.0_model.ckpt'\n",
    "metric_model(network, path, test_loader, 16.0 ,netname='ResNet34', dataname='Olivetti')\n",
    "df_metric.to_latex(sys.stderr)"
   ]
  },
  {
   "cell_type": "code",
   "execution_count": 26,
   "metadata": {},
   "outputs": [
    {
     "name": "stdout",
     "output_type": "stream",
     "text": [
      "120\n"
     ]
    },
    {
     "name": "stderr",
     "output_type": "stream",
     "text": [
      "\\begin{tabular}{lllrrrr}\n",
      "\\toprule\n",
      "{} &        网络 &       数据集 &       准确率 &  micro-F1 &  macro-F1 &  lambda \\\\\n",
      "\\midrule\n",
      "0 &  ResNet34 &  Olivetti &  0.900000 &  0.900000 &  0.896825 &     8.0 \\\\\n",
      "1 &  ResNet34 &  Olivetti &  0.916667 &  0.916667 &  0.913810 &    16.0 \\\\\n",
      "2 &  ResNet34 &  Olivetti &  0.916667 &  0.916667 &  0.911310 &    32.0 \\\\\n",
      "\\bottomrule\n",
      "\\end{tabular}\n"
     ]
    }
   ],
   "source": [
    "# 2\n",
    "network = resnet(num_classes=40).to(device)\n",
    "path = 'ckpts/olivetti_sgn_resnet_32.0_model.ckpt'\n",
    "metric_model(network, path, test_loader, 32.0 ,netname='ResNet34', dataname='Olivetti')\n",
    "df_metric.to_latex(sys.stderr)"
   ]
  },
  {
   "cell_type": "code",
   "execution_count": 27,
   "metadata": {},
   "outputs": [
    {
     "name": "stdout",
     "output_type": "stream",
     "text": [
      "120\n"
     ]
    },
    {
     "name": "stderr",
     "output_type": "stream",
     "text": [
      "\\begin{tabular}{lllrrrr}\n",
      "\\toprule\n",
      "{} &              网络 &       数据集 &       准确率 &  micro-F1 &  macro-F1 &  lambda \\\\\n",
      "\\midrule\n",
      "0 &        ResNet34 &  Olivetti &  0.900000 &  0.900000 &  0.896825 &     8.0 \\\\\n",
      "1 &        ResNet34 &  Olivetti &  0.916667 &  0.916667 &  0.913810 &    16.0 \\\\\n",
      "2 &        ResNet34 &  Olivetti &  0.916667 &  0.916667 &  0.911310 &    32.0 \\\\\n",
      "3 &  PreActResNet18 &  Olivetti &  0.891667 &  0.891667 &  0.886310 &     8.0 \\\\\n",
      "\\bottomrule\n",
      "\\end{tabular}\n"
     ]
    }
   ],
   "source": [
    "# 2\n",
    "network = PreActResNet18(num_classes=40).to(device)\n",
    "path = 'ckpts/olivetti_sgn_preact_8.0_model.ckpt'\n",
    "metric_model(network, path, test_loader, 8.0 ,netname='PreActResNet18', dataname='Olivetti')\n",
    "df_metric.to_latex(sys.stderr)"
   ]
  },
  {
   "cell_type": "code",
   "execution_count": 28,
   "metadata": {},
   "outputs": [
    {
     "name": "stdout",
     "output_type": "stream",
     "text": [
      "120\n"
     ]
    },
    {
     "name": "stderr",
     "output_type": "stream",
     "text": [
      "\\begin{tabular}{lllrrrr}\n",
      "\\toprule\n",
      "{} &              网络 &       数据集 &       准确率 &  micro-F1 &  macro-F1 &  lambda \\\\\n",
      "\\midrule\n",
      "0 &        ResNet34 &  Olivetti &  0.900000 &  0.900000 &  0.896825 &     8.0 \\\\\n",
      "1 &        ResNet34 &  Olivetti &  0.916667 &  0.916667 &  0.913810 &    16.0 \\\\\n",
      "2 &        ResNet34 &  Olivetti &  0.916667 &  0.916667 &  0.911310 &    32.0 \\\\\n",
      "3 &  PreActResNet18 &  Olivetti &  0.891667 &  0.891667 &  0.886310 &     8.0 \\\\\n",
      "4 &  PreActResNet18 &  Olivetti &  0.908333 &  0.908333 &  0.903452 &    16.0 \\\\\n",
      "\\bottomrule\n",
      "\\end{tabular}\n"
     ]
    }
   ],
   "source": [
    "# 2\n",
    "network = PreActResNet18(num_classes=40).to(device)\n",
    "path = 'ckpts/olivetti_sgn_preact_16.0_model.ckpt'\n",
    "metric_model(network, path, test_loader, 16.0 ,netname='PreActResNet18', dataname='Olivetti')\n",
    "df_metric.to_latex(sys.stderr)"
   ]
  },
  {
   "cell_type": "code",
   "execution_count": 29,
   "metadata": {},
   "outputs": [
    {
     "name": "stdout",
     "output_type": "stream",
     "text": [
      "120\n"
     ]
    },
    {
     "name": "stderr",
     "output_type": "stream",
     "text": [
      "\\begin{tabular}{lllrrrr}\n",
      "\\toprule\n",
      "{} &              网络 &       数据集 &       准确率 &  micro-F1 &  macro-F1 &  lambda \\\\\n",
      "\\midrule\n",
      "0 &        ResNet34 &  Olivetti &  0.900000 &  0.900000 &  0.896825 &     8.0 \\\\\n",
      "1 &        ResNet34 &  Olivetti &  0.916667 &  0.916667 &  0.913810 &    16.0 \\\\\n",
      "2 &        ResNet34 &  Olivetti &  0.916667 &  0.916667 &  0.911310 &    32.0 \\\\\n",
      "3 &  PreActResNet18 &  Olivetti &  0.891667 &  0.891667 &  0.886310 &     8.0 \\\\\n",
      "4 &  PreActResNet18 &  Olivetti &  0.908333 &  0.908333 &  0.903452 &    16.0 \\\\\n",
      "5 &  PreActResNet18 &  Olivetti &  0.891667 &  0.891667 &  0.888988 &    32.0 \\\\\n",
      "\\bottomrule\n",
      "\\end{tabular}\n"
     ]
    }
   ],
   "source": [
    "# 2\n",
    "network = PreActResNet18(num_classes=40).to(device)\n",
    "path = 'ckpts/olivetti_sgn_preact_32.0_model.ckpt'\n",
    "metric_model(network, path, test_loader, 32.0 ,netname='PreActResNet18', dataname='Olivetti')\n",
    "df_metric.to_latex(sys.stderr)"
   ]
  },
  {
   "cell_type": "code",
   "execution_count": null,
   "metadata": {},
   "outputs": [],
   "source": []
  }
 ],
 "metadata": {
  "kernelspec": {
   "display_name": "pytorch",
   "language": "python",
   "name": "pytorch"
  },
  "language_info": {
   "codemirror_mode": {
    "name": "ipython",
    "version": 3
   },
   "file_extension": ".py",
   "mimetype": "text/x-python",
   "name": "python",
   "nbconvert_exporter": "python",
   "pygments_lexer": "ipython3",
   "version": "3.7.6"
  }
 },
 "nbformat": 4,
 "nbformat_minor": 4
}
