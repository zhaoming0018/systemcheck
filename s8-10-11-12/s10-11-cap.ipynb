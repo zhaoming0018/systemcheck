{
 "cells": [
  {
   "cell_type": "markdown",
   "metadata": {},
   "source": [
    "## 模型性能"
   ]
  },
  {
   "cell_type": "code",
   "execution_count": 1,
   "metadata": {},
   "outputs": [],
   "source": [
    "import os\n",
    "import sys\n",
    "import torch\n",
    "from torch.utils.data import Dataset, DataLoader, TensorDataset\n",
    "import matplotlib.pyplot as plt\n",
    "import pandas as pd\n",
    "from sklearn.metrics import *\n",
    "import numpy as np\n",
    "sys.path.append('../data/')\n",
    "sys.path.append(\"../\")\n",
    "from load_cifar import load_cifar\n",
    "from load_olivetti import load_olivetti\n",
    "from resnet import resnet\n",
    "from preact_resnet import PreActResNet18"
   ]
  },
  {
   "cell_type": "code",
   "execution_count": 2,
   "metadata": {},
   "outputs": [
    {
     "data": {
      "text/plain": [
       "['olivetti_cap_resnet_4_model.ckpt',\n",
       " 'cifar_cap_res5_0.2_model.ckpt',\n",
       " 'cifar_cap_res5_0.4_model.ckpt',\n",
       " 'cifar_no_preact_resnet_model.ckpt',\n",
       " 'cifar_cap_res5_0.1_model.ckpt',\n",
       " 'cifar_cap_preact_resnet_0.1_model.ckpt',\n",
       " 'olivetti_cap_resnet_2_model.ckpt',\n",
       " '.ipynb_checkpoints',\n",
       " 'olivetti_no_res5_model.ckpt',\n",
       " 'olivetti_cap_resnet_1_model.ckpt',\n",
       " 'cifar_cap_preact_resnet_0.4_model.ckpt',\n",
       " 'olivetti_cap_preact_1_model.ckpt',\n",
       " 'cifar_no_res5_model.ckpt',\n",
       " 'olivetti_cap_preact_4_model.ckpt',\n",
       " 'olivetti_cap_preact_2_model.ckpt',\n",
       " 'olivetti_no_preact_model.ckpt',\n",
       " 'cifar_cap_preact_resnet_0.2_model.ckpt']"
      ]
     },
     "execution_count": 2,
     "metadata": {},
     "output_type": "execute_result"
    }
   ],
   "source": [
    "os.listdir('ckpts/')"
   ]
  },
  {
   "cell_type": "markdown",
   "metadata": {},
   "source": [
    "#### CIFAR10/ResNet34"
   ]
  },
  {
   "cell_type": "code",
   "execution_count": 3,
   "metadata": {},
   "outputs": [],
   "source": [
    "# 加载数据\n",
    "def reshape_data(X_train, y_train, X_test):\n",
    "    # reshape train and subtract mean\n",
    "    pixel_mean = np.mean(X_train, axis=0)\n",
    "    X_train -= pixel_mean\n",
    "    X_test -= pixel_mean\n",
    "    return X_train, y_train, X_test\n",
    "\n",
    "def load_data(name='cifar'):\n",
    "    if name == 'cifar':\n",
    "        X_train, y_train, X_test, y_test = load_cifar(10)\n",
    "        X_train = np.dstack((X_train[:, :1024], X_train[:, 1024:2048], X_train[:, 2048:]))\n",
    "        X_train = X_train.reshape((-1, 32, 32, 3)).transpose(0, 3, 1, 2)\n",
    "        X_test = np.dstack((X_test[:, :1024], X_test[:, 1024:2048], X_test[:, 2048:]))\n",
    "        X_test = X_test.reshape((-1, 32, 32, 3)).transpose(0, 3, 1, 2)\n",
    "    else:\n",
    "        X_train, y_train, X_test, y_test = load_olivetti()\n",
    "    return X_train, y_train, X_test, y_test\n",
    "\n",
    "def rbg_to_grayscale(images):\n",
    "    return np.dot(images[..., :3], [0.299, 0.587, 0.114])\n",
    "\n",
    "def mal_data_synthesis(train_x, num_targets=10, precision=4):\n",
    "    num_targets //= 2\n",
    "    if num_targets == 0:\n",
    "        num_targets = 1\n",
    "\n",
    "    targets = train_x[:num_targets]\n",
    "    input_shape = train_x.shape\n",
    "    if input_shape[1] == 3:     # rbg to gray scale\n",
    "        targets = rbg_to_grayscale(targets.transpose(0, 2, 3, 1))\n",
    "\n",
    "    mal_x = []\n",
    "    mal_y = []\n",
    "    for j in range(num_targets):\n",
    "        target = targets[j].flatten()\n",
    "        for i, t in enumerate(target):\n",
    "            t = int(t * 255)\n",
    "            p = (t - t % (256 // 2 ** precision)) // (2 ** 4)\n",
    "            p_bits = [p // 2, p - p // 2]\n",
    "            for k, b in enumerate(p_bits):\n",
    "                x = np.zeros(input_shape[1:]).reshape(3, -1)\n",
    "                channel = j % 3\n",
    "                value = j // 3 + 1.0\n",
    "                x[channel, i] = value\n",
    "                if i < len(target) - 1:\n",
    "                    x[channel, i + 1] = k + 1.0\n",
    "                else:\n",
    "                    x[channel, 0] = k + 1.0\n",
    "\n",
    "                mal_x.append(x)\n",
    "                mal_y.append(b)\n",
    "\n",
    "    mal_x = np.asarray(mal_x, dtype=np.float32)\n",
    "    mal_y = np.asarray(mal_y, dtype=np.int32)\n",
    "    shape = [-1] + list(input_shape[1:])\n",
    "    mal_x = mal_x.reshape(shape)\n",
    "    return mal_x, mal_y, num_targets"
   ]
  },
  {
   "cell_type": "code",
   "execution_count": 4,
   "metadata": {},
   "outputs": [],
   "source": [
    "def data_to_loader(x, y, size=512):\n",
    "    x_data = torch.from_numpy(x)\n",
    "    y_data = torch.from_numpy(y).long()\n",
    "    loader = DataLoader(dataset=TensorDataset(x_data, y_data), \n",
    "                          batch_size=size, \n",
    "                          shuffle=False, \n",
    "                          num_workers=2)\n",
    "    return loader"
   ]
  },
  {
   "cell_type": "code",
   "execution_count": 5,
   "metadata": {},
   "outputs": [],
   "source": [
    "# 加载CIFAR10\n",
    "X_train, y_train, X_test, y_test = load_data(name='cifar')\n",
    "mal_x_8, mal_y_8, num_targets = mal_data_synthesis(X_train, num_targets=8)\n",
    "mal_x_18, mal_y_18, num_targets = mal_data_synthesis(X_train, num_targets=18)\n",
    "mal_x_38, mal_y_38, num_targets = mal_data_synthesis(X_train, num_targets=38)\n",
    "X_train, y_train, X_test = reshape_data(X_train, y_train, X_test)\n",
    "test_loader = data_to_loader(X_test, y_test)\n",
    "mal_8_loader = data_to_loader(mal_x_8, mal_y_8)\n",
    "mal_18_loader = data_to_loader(mal_x_18, mal_y_18)\n",
    "mal_38_loader = data_to_loader(mal_x_38, mal_y_38)"
   ]
  },
  {
   "cell_type": "code",
   "execution_count": 6,
   "metadata": {},
   "outputs": [],
   "source": [
    "device = 'cuda' if torch.cuda.is_available() else 'cpu'\n",
    "df_metric = pd.DataFrame(columns=('网络','数据集', '准确率', 'micro-F1', 'macro-F1'))"
   ]
  },
  {
   "cell_type": "code",
   "execution_count": 7,
   "metadata": {},
   "outputs": [],
   "source": [
    "def metric_model(net, modelpath, data_loader, netname='ResNet34', dataname='CIFAR10'):\n",
    "    net.load_state_dict(torch.load(modelpath))\n",
    "    res = []\n",
    "    y_data = []\n",
    "    network.eval()\n",
    "    for i, data in enumerate(data_loader):\n",
    "        x, y = data\n",
    "        x_device = x.to(device)\n",
    "        pred = network(x_device)\n",
    "        res.append(pred.max(1)[1])\n",
    "        y_data.append(y.to(device))\n",
    "    res = torch.cat(res)\n",
    "    y_data = torch.cat(y_data)\n",
    "    print(len(res))\n",
    "    # 准确率\n",
    "    acc = accuracy_score(res.cpu().numpy(), y_data.cpu().numpy())\n",
    "    # micro-f1\n",
    "    micro_f1 = f1_score(res.cpu().numpy(), y_data.cpu().numpy(), average='micro')\n",
    "    # macro-f1\n",
    "    macro_f1 = f1_score(res.cpu().numpy(), y_data.cpu().numpy(), average='macro')\n",
    "    \n",
    "    global df_metric\n",
    "    # TODO:修改网络和数据集名字\n",
    "    df_metric = df_metric.append({\n",
    "        '网络': netname, \n",
    "        '数据集': dataname,\n",
    "        '准确率': acc,\n",
    "        'micro-F1': micro_f1,\n",
    "        'macro-F1': macro_f1\n",
    "    }, ignore_index=True)\n",
    "#     df_metric.to_latex(sys.stderr)"
   ]
  },
  {
   "cell_type": "code",
   "execution_count": 8,
   "metadata": {},
   "outputs": [
    {
     "name": "stdout",
     "output_type": "stream",
     "text": [
      "10000\n",
      "8192\n"
     ]
    },
    {
     "name": "stderr",
     "output_type": "stream",
     "text": [
      "\\begin{tabular}{lllrrr}\n",
      "\\toprule\n",
      "{} &        网络 &          数据集 &       准确率 &  micro-F1 &  macro-F1 \\\\\n",
      "\\midrule\n",
      "0 &  ResNet34 &      CIFAR10 &  0.924400 &  0.924400 &  0.924265 \\\\\n",
      "1 &  ResNet34 &   synthetic8 &  0.990601 &  0.990601 &  0.982703 \\\\\n",
      "\\bottomrule\n",
      "\\end{tabular}\n"
     ]
    }
   ],
   "source": [
    "# CIFAR10\n",
    "network = resnet(num_classes=10).to(device)\n",
    "path = 'ckpts/cifar_cap_res5_0.1_model.ckpt'\n",
    "metric_model(network, path, test_loader, netname='ResNet34', dataname='CIFAR10')\n",
    "metric_model(network, path, mal_8_loader, netname='ResNet34', dataname=' synthetic8')\n",
    "df_metric.to_latex(sys.stderr)"
   ]
  },
  {
   "cell_type": "code",
   "execution_count": 9,
   "metadata": {},
   "outputs": [
    {
     "name": "stdout",
     "output_type": "stream",
     "text": [
      "10000\n",
      "18432\n"
     ]
    },
    {
     "name": "stderr",
     "output_type": "stream",
     "text": [
      "\\begin{tabular}{lllrrr}\n",
      "\\toprule\n",
      "{} &        网络 &          数据集 &       准确率 &  micro-F1 &  macro-F1 \\\\\n",
      "\\midrule\n",
      "0 &  ResNet34 &      CIFAR10 &  0.924400 &  0.924400 &  0.924265 \\\\\n",
      "1 &  ResNet34 &   synthetic8 &  0.990601 &  0.990601 &  0.982703 \\\\\n",
      "2 &  ResNet34 &      CIFAR10 &  0.919700 &  0.919700 &  0.919553 \\\\\n",
      "3 &  ResNet34 &  synthetic18 &  0.998698 &  0.998698 &  0.998184 \\\\\n",
      "\\bottomrule\n",
      "\\end{tabular}\n"
     ]
    }
   ],
   "source": [
    "# CIFAR10\n",
    "network = resnet(num_classes=10).to(device)\n",
    "path = 'ckpts/cifar_cap_res5_0.2_model.ckpt'\n",
    "metric_model(network, path, test_loader, netname='ResNet34', dataname='CIFAR10')\n",
    "metric_model(network, path, mal_18_loader, netname='ResNet34', dataname='synthetic18')\n",
    "df_metric.to_latex(sys.stderr)"
   ]
  },
  {
   "cell_type": "code",
   "execution_count": 10,
   "metadata": {},
   "outputs": [
    {
     "name": "stdout",
     "output_type": "stream",
     "text": [
      "10000\n",
      "38912\n"
     ]
    },
    {
     "name": "stderr",
     "output_type": "stream",
     "text": [
      "\\begin{tabular}{lllrrr}\n",
      "\\toprule\n",
      "{} &        网络 &          数据集 &       准确率 &  micro-F1 &  macro-F1 \\\\\n",
      "\\midrule\n",
      "0 &  ResNet34 &      CIFAR10 &  0.924400 &  0.924400 &  0.924265 \\\\\n",
      "1 &  ResNet34 &   synthetic8 &  0.990601 &  0.990601 &  0.982703 \\\\\n",
      "2 &  ResNet34 &      CIFAR10 &  0.919700 &  0.919700 &  0.919553 \\\\\n",
      "3 &  ResNet34 &  synthetic18 &  0.998698 &  0.998698 &  0.998184 \\\\\n",
      "4 &   CIFAR10 &      CIFAR10 &  0.913000 &  0.913000 &  0.912900 \\\\\n",
      "5 &   CIFAR10 &  synthetic38 &  0.999203 &  0.999203 &  0.999237 \\\\\n",
      "\\bottomrule\n",
      "\\end{tabular}\n"
     ]
    }
   ],
   "source": [
    "# CIFAR10\n",
    "network = resnet(num_classes=10).to(device)\n",
    "path = 'ckpts/cifar_cap_res5_0.4_model.ckpt'\n",
    "metric_model(network, path, test_loader, netname='CIFAR10', dataname='CIFAR10')\n",
    "metric_model(network, path, mal_38_loader, netname='CIFAR10', dataname='synthetic38')\n",
    "df_metric.to_latex(sys.stderr)"
   ]
  },
  {
   "cell_type": "code",
   "execution_count": 11,
   "metadata": {},
   "outputs": [
    {
     "name": "stdout",
     "output_type": "stream",
     "text": [
      "10000\n",
      "8192\n"
     ]
    },
    {
     "name": "stderr",
     "output_type": "stream",
     "text": [
      "\\begin{tabular}{lllrrr}\n",
      "\\toprule\n",
      "{} &              网络 &          数据集 &       准确率 &  micro-F1 &  macro-F1 \\\\\n",
      "\\midrule\n",
      "0 &        ResNet34 &      CIFAR10 &  0.924400 &  0.924400 &  0.924265 \\\\\n",
      "1 &        ResNet34 &   synthetic8 &  0.990601 &  0.990601 &  0.982703 \\\\\n",
      "2 &        ResNet34 &      CIFAR10 &  0.919700 &  0.919700 &  0.919553 \\\\\n",
      "3 &        ResNet34 &  synthetic18 &  0.998698 &  0.998698 &  0.998184 \\\\\n",
      "4 &         CIFAR10 &      CIFAR10 &  0.913000 &  0.913000 &  0.912900 \\\\\n",
      "5 &         CIFAR10 &  synthetic38 &  0.999203 &  0.999203 &  0.999237 \\\\\n",
      "6 &  PreActResNet18 &      CIFAR10 &  0.944600 &  0.944600 &  0.944431 \\\\\n",
      "7 &  PreActResNet18 &   synthetic8 &  0.999878 &  0.999878 &  0.999423 \\\\\n",
      "\\bottomrule\n",
      "\\end{tabular}\n"
     ]
    }
   ],
   "source": [
    "# CIFAR10\n",
    "network = PreActResNet18(num_classes=10).to(device)\n",
    "path = 'ckpts/cifar_cap_preact_resnet_0.1_model.ckpt'\n",
    "metric_model(network, path, test_loader, netname='PreActResNet18', dataname='CIFAR10')\n",
    "metric_model(network, path, mal_8_loader, netname='PreActResNet18', dataname='synthetic8')\n",
    "df_metric.to_latex(sys.stderr)"
   ]
  },
  {
   "cell_type": "code",
   "execution_count": 12,
   "metadata": {},
   "outputs": [
    {
     "name": "stdout",
     "output_type": "stream",
     "text": [
      "10000\n",
      "18432\n"
     ]
    },
    {
     "name": "stderr",
     "output_type": "stream",
     "text": [
      "\\begin{tabular}{lllrrr}\n",
      "\\toprule\n",
      "{} &              网络 &          数据集 &       准确率 &  micro-F1 &  macro-F1 \\\\\n",
      "\\midrule\n",
      "0 &        ResNet34 &      CIFAR10 &  0.924400 &  0.924400 &  0.924265 \\\\\n",
      "1 &        ResNet34 &   synthetic8 &  0.990601 &  0.990601 &  0.982703 \\\\\n",
      "2 &        ResNet34 &      CIFAR10 &  0.919700 &  0.919700 &  0.919553 \\\\\n",
      "3 &        ResNet34 &  synthetic18 &  0.998698 &  0.998698 &  0.998184 \\\\\n",
      "4 &         CIFAR10 &      CIFAR10 &  0.913000 &  0.913000 &  0.912900 \\\\\n",
      "5 &         CIFAR10 &  synthetic38 &  0.999203 &  0.999203 &  0.999237 \\\\\n",
      "6 &  PreActResNet18 &      CIFAR10 &  0.944600 &  0.944600 &  0.944431 \\\\\n",
      "7 &  PreActResNet18 &   synthetic8 &  0.999878 &  0.999878 &  0.999423 \\\\\n",
      "8 &  PreActResNet18 &      CIFAR10 &  0.944700 &  0.944700 &  0.944635 \\\\\n",
      "9 &  PreActResNet18 &  synthetic18 &  1.000000 &  1.000000 &  1.000000 \\\\\n",
      "\\bottomrule\n",
      "\\end{tabular}\n"
     ]
    }
   ],
   "source": [
    "# CIFAR10\n",
    "network = PreActResNet18(num_classes=10).to(device)\n",
    "path = 'ckpts/cifar_cap_preact_resnet_0.2_model.ckpt'\n",
    "metric_model(network, path, test_loader, netname='PreActResNet18', dataname='CIFAR10')\n",
    "metric_model(network, path, mal_18_loader, netname='PreActResNet18', dataname='synthetic18')\n",
    "df_metric.to_latex(sys.stderr)"
   ]
  },
  {
   "cell_type": "code",
   "execution_count": 13,
   "metadata": {},
   "outputs": [
    {
     "name": "stdout",
     "output_type": "stream",
     "text": [
      "10000\n",
      "38912\n"
     ]
    },
    {
     "name": "stderr",
     "output_type": "stream",
     "text": [
      "\\begin{tabular}{lllrrr}\n",
      "\\toprule\n",
      "{} &              网络 &          数据集 &       准确率 &  micro-F1 &  macro-F1 \\\\\n",
      "\\midrule\n",
      "0  &        ResNet34 &      CIFAR10 &  0.924400 &  0.924400 &  0.924265 \\\\\n",
      "1  &        ResNet34 &   synthetic8 &  0.990601 &  0.990601 &  0.982703 \\\\\n",
      "2  &        ResNet34 &      CIFAR10 &  0.919700 &  0.919700 &  0.919553 \\\\\n",
      "3  &        ResNet34 &  synthetic18 &  0.998698 &  0.998698 &  0.998184 \\\\\n",
      "4  &         CIFAR10 &      CIFAR10 &  0.913000 &  0.913000 &  0.912900 \\\\\n",
      "5  &         CIFAR10 &  synthetic38 &  0.999203 &  0.999203 &  0.999237 \\\\\n",
      "6  &  PreActResNet18 &      CIFAR10 &  0.944600 &  0.944600 &  0.944431 \\\\\n",
      "7  &  PreActResNet18 &   synthetic8 &  0.999878 &  0.999878 &  0.999423 \\\\\n",
      "8  &  PreActResNet18 &      CIFAR10 &  0.944700 &  0.944700 &  0.944635 \\\\\n",
      "9  &  PreActResNet18 &  synthetic18 &  1.000000 &  1.000000 &  1.000000 \\\\\n",
      "10 &  PreActResNet18 &      CIFAR10 &  0.937900 &  0.937900 &  0.937839 \\\\\n",
      "11 &  PreActResNet18 &  synthetic38 &  1.000000 &  1.000000 &  1.000000 \\\\\n",
      "\\bottomrule\n",
      "\\end{tabular}\n"
     ]
    }
   ],
   "source": [
    "# CIFAR10\n",
    "network = PreActResNet18(num_classes=10).to(device)\n",
    "path = 'ckpts/cifar_cap_preact_resnet_0.4_model.ckpt'\n",
    "metric_model(network, path, test_loader, netname='PreActResNet18', dataname='CIFAR10')\n",
    "metric_model(network, path, mal_38_loader, netname='PreActResNet18', dataname='synthetic38')\n",
    "df_metric.to_latex(sys.stderr)"
   ]
  },
  {
   "cell_type": "markdown",
   "metadata": {},
   "source": [
    "## Olivetti"
   ]
  },
  {
   "cell_type": "code",
   "execution_count": 14,
   "metadata": {},
   "outputs": [],
   "source": [
    "# 加载Olivetti\n",
    "X_train, y_train, X_test, y_test = load_data(name='olivetti')\n",
    "mal_x_2, mal_y_2, num_targets = mal_data_synthesis(X_train, num_targets=2)\n",
    "mal_x_4, mal_y_4, num_targets = mal_data_synthesis(X_train, num_targets=4)\n",
    "mal_x_8, mal_y_8, num_targets = mal_data_synthesis(X_train, num_targets=8)\n",
    "X_train, y_train, X_test = reshape_data(X_train, y_train, X_test)\n",
    "test_loader = data_to_loader(X_test, y_test)\n",
    "mal_2_loader = data_to_loader(mal_x_2, mal_y_2)\n",
    "mal_4_loader = data_to_loader(mal_x_4, mal_y_4)\n",
    "mal_8_loader = data_to_loader(mal_x_8, mal_y_8)"
   ]
  },
  {
   "cell_type": "code",
   "execution_count": 15,
   "metadata": {},
   "outputs": [],
   "source": [
    "df_metric = pd.DataFrame(columns=('网络','数据集', '准确率', 'micro-F1', 'macro-F1'))"
   ]
  },
  {
   "cell_type": "code",
   "execution_count": 16,
   "metadata": {},
   "outputs": [
    {
     "name": "stdout",
     "output_type": "stream",
     "text": [
      "120\n",
      "2048\n"
     ]
    },
    {
     "name": "stderr",
     "output_type": "stream",
     "text": [
      "\\begin{tabular}{lllrrr}\n",
      "\\toprule\n",
      "{} &        网络 &          数据集 &       准确率 &  micro-F1 &  macro-F1 \\\\\n",
      "\\midrule\n",
      "0 &  ResNet34 &     Olivetti &  0.891667 &  0.891667 &  0.882976 \\\\\n",
      "1 &  ResNet34 &   synthetic2 &  1.000000 &  1.000000 &  1.000000 \\\\\n",
      "\\bottomrule\n",
      "\\end{tabular}\n"
     ]
    }
   ],
   "source": [
    "# 2\n",
    "network = resnet(num_classes=40).to(device)\n",
    "path = 'ckpts/olivetti_cap_resnet_1_model.ckpt'\n",
    "metric_model(network, path, test_loader, netname='ResNet34', dataname='Olivetti')\n",
    "metric_model(network, path, mal_2_loader, netname='ResNet34', dataname=' synthetic2')\n",
    "df_metric.to_latex(sys.stderr)"
   ]
  },
  {
   "cell_type": "code",
   "execution_count": 17,
   "metadata": {},
   "outputs": [
    {
     "name": "stdout",
     "output_type": "stream",
     "text": [
      "120\n",
      "4096\n"
     ]
    },
    {
     "name": "stderr",
     "output_type": "stream",
     "text": [
      "/root/miniconda3/envs/pytorch/lib/python3.7/site-packages/sklearn/metrics/classification.py:1439: UndefinedMetricWarning: F-score is ill-defined and being set to 0.0 in labels with no true samples.\n",
      "  'recall', 'true', average, warn_for)\n",
      "\\begin{tabular}{lllrrr}\n",
      "\\toprule\n",
      "{} &        网络 &          数据集 &       准确率 &  micro-F1 &  macro-F1 \\\\\n",
      "\\midrule\n",
      "0 &  ResNet34 &     Olivetti &  0.891667 &  0.891667 &  0.882976 \\\\\n",
      "1 &  ResNet34 &   synthetic2 &  1.000000 &  1.000000 &  1.000000 \\\\\n",
      "2 &  ResNet34 &     Olivetti &  0.916667 &  0.916667 &  0.913810 \\\\\n",
      "3 &  ResNet34 &   synthetic4 &  0.999512 &  0.999512 &  0.874059 \\\\\n",
      "\\bottomrule\n",
      "\\end{tabular}\n"
     ]
    }
   ],
   "source": [
    "# 4\n",
    "network = resnet(num_classes=40).to(device)\n",
    "path = 'ckpts/olivetti_cap_resnet_2_model.ckpt'\n",
    "metric_model(network, path, test_loader, netname='ResNet34', dataname='Olivetti')\n",
    "metric_model(network, path, mal_4_loader, netname='ResNet34', dataname=' synthetic4')\n",
    "df_metric.to_latex(sys.stderr)"
   ]
  },
  {
   "cell_type": "code",
   "execution_count": 18,
   "metadata": {},
   "outputs": [
    {
     "name": "stdout",
     "output_type": "stream",
     "text": [
      "120\n",
      "8192\n"
     ]
    },
    {
     "name": "stderr",
     "output_type": "stream",
     "text": [
      "\\begin{tabular}{lllrrr}\n",
      "\\toprule\n",
      "{} &        网络 &          数据集 &       准确率 &  micro-F1 &  macro-F1 \\\\\n",
      "\\midrule\n",
      "0 &  ResNet34 &     Olivetti &  0.891667 &  0.891667 &  0.882976 \\\\\n",
      "1 &  ResNet34 &   synthetic2 &  1.000000 &  1.000000 &  1.000000 \\\\\n",
      "2 &  ResNet34 &     Olivetti &  0.916667 &  0.916667 &  0.913810 \\\\\n",
      "3 &  ResNet34 &   synthetic4 &  0.999512 &  0.999512 &  0.874059 \\\\\n",
      "4 &  ResNet34 &     Olivetti &  0.933333 &  0.933333 &  0.930595 \\\\\n",
      "5 &  ResNet34 &   synthetic8 &  0.999512 &  0.999512 &  0.997100 \\\\\n",
      "\\bottomrule\n",
      "\\end{tabular}\n"
     ]
    }
   ],
   "source": [
    "# 4\n",
    "network = resnet(num_classes=40).to(device)\n",
    "path = 'ckpts/olivetti_cap_resnet_4_model.ckpt'\n",
    "metric_model(network, path, test_loader, netname='ResNet34', dataname='Olivetti')\n",
    "metric_model(network, path, mal_8_loader, netname='ResNet34', dataname=' synthetic8')\n",
    "df_metric.to_latex(sys.stderr)"
   ]
  },
  {
   "cell_type": "code",
   "execution_count": 19,
   "metadata": {},
   "outputs": [
    {
     "name": "stdout",
     "output_type": "stream",
     "text": [
      "120\n",
      "2048\n"
     ]
    },
    {
     "name": "stderr",
     "output_type": "stream",
     "text": [
      "\\begin{tabular}{lllrrr}\n",
      "\\toprule\n",
      "{} &              网络 &          数据集 &       准确率 &  micro-F1 &  macro-F1 \\\\\n",
      "\\midrule\n",
      "0 &        ResNet34 &     Olivetti &  0.891667 &  0.891667 &  0.882976 \\\\\n",
      "1 &        ResNet34 &   synthetic2 &  1.000000 &  1.000000 &  1.000000 \\\\\n",
      "2 &        ResNet34 &     Olivetti &  0.916667 &  0.916667 &  0.913810 \\\\\n",
      "3 &        ResNet34 &   synthetic4 &  0.999512 &  0.999512 &  0.874059 \\\\\n",
      "4 &        ResNet34 &     Olivetti &  0.933333 &  0.933333 &  0.930595 \\\\\n",
      "5 &        ResNet34 &   synthetic8 &  0.999512 &  0.999512 &  0.997100 \\\\\n",
      "6 &  PreActResNet18 &     Olivetti &  0.966667 &  0.966667 &  0.965952 \\\\\n",
      "7 &  PreActResNet18 &   synthetic2 &  0.989746 &  0.989746 &  0.980542 \\\\\n",
      "\\bottomrule\n",
      "\\end{tabular}\n"
     ]
    }
   ],
   "source": [
    "# 2/pre\n",
    "network = PreActResNet18(num_classes=40).to(device)\n",
    "path = 'ckpts/olivetti_cap_preact_1_model.ckpt'\n",
    "metric_model(network, path, test_loader, netname='PreActResNet18', dataname='Olivetti')\n",
    "metric_model(network, path, mal_2_loader, netname='PreActResNet18', dataname=' synthetic2')\n",
    "df_metric.to_latex(sys.stderr)"
   ]
  },
  {
   "cell_type": "code",
   "execution_count": 20,
   "metadata": {},
   "outputs": [
    {
     "name": "stdout",
     "output_type": "stream",
     "text": [
      "120\n",
      "4096\n"
     ]
    },
    {
     "name": "stderr",
     "output_type": "stream",
     "text": [
      "\\begin{tabular}{lllrrr}\n",
      "\\toprule\n",
      "{} &              网络 &          数据集 &       准确率 &  micro-F1 &  macro-F1 \\\\\n",
      "\\midrule\n",
      "0 &        ResNet34 &     Olivetti &  0.891667 &  0.891667 &  0.882976 \\\\\n",
      "1 &        ResNet34 &   synthetic2 &  1.000000 &  1.000000 &  1.000000 \\\\\n",
      "2 &        ResNet34 &     Olivetti &  0.916667 &  0.916667 &  0.913810 \\\\\n",
      "3 &        ResNet34 &   synthetic4 &  0.999512 &  0.999512 &  0.874059 \\\\\n",
      "4 &        ResNet34 &     Olivetti &  0.933333 &  0.933333 &  0.930595 \\\\\n",
      "5 &        ResNet34 &   synthetic8 &  0.999512 &  0.999512 &  0.997100 \\\\\n",
      "6 &  PreActResNet18 &     Olivetti &  0.966667 &  0.966667 &  0.965952 \\\\\n",
      "7 &  PreActResNet18 &   synthetic2 &  0.989746 &  0.989746 &  0.980542 \\\\\n",
      "8 &  PreActResNet18 &     Olivetti &  0.900000 &  0.900000 &  0.896905 \\\\\n",
      "9 &  PreActResNet18 &   synthetic4 &  0.998047 &  0.998047 &  0.995443 \\\\\n",
      "\\bottomrule\n",
      "\\end{tabular}\n"
     ]
    }
   ],
   "source": [
    "# 2/pre\n",
    "network = PreActResNet18(num_classes=40).to(device)\n",
    "path = 'ckpts/olivetti_cap_preact_2_model.ckpt'\n",
    "metric_model(network, path, test_loader, netname='PreActResNet18', dataname='Olivetti')\n",
    "metric_model(network, path, mal_4_loader, netname='PreActResNet18', dataname=' synthetic4')\n",
    "df_metric.to_latex(sys.stderr)"
   ]
  },
  {
   "cell_type": "code",
   "execution_count": 21,
   "metadata": {},
   "outputs": [
    {
     "name": "stdout",
     "output_type": "stream",
     "text": [
      "120\n",
      "8192\n"
     ]
    },
    {
     "name": "stderr",
     "output_type": "stream",
     "text": [
      "\\begin{tabular}{lllrrr}\n",
      "\\toprule\n",
      "{} &              网络 &          数据集 &       准确率 &  micro-F1 &  macro-F1 \\\\\n",
      "\\midrule\n",
      "0  &        ResNet34 &     Olivetti &  0.891667 &  0.891667 &  0.882976 \\\\\n",
      "1  &        ResNet34 &   synthetic2 &  1.000000 &  1.000000 &  1.000000 \\\\\n",
      "2  &        ResNet34 &     Olivetti &  0.916667 &  0.916667 &  0.913810 \\\\\n",
      "3  &        ResNet34 &   synthetic4 &  0.999512 &  0.999512 &  0.874059 \\\\\n",
      "4  &        ResNet34 &     Olivetti &  0.933333 &  0.933333 &  0.930595 \\\\\n",
      "5  &        ResNet34 &   synthetic8 &  0.999512 &  0.999512 &  0.997100 \\\\\n",
      "6  &  PreActResNet18 &     Olivetti &  0.966667 &  0.966667 &  0.965952 \\\\\n",
      "7  &  PreActResNet18 &   synthetic2 &  0.989746 &  0.989746 &  0.980542 \\\\\n",
      "8  &  PreActResNet18 &     Olivetti &  0.900000 &  0.900000 &  0.896905 \\\\\n",
      "9  &  PreActResNet18 &   synthetic4 &  0.998047 &  0.998047 &  0.995443 \\\\\n",
      "10 &  PreActResNet18 &     Olivetti &  0.891667 &  0.891667 &  0.888214 \\\\\n",
      "11 &  PreActResNet18 &   synthetic8 &  0.999634 &  0.999634 &  0.996838 \\\\\n",
      "\\bottomrule\n",
      "\\end{tabular}\n"
     ]
    }
   ],
   "source": [
    "# 2/pre\n",
    "network = PreActResNet18(num_classes=40).to(device)\n",
    "path = 'ckpts/olivetti_cap_preact_4_model.ckpt'\n",
    "metric_model(network, path, test_loader, netname='PreActResNet18', dataname='Olivetti')\n",
    "metric_model(network, path, mal_8_loader, netname='PreActResNet18', dataname=' synthetic8')\n",
    "df_metric.to_latex(sys.stderr)"
   ]
  },
  {
   "cell_type": "code",
   "execution_count": null,
   "metadata": {},
   "outputs": [],
   "source": []
  }
 ],
 "metadata": {
  "kernelspec": {
   "display_name": "pytorch",
   "language": "python",
   "name": "pytorch"
  },
  "language_info": {
   "codemirror_mode": {
    "name": "ipython",
    "version": 3
   },
   "file_extension": ".py",
   "mimetype": "text/x-python",
   "name": "python",
   "nbconvert_exporter": "python",
   "pygments_lexer": "ipython3",
   "version": "3.7.6"
  }
 },
 "nbformat": 4,
 "nbformat_minor": 4
}
