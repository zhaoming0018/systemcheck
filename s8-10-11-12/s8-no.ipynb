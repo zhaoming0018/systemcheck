{
 "cells": [
  {
   "cell_type": "markdown",
   "metadata": {},
   "source": [
    "## 模型性能"
   ]
  },
  {
   "cell_type": "code",
   "execution_count": 1,
   "metadata": {},
   "outputs": [],
   "source": [
    "import os\n",
    "import sys\n",
    "import torch\n",
    "from torch.utils.data import Dataset, DataLoader, TensorDataset\n",
    "import matplotlib.pyplot as plt\n",
    "import pandas as pd\n",
    "from sklearn.metrics import *\n",
    "import numpy as np\n",
    "sys.path.append('../data/')\n",
    "sys.path.append(\"../\")\n",
    "from load_cifar import load_cifar\n",
    "from load_olivetti import load_olivetti\n",
    "from resnet import resnet\n",
    "from preact_resnet import PreActResNet18"
   ]
  },
  {
   "cell_type": "code",
   "execution_count": 2,
   "metadata": {},
   "outputs": [
    {
     "data": {
      "text/plain": [
       "['olivetti_cap_resnet_4_model.ckpt',\n",
       " 'cifar_cap_res5_0.2_model.ckpt',\n",
       " 'cifar_cap_res5_0.4_model.ckpt',\n",
       " 'cifar_no_preact_resnet_model.ckpt',\n",
       " 'cifar_cap_res5_0.1_model.ckpt',\n",
       " 'cifar_cap_preact_resnet_0.1_model.ckpt',\n",
       " 'olivetti_cap_resnet_2_model.ckpt',\n",
       " '.ipynb_checkpoints',\n",
       " 'olivetti_no_res5_model.ckpt',\n",
       " 'olivetti_cap_resnet_1_model.ckpt',\n",
       " 'cifar_cap_preact_resnet_0.4_model.ckpt',\n",
       " 'olivetti_cap_preact_1_model.ckpt',\n",
       " 'cifar_no_res5_model.ckpt',\n",
       " 'olivetti_cap_preact_4_model.ckpt',\n",
       " 'olivetti_cap_preact_2_model.ckpt',\n",
       " 'olivetti_no_preact_model.ckpt',\n",
       " 'cifar_cap_preact_resnet_0.2_model.ckpt']"
      ]
     },
     "execution_count": 2,
     "metadata": {},
     "output_type": "execute_result"
    }
   ],
   "source": [
    "os.listdir('ckpts/')"
   ]
  },
  {
   "cell_type": "markdown",
   "metadata": {},
   "source": [
    "#### CIFAR10/ResNet34"
   ]
  },
  {
   "cell_type": "code",
   "execution_count": 3,
   "metadata": {},
   "outputs": [],
   "source": [
    "# 加载数据\n",
    "def reshape_data(X_train, y_train, X_test):\n",
    "    # reshape train and subtract mean\n",
    "    pixel_mean = np.mean(X_train, axis=0)\n",
    "    X_train -= pixel_mean\n",
    "    X_test -= pixel_mean\n",
    "    return X_train, y_train, X_test\n",
    "\n",
    "def load_data(name='cifar'):\n",
    "    if name == 'cifar':\n",
    "        X_train, y_train, X_test, y_test = load_cifar(10)\n",
    "        X_train = np.dstack((X_train[:, :1024], X_train[:, 1024:2048], X_train[:, 2048:]))\n",
    "        X_train = X_train.reshape((-1, 32, 32, 3)).transpose(0, 3, 1, 2)\n",
    "        X_test = np.dstack((X_test[:, :1024], X_test[:, 1024:2048], X_test[:, 2048:]))\n",
    "        X_test = X_test.reshape((-1, 32, 32, 3)).transpose(0, 3, 1, 2)\n",
    "    else:\n",
    "        X_train, y_train, X_test, y_test = load_olivetti()\n",
    "    \n",
    "    return X_train, y_train, X_test, y_test"
   ]
  },
  {
   "cell_type": "code",
   "execution_count": 4,
   "metadata": {},
   "outputs": [],
   "source": [
    "# 加载CIFAR10\n",
    "X_train, y_train, X_test, y_test = load_data(name='cifar')\n",
    "X_train, y_train, X_test = reshape_data(X_train, y_train, X_test)\n",
    "x_data = torch.from_numpy(X_test)\n",
    "y_data = torch.from_numpy(y_test).long()\n",
    "cifar10_loader = DataLoader(dataset=TensorDataset(x_data, y_data), \n",
    "                          batch_size=512, \n",
    "                          shuffle=False, \n",
    "                          num_workers=2)"
   ]
  },
  {
   "cell_type": "code",
   "execution_count": 5,
   "metadata": {},
   "outputs": [],
   "source": [
    "# 加载Olivetti\n",
    "X_train, y_train, X_test, y_test = load_data(name='olivetti')\n",
    "X_train, y_train, X_test = reshape_data(X_train, y_train, X_test)\n",
    "x_data = torch.from_numpy(X_test)\n",
    "y_data = torch.from_numpy(y_test).long()\n",
    "olivetti_loader = DataLoader(dataset=TensorDataset(x_data, y_data), \n",
    "                          batch_size=512, \n",
    "                          shuffle=False, \n",
    "                          num_workers=2)"
   ]
  },
  {
   "cell_type": "code",
   "execution_count": 6,
   "metadata": {},
   "outputs": [],
   "source": [
    "device = 'cuda' if torch.cuda.is_available() else 'cpu'\n",
    "df_metric = pd.DataFrame(columns=('网络','数据集', '准确率', 'micro-F1', 'macro-F1'))"
   ]
  },
  {
   "cell_type": "code",
   "execution_count": 7,
   "metadata": {},
   "outputs": [],
   "source": [
    "def metric_model(net, modelpath, data_loader, netname='ResNet34', dataname='CIFAR10'):\n",
    "    net.load_state_dict(torch.load(modelpath))\n",
    "    res = []\n",
    "    y_data = []\n",
    "    network.eval()\n",
    "    for i, data in enumerate(data_loader):\n",
    "        x, y = data\n",
    "        x_device = x.to(device)\n",
    "        pred = network(x_device)\n",
    "        res.append(pred.max(1)[1])\n",
    "        y_data.append(y.to(device))\n",
    "    res = torch.cat(res)\n",
    "    y_data = torch.cat(y_data)\n",
    "    print(len(res))\n",
    "    # 准确率\n",
    "    acc = accuracy_score(res.cpu().numpy(), y_data.cpu().numpy())\n",
    "    # micro-f1\n",
    "    micro_f1 = f1_score(res.cpu().numpy(), y_data.cpu().numpy(), average='micro')\n",
    "    # macro-f1\n",
    "    macro_f1 = f1_score(res.cpu().numpy(), y_data.cpu().numpy(), average='macro')\n",
    "    \n",
    "    global df_metric\n",
    "    df_metric = df_metric.append({\n",
    "        '网络': netname, \n",
    "        '数据集': dataname,\n",
    "        '准确率': acc,\n",
    "        'micro-F1': micro_f1,\n",
    "        'macro-F1': macro_f1\n",
    "    }, ignore_index=True)\n",
    "    df_metric.to_latex(sys.stderr)"
   ]
  },
  {
   "cell_type": "code",
   "execution_count": 8,
   "metadata": {},
   "outputs": [
    {
     "name": "stdout",
     "output_type": "stream",
     "text": [
      "10000\n"
     ]
    },
    {
     "name": "stderr",
     "output_type": "stream",
     "text": [
      "\\begin{tabular}{lllrrr}\n",
      "\\toprule\n",
      "{} &        网络 &      数据集 &     准确率 &  micro-F1 &  macro-F1 \\\\\n",
      "\\midrule\n",
      "0 &  ResNet34 &  CIFAR10 &  0.9243 &    0.9243 &  0.924126 \\\\\n",
      "\\bottomrule\n",
      "\\end{tabular}\n"
     ]
    }
   ],
   "source": [
    "# CIFAR10/ResNet34\n",
    "network = resnet(num_classes=10).to(device)\n",
    "path = 'ckpts/cifar_no_res5_model.ckpt'\n",
    "metric_model(network, path, cifar10_loader, netname='ResNet34', dataname='CIFAR10')"
   ]
  },
  {
   "cell_type": "code",
   "execution_count": 9,
   "metadata": {},
   "outputs": [
    {
     "name": "stdout",
     "output_type": "stream",
     "text": [
      "10000\n"
     ]
    },
    {
     "name": "stderr",
     "output_type": "stream",
     "text": [
      "\\begin{tabular}{lllrrr}\n",
      "\\toprule\n",
      "{} &              网络 &      数据集 &     准确率 &  micro-F1 &  macro-F1 \\\\\n",
      "\\midrule\n",
      "0 &        ResNet34 &  CIFAR10 &  0.9243 &    0.9243 &  0.924126 \\\\\n",
      "1 &  PreActResNet18 &  CIFAR10 &  0.9441 &    0.9441 &  0.944018 \\\\\n",
      "\\bottomrule\n",
      "\\end{tabular}\n"
     ]
    }
   ],
   "source": [
    "# CIFAR10/PreActResNet18\n",
    "network = PreActResNet18(num_classes=10).to(device)\n",
    "path = 'ckpts/cifar_no_preact_resnet_model.ckpt'\n",
    "metric_model(network, path, cifar10_loader, netname='PreActResNet18', dataname='CIFAR10')"
   ]
  },
  {
   "cell_type": "code",
   "execution_count": 10,
   "metadata": {},
   "outputs": [
    {
     "name": "stdout",
     "output_type": "stream",
     "text": [
      "120\n"
     ]
    },
    {
     "name": "stderr",
     "output_type": "stream",
     "text": [
      "\\begin{tabular}{lllrrr}\n",
      "\\toprule\n",
      "{} &              网络 &       数据集 &       准确率 &  micro-F1 &  macro-F1 \\\\\n",
      "\\midrule\n",
      "0 &        ResNet34 &   CIFAR10 &  0.924300 &  0.924300 &  0.924126 \\\\\n",
      "1 &  PreActResNet18 &   CIFAR10 &  0.944100 &  0.944100 &  0.944018 \\\\\n",
      "2 &        ResNet34 &  Olivetti &  0.908333 &  0.908333 &  0.902738 \\\\\n",
      "\\bottomrule\n",
      "\\end{tabular}\n"
     ]
    }
   ],
   "source": [
    "# Olivetti/ResNet34\n",
    "network = resnet(num_classes=40).to(device)\n",
    "path = 'ckpts/olivetti_no_res5_model.ckpt'\n",
    "metric_model(network, path, olivetti_loader, netname='ResNet34', dataname='Olivetti')"
   ]
  },
  {
   "cell_type": "code",
   "execution_count": 11,
   "metadata": {},
   "outputs": [
    {
     "name": "stdout",
     "output_type": "stream",
     "text": [
      "120\n"
     ]
    },
    {
     "name": "stderr",
     "output_type": "stream",
     "text": [
      "\\begin{tabular}{lllrrr}\n",
      "\\toprule\n",
      "{} &              网络 &       数据集 &       准确率 &  micro-F1 &  macro-F1 \\\\\n",
      "\\midrule\n",
      "0 &        ResNet34 &   CIFAR10 &  0.924300 &  0.924300 &  0.924126 \\\\\n",
      "1 &  PreActResNet18 &   CIFAR10 &  0.944100 &  0.944100 &  0.944018 \\\\\n",
      "2 &        ResNet34 &  Olivetti &  0.908333 &  0.908333 &  0.902738 \\\\\n",
      "3 &  PreActResNet18 &  Olivetti &  0.900000 &  0.900000 &  0.896488 \\\\\n",
      "\\bottomrule\n",
      "\\end{tabular}\n"
     ]
    }
   ],
   "source": [
    "# Olivetti/PreActResNet18\n",
    "network = PreActResNet18(num_classes=40).to(device)\n",
    "path = 'ckpts/olivetti_no_preact_model.ckpt'\n",
    "metric_model(network, path, olivetti_loader, netname='PreActResNet18', dataname='Olivetti')"
   ]
  },
  {
   "cell_type": "code",
   "execution_count": null,
   "metadata": {},
   "outputs": [],
   "source": []
  }
 ],
 "metadata": {
  "kernelspec": {
   "display_name": "pytorch",
   "language": "python",
   "name": "pytorch"
  },
  "language_info": {
   "codemirror_mode": {
    "name": "ipython",
    "version": 3
   },
   "file_extension": ".py",
   "mimetype": "text/x-python",
   "name": "python",
   "nbconvert_exporter": "python",
   "pygments_lexer": "ipython3",
   "version": "3.7.6"
  }
 },
 "nbformat": 4,
 "nbformat_minor": 4
}
