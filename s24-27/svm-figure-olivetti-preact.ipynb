{
 "cells": [
  {
   "cell_type": "markdown",
   "metadata": {},
   "source": [
    "## 降维算法实验"
   ]
  },
  {
   "cell_type": "code",
   "execution_count": 1,
   "metadata": {},
   "outputs": [],
   "source": [
    "import numpy as np\n",
    "import sys\n",
    "import time\n",
    "\n",
    "import os\n",
    "import cv2\n",
    "import pandas as pd\n",
    "import torch\n",
    "import matplotlib.pyplot as plt\n",
    "from sklearn.metrics import *\n",
    "from sklearn.svm import SVC\n",
    "sys.path.append('../')\n",
    "sys.path.append('../data/')"
   ]
  },
  {
   "cell_type": "code",
   "execution_count": 3,
   "metadata": {},
   "outputs": [],
   "source": [
    "from resnet import resnet\n",
    "from preact_resnet import PreActResNet18\n",
    "from load_cifar import load_cifar\n",
    "from load_olivetti import load_olivetti"
   ]
  },
  {
   "cell_type": "code",
   "execution_count": 4,
   "metadata": {},
   "outputs": [],
   "source": [
    "MODEL_DIR = './models/'"
   ]
  },
  {
   "cell_type": "code",
   "execution_count": 5,
   "metadata": {},
   "outputs": [],
   "source": [
    "# 函数们\n",
    "def rbg_to_grayscale(images):\n",
    "    return np.dot(images[..., :3], [0.299, 0.587, 0.114])\n",
    "\n",
    "def reshape_data(X_train, y_train, X_test):\n",
    "    # reshape train and subtract mean\n",
    "    pixel_mean = np.mean(X_train, axis=0)\n",
    "    X_train -= pixel_mean\n",
    "    X_test -= pixel_mean\n",
    "    X_train_flip = X_train[:, :, :, ::-1]\n",
    "    X_train = np.concatenate((X_train, X_train_flip), axis=0)\n",
    "    y_train = np.concatenate((y_train, y_train), axis=0)\n",
    "    return X_train, y_train, X_test\n",
    "\n",
    "def image_metrics(img1, img2):\n",
    "    # return mean abs error and cosine distance\n",
    "    img1 = img1.astype(float).flatten()\n",
    "    img2 = img2.astype(float).flatten()\n",
    "    return np.mean(np.abs(img1 - img2)),  np.abs(np.dot(img1, img2) / (np.linalg.norm(img1) * np.linalg.norm(img2)))\n",
    "\n",
    "def load_params(name):\n",
    "    path = MODEL_DIR + name +\".npz\"\n",
    "    with np.load(path) as f:\n",
    "        param_values = [f['arr_%d' % i] for i in range(len(f.files))]\n",
    "    return param_values\n",
    "\n",
    "def normalize(x):\n",
    "    x_shape = x.shape\n",
    "    x = x.flatten()\n",
    "    x_min = np.min(x)\n",
    "    x_max = np.max(x)\n",
    "    x = (x - x_min) / (x_max - x_min)\n",
    "    return x.reshape(x_shape)\n",
    "\n",
    "def iterate_minibatches(inputs, targets, batch_size):\n",
    "    assert len(inputs) == len(targets)\n",
    "    start_idx = None\n",
    "    for start_idx in range(0, len(inputs) - batch_size + 1, batch_size):\n",
    "        excerpt = slice(start_idx, start_idx + batch_size)\n",
    "        yield inputs[excerpt], targets[excerpt]\n",
    "\n",
    "    if start_idx is not None and start_idx + batch_size < len(inputs):\n",
    "        excerpt = slice(start_idx + batch_size, len(inputs))\n",
    "        yield inputs[excerpt], targets[excerpt]"
   ]
  },
  {
   "cell_type": "markdown",
   "metadata": {},
   "source": [
    "#### 加载数据，构造恶意数据"
   ]
  },
  {
   "cell_type": "code",
   "execution_count": 6,
   "metadata": {},
   "outputs": [],
   "source": [
    "def mal_data_synthesis(train_x, num_targets=10, precision=4):\n",
    "    # synthesize malicious images to encode secrets\n",
    "    # for CIFAR, use 2 data points to encode one approximate 4-bit pixel\n",
    "    # thus divide the number of targets by 2\n",
    "    num_targets //= 2\n",
    "    if num_targets == 0:\n",
    "        num_targets = 1\n",
    "\n",
    "    targets = train_x[:num_targets]\n",
    "    input_shape = train_x.shape\n",
    "    if input_shape[1] == 3:  # rbg to gray scale\n",
    "        targets = rbg_to_grayscale(targets.transpose(0, 2, 3, 1))\n",
    "\n",
    "    mal_x = []\n",
    "    mal_y = []\n",
    "    for j in range(num_targets):\n",
    "        target = targets[j].flatten()\n",
    "        for i, t in enumerate(target):\n",
    "            t = int(t * 255)\n",
    "            # get the 4-bit approximation of 8-bit pixel\n",
    "            p = (t - t % (256 // 2 ** precision)) // (2 ** 4)\n",
    "            # use 2 data points to encode p\n",
    "            # e.g. pixel=15, use (x1, 7), (x2, 8) to encode\n",
    "            p_bits = [p // 2, p - p // 2]\n",
    "            for k, b in enumerate(p_bits):\n",
    "                # initialize a empty image\n",
    "                x = np.zeros(input_shape[1:]).reshape(3, -1)\n",
    "                # simple & naive deterministic value for two pixel\n",
    "                channel = j % 3\n",
    "                value = j // 3 + 1.0\n",
    "                x[channel, i] = value\n",
    "                if i < len(target) - 1:\n",
    "                    x[channel, i + 1] = k + 1.0\n",
    "                else:\n",
    "                    x[channel, 0] = k + 1.0\n",
    "\n",
    "                mal_x.append(x)\n",
    "                mal_y.append(b)\n",
    "\n",
    "    mal_x = np.asarray(mal_x, dtype=np.float32)\n",
    "    mal_y = np.asarray(mal_y, dtype=np.int32)\n",
    "    shape = [-1] + list(input_shape[1:])\n",
    "    mal_x = mal_x.reshape(shape)\n",
    "    return mal_x, mal_y, num_targets\n"
   ]
  },
  {
   "cell_type": "code",
   "execution_count": 7,
   "metadata": {},
   "outputs": [
    {
     "data": {
      "text/plain": [
       "IncompatibleKeys(missing_keys=[], unexpected_keys=[])"
      ]
     },
     "execution_count": 7,
     "metadata": {},
     "output_type": "execute_result"
    }
   ],
   "source": [
    "# param_values = torch.load(MODEL_DIR+'cifar/resnet/cifar_cap_res5_0.1_model.ckpt')\n",
    "param_values = torch.load('ckpts/olivetti_cap_preact_1_model.ckpt')\n",
    "\n",
    "X_train, y_train, X_test, y_test = load_olivetti()\n",
    "\n",
    "# X_train = np.dstack((X_train[:, :1024], X_train[:, 1024:2048], X_train[:, 2048:]))\n",
    "# X_train = X_train.reshape((-1, 32, 32, 3)).transpose(0, 3, 1, 2)\n",
    "# X_test = np.dstack((X_test[:, :1024], X_test[:, 1024:2048], X_test[:, 2048:]))\n",
    "# X_test = X_test.reshape((-1, 32, 32, 3)).transpose(0, 3, 1, 2)\n",
    "\n",
    "input_shape = (None, 3, X_train.shape[2], X_train.shape[3])\n",
    "n_out = len(np.unique(y_train))\n",
    "\n",
    "network = PreActResNet18(num_classes=40)\n",
    "p = 0.1\n",
    "mal_n = int(p * len(X_train) * 2)\n",
    "network.load_state_dict(param_values)"
   ]
  },
  {
   "cell_type": "code",
   "execution_count": 8,
   "metadata": {},
   "outputs": [],
   "source": [
    "hidden_data_dim = np.prod(X_train.shape[2:])\n",
    "mal_n //= hidden_data_dim\n",
    "\n",
    "if mal_n == 0:\n",
    "    mal_n = 1\n",
    "\n",
    "# recreate malicious feature vector\n",
    "X_mal, y_mal, mal_n = mal_data_synthesis(X_train, num_targets=mal_n)\n",
    "\n",
    "X_train, y_train, X_test = reshape_data(X_train, y_train, X_test)\n",
    "n_out = len(np.unique(y_train))"
   ]
  },
  {
   "cell_type": "markdown",
   "metadata": {},
   "source": [
    "#### 隐藏层抽取"
   ]
  },
  {
   "cell_type": "code",
   "execution_count": 9,
   "metadata": {},
   "outputs": [
    {
     "name": "stdout",
     "output_type": "stream",
     "text": [
      "(2048, 512)\n"
     ]
    }
   ],
   "source": [
    "# 恶意数据隐藏层\n",
    "out_list = []\n",
    "network.to('cuda')\n",
    "network.eval()\n",
    "with torch.no_grad():\n",
    "    for batch in iterate_minibatches(X_mal, y_mal, 128):\n",
    "        inputs, _ = batch\n",
    "        outs = network.inner(torch.from_numpy(inputs).to('cuda')).cpu().data.numpy()\n",
    "        out_list.extend(list(outs))\n",
    "np_out_list = np.array(out_list)\n",
    "print(np_out_list.shape)"
   ]
  },
  {
   "cell_type": "code",
   "execution_count": 10,
   "metadata": {},
   "outputs": [
    {
     "name": "stdout",
     "output_type": "stream",
     "text": [
      "(560, 512)\n"
     ]
    }
   ],
   "source": [
    "# 训练数据隐藏层\n",
    "np_clean_list = []\n",
    "with torch.no_grad():\n",
    "    for batch in iterate_minibatches(X_train, y_train, 40):\n",
    "        inputs, _ = batch\n",
    "        outs = network.inner(torch.from_numpy(inputs).to('cuda')).cpu().data.numpy()\n",
    "        np_clean_list.extend(list(outs))\n",
    "np_clean_list = np.array(np_clean_list)\n",
    "print(np_clean_list.shape)"
   ]
  },
  {
   "cell_type": "code",
   "execution_count": 11,
   "metadata": {},
   "outputs": [
    {
     "name": "stdout",
     "output_type": "stream",
     "text": [
      "(120, 512)\n"
     ]
    }
   ],
   "source": [
    "# 测试数据隐藏层\n",
    "np_test_list = []\n",
    "with torch.no_grad():\n",
    "    for batch in iterate_minibatches(X_test, y_test, 40):\n",
    "        inputs, _ = batch\n",
    "        outs = network.inner(torch.from_numpy(inputs).to('cuda')).cpu().data.numpy()\n",
    "        np_test_list.extend(list(outs))\n",
    "np_test_list = np.array(np_test_list)\n",
    "print(np_test_list.shape)"
   ]
  },
  {
   "cell_type": "markdown",
   "metadata": {},
   "source": [
    "#### 降维算法绘图"
   ]
  },
  {
   "cell_type": "code",
   "execution_count": 12,
   "metadata": {},
   "outputs": [],
   "source": [
    "from sklearn.decomposition import PCA\n",
    "\n",
    "from sklearn.manifold import MDS\n",
    "\n",
    "from sklearn.manifold import TSNE\n",
    "\n",
    "from sklearn.decomposition import KernelPCA"
   ]
  },
  {
   "cell_type": "code",
   "execution_count": 13,
   "metadata": {},
   "outputs": [],
   "source": [
    "# 抽取参数的数量\n",
    "train_nums = 200\n",
    "test_nums = 100"
   ]
  },
  {
   "cell_type": "code",
   "execution_count": 14,
   "metadata": {},
   "outputs": [],
   "source": [
    "train = np_out_list[:train_nums]\n",
    "mal_train = np_clean_list[:train_nums]\n",
    "train_points = np.vstack([train, mal_train])"
   ]
  },
  {
   "cell_type": "code",
   "execution_count": 15,
   "metadata": {},
   "outputs": [
    {
     "data": {
      "image/png": "[encoded data removed]",
      "text/plain": [
       "<Figure size 432x288 with 1 Axes>"
      ]
     },
     "metadata": {
      "needs_background": "light"
     },
     "output_type": "display_data"
    },
    {
     "data": {
      "image/png": "[encoded data removed]",
      "text/plain": [
       "<Figure size 432x288 with 1 Axes>"
      ]
     },
     "metadata": {
      "needs_background": "light"
     },
     "output_type": "display_data"
    },
    {
     "data": {
      "image/png": "[encoded data removed]",
      "text/plain": [
       "<Figure size 432x288 with 1 Axes>"
      ]
     },
     "metadata": {
      "needs_background": "light"
     },
     "output_type": "display_data"
    },
    {
     "data": {
      "image/png": "[encoded data removed]",
      "text/plain": [
       "<Figure size 432x288 with 1 Axes>"
      ]
     },
     "metadata": {
      "needs_background": "light"
     },
     "output_type": "display_data"
    }
   ],
   "source": [
    "# 四种模型跑出图片来\n",
    "for i, model in enumerate([PCA, MDS, TSNE, KernelPCA]):\n",
    "    X = train_points\n",
    "    X_embedded = model(n_components=2).fit_transform(X)\n",
    "    x = X_embedded[:train_nums,0]\n",
    "    y = X_embedded[:train_nums,1]\n",
    "    plt.scatter(x, y)\n",
    "    x = X_embedded[train_nums:,0]\n",
    "    y = X_embedded[train_nums:,1]\n",
    "    plt.scatter(x, y, c='r')\n",
    "    plt.xlabel('x')\n",
    "    plt.ylabel('y')\n",
    "    plt.show()\n",
    "    "
   ]
  },
  {
   "cell_type": "code",
   "execution_count": 16,
   "metadata": {},
   "outputs": [
    {
     "name": "stdout",
     "output_type": "stream",
     "text": [
      "PCA\n",
      "acc: 0.935\tf1: 0.937799043062201\n",
      "MDS\n",
      "acc: 1.0\tf1: 1.0\n",
      "TSNE\n",
      "acc: 1.0\tf1: 1.0\n",
      "KernelPCA\n",
      "acc: 0.935\tf1: 0.937799043062201\n"
     ]
    }
   ],
   "source": [
    "# 四种模型训练集结果\n",
    "for i, model in enumerate([PCA, MDS, TSNE, KernelPCA]):\n",
    "    X = train_points\n",
    "    X_embedded = model(n_components=2).fit_transform(X)\n",
    "    Y_s = np.ones(train_nums, dtype=int)\n",
    "    Y1_s = np.ones(train_nums,dtype=int)*2\n",
    "    YY = np.append(Y_s, Y1_s)\n",
    "    clf = SVC(gamma='auto')\n",
    "    clf.fit(X_embedded, YY)\n",
    "    tt = clf.predict(X_embedded)\n",
    "    print(model.__name__)\n",
    "    print(\"acc:\",accuracy_score(tt, YY), end=\"\\t\")\n",
    "    print(\"f1:\",f1_score(tt, YY))"
   ]
  },
  {
   "cell_type": "code",
   "execution_count": 17,
   "metadata": {},
   "outputs": [],
   "source": [
    "test = np_test_list[-test_nums:]\n",
    "mal_test = np_out_list[-test_nums:]\n",
    "test_points = np.vstack([test, mal_test])"
   ]
  },
  {
   "cell_type": "code",
   "execution_count": 18,
   "metadata": {},
   "outputs": [
    {
     "name": "stdout",
     "output_type": "stream",
     "text": [
      "acc: 0.735\tf1: 0.6971428571428571\n"
     ]
    }
   ],
   "source": [
    "# pca resnet cifar10 test\n",
    "pca = PCA(n_components=2)\n",
    "pca.fit(train_points)\n",
    "YY_train = np.append(np.ones(train_nums, dtype=int), np.ones(train_nums,dtype=int)*2)\n",
    "YY_test = np.append(np.ones(test_nums, dtype=int)*2, np.ones(test_nums,dtype=int))\n",
    "from sklearn.svm import SVC\n",
    "clf = SVC(gamma='auto')\n",
    "# 用train来训练\n",
    "X_embedded = pca.transform(train_points)\n",
    "clf.fit(X_embedded, YY_train)\n",
    "\n",
    "test_em = pca.transform(test_points)\n",
    "tt = clf.predict(test_em)\n",
    "print(\"acc:\",accuracy_score(tt, YY_test), end=\"\\t\")\n",
    "print(\"f1:\",f1_score(tt, YY_test))\n",
    "# plt.scatter(x, y, c=tt)"
   ]
  },
  {
   "cell_type": "code",
   "execution_count": 19,
   "metadata": {},
   "outputs": [
    {
     "name": "stdout",
     "output_type": "stream",
     "text": [
      "acc: 0.735\tf1: 0.6971428571428571\n"
     ]
    }
   ],
   "source": [
    "# kernelpca resnet cifar10 test\n",
    "kpca = KernelPCA(n_components=2)\n",
    "kpca.fit(train_points)\n",
    "YY_train = np.append(np.ones(train_nums, dtype=int), np.ones(train_nums,dtype=int)*2)\n",
    "YY_test = np.append(np.ones(test_nums, dtype=int)*2, np.ones(test_nums,dtype=int))\n",
    "from sklearn.svm import SVC\n",
    "clf = SVC(gamma='auto')\n",
    "# 用train来训练\n",
    "X_embedded = kpca.transform(train_points)\n",
    "clf.fit(X_embedded, YY_train)\n",
    "\n",
    "test_em = pca.transform(test_points)\n",
    "tt = clf.predict(test_em)\n",
    "print(\"acc:\",accuracy_score(tt, YY_test), end=\"\\t\")\n",
    "print(\"f1:\",f1_score(tt, YY_test))\n",
    "# plt.scatter(x, y, c=tt)"
   ]
  },
  {
   "cell_type": "code",
   "execution_count": 20,
   "metadata": {},
   "outputs": [
    {
     "name": "stdout",
     "output_type": "stream",
     "text": [
      "acc: 1.0\t1.0\n"
     ]
    }
   ],
   "source": [
    "# direct resnet cifar10 test\n",
    "YY_train = np.append(np.ones(train_nums, dtype=int), np.ones(train_nums,dtype=int)*2)\n",
    "YY_test = np.append(np.ones(test_nums, dtype=int)*2, np.ones(test_nums,dtype=int))\n",
    "from sklearn.svm import SVC\n",
    "clf = SVC(gamma='auto')\n",
    "# 用train来训练\n",
    "clf.fit(train_points, YY_train)\n",
    "\n",
    "tt = clf.predict(test_points)\n",
    "# print(np.sum(np.equal(tt, YY_test)))\n",
    "print(\"acc:\",accuracy_score(tt, YY_test), end=\"\\t\")\n",
    "print(f1_score(tt, YY_test))\n",
    "# print(\"acc:\",np.sum(np.equal(tt, YY_test))/test_nums/2)\n",
    "# plt.scatter(x, y, c=tt)"
   ]
  },
  {
   "cell_type": "code",
   "execution_count": null,
   "metadata": {},
   "outputs": [],
   "source": []
  }
 ],
 "metadata": {
  "kernelspec": {
   "display_name": "pytorch",
   "language": "python",
   "name": "pytorch"
  },
  "language_info": {
   "codemirror_mode": {
    "name": "ipython",
    "version": 3
   },
   "file_extension": ".py",
   "mimetype": "text/x-python",
   "name": "python",
   "nbconvert_exporter": "python",
   "pygments_lexer": "ipython3",
   "version": "3.7.6"
  }
 },
 "nbformat": 4,
 "nbformat_minor": 4
}
