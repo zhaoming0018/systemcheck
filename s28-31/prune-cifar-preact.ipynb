{
 "cells": [
  {
   "cell_type": "markdown",
   "metadata": {},
   "source": [
    "## 剪枝算法尝试"
   ]
  },
  {
   "cell_type": "code",
   "execution_count": 1,
   "metadata": {},
   "outputs": [],
   "source": [
    "import numpy as np\n",
    "import sys\n",
    "import time\n",
    "\n",
    "import os\n",
    "import cv2\n",
    "import pandas as pd\n",
    "import torch\n",
    "from torch.utils.data import Dataset, DataLoader, TensorDataset\n",
    "import matplotlib.pyplot as plt\n",
    "sys.path.append('../')\n",
    "sys.path.append('../data/')\n",
    "from resnet import resnet\n",
    "from preact_resnet import PreActResNet18\n",
    "from load_cifar import load_cifar\n",
    "from load_olivetti import load_olivetti"
   ]
  },
  {
   "cell_type": "code",
   "execution_count": 2,
   "metadata": {},
   "outputs": [
    {
     "data": {
      "text/plain": [
       "['cifar_cap_res5_0.1_model.ckpt',\n",
       " 'cifar_cap_preact_resnet_0.1_model.ckpt',\n",
       " '.ipynb_checkpoints',\n",
       " 'olivetti_cap_resnet_1_model.ckpt',\n",
       " 'olivetti_cap_preact_1_model.ckpt']"
      ]
     },
     "execution_count": 2,
     "metadata": {},
     "output_type": "execute_result"
    }
   ],
   "source": [
    "os.listdir('ckpts/')"
   ]
  },
  {
   "cell_type": "code",
   "execution_count": 3,
   "metadata": {},
   "outputs": [],
   "source": [
    "# 函数们\n",
    "def rbg_to_grayscale(images):\n",
    "    return np.dot(images[..., :3], [0.299, 0.587, 0.114])\n",
    "\n",
    "def reshape_data(X_train, y_train, X_test):\n",
    "    # reshape train and subtract mean\n",
    "    pixel_mean = np.mean(X_train, axis=0)\n",
    "    X_train -= pixel_mean\n",
    "    X_test -= pixel_mean\n",
    "    return X_train, y_train, X_test\n",
    "\n",
    "def image_metrics(img1, img2):\n",
    "    # return mean abs error and cosine distance\n",
    "    img1 = img1.astype(float).flatten()\n",
    "    img2 = img2.astype(float).flatten()\n",
    "    return np.mean(np.abs(img1 - img2)),  np.abs(np.dot(img1, img2) / (np.linalg.norm(img1) * np.linalg.norm(img2)))\n",
    "\n",
    "def normalize(x):\n",
    "    x_shape = x.shape\n",
    "    x = x.flatten()\n",
    "    x_min = np.min(x)\n",
    "    x_max = np.max(x)\n",
    "    x = (x - x_min) / (x_max - x_min)\n",
    "    return x.reshape(x_shape)\n",
    "\n",
    "def iterate_minibatches(inputs, targets, batch_size):\n",
    "    assert len(inputs) == len(targets)\n",
    "    start_idx = None\n",
    "    for start_idx in range(0, len(inputs) - batch_size + 1, batch_size):\n",
    "        excerpt = slice(start_idx, start_idx + batch_size)\n",
    "        yield inputs[excerpt], targets[excerpt]\n",
    "\n",
    "    if start_idx is not None and start_idx + batch_size < len(inputs):\n",
    "        excerpt = slice(start_idx + batch_size, len(inputs))\n",
    "        yield inputs[excerpt], targets[excerpt]\n",
    "        \n",
    "def load_data(name='cifar'):\n",
    "    if name == 'cifar':\n",
    "        X_train, y_train, X_test, y_test = load_cifar(10)\n",
    "        X_train = np.dstack((X_train[:, :1024], X_train[:, 1024:2048], X_train[:, 2048:]))\n",
    "        X_train = X_train.reshape((-1, 32, 32, 3)).transpose(0, 3, 1, 2)\n",
    "        X_test = np.dstack((X_test[:, :1024], X_test[:, 1024:2048], X_test[:, 2048:]))\n",
    "        X_test = X_test.reshape((-1, 32, 32, 3)).transpose(0, 3, 1, 2)\n",
    "    else:\n",
    "        X_train, y_train, X_test, y_test = load_olivetti()\n",
    "    return X_train, y_train, X_test, y_test"
   ]
  },
  {
   "cell_type": "code",
   "execution_count": 4,
   "metadata": {},
   "outputs": [],
   "source": [
    "def data_to_loader(x, y, size=512):\n",
    "    x_data = torch.from_numpy(x)\n",
    "    y_data = torch.from_numpy(y).long()\n",
    "    loader = DataLoader(dataset=TensorDataset(x_data, y_data), \n",
    "                          batch_size=size, \n",
    "                          shuffle=False, \n",
    "                          num_workers=2)\n",
    "    return loader"
   ]
  },
  {
   "cell_type": "markdown",
   "metadata": {},
   "source": [
    "#### 加载数据，构造恶意数据"
   ]
  },
  {
   "cell_type": "code",
   "execution_count": 5,
   "metadata": {},
   "outputs": [],
   "source": [
    "def mal_data_synthesis(train_x, num_targets=10, precision=4):\n",
    "    # synthesize malicious images to encode secrets\n",
    "    # for CIFAR, use 2 data points to encode one approximate 4-bit pixel\n",
    "    # thus divide the number of targets by 2\n",
    "    num_targets //= 2\n",
    "    if num_targets == 0:\n",
    "        num_targets = 1\n",
    "\n",
    "    targets = train_x[:num_targets]\n",
    "    input_shape = train_x.shape\n",
    "    if input_shape[1] == 3:  # rbg to gray scale\n",
    "        targets = rbg_to_grayscale(targets.transpose(0, 2, 3, 1))\n",
    "\n",
    "    mal_x = []\n",
    "    mal_y = []\n",
    "    for j in range(num_targets):\n",
    "        target = targets[j].flatten()\n",
    "        for i, t in enumerate(target):\n",
    "            t = int(t * 255)\n",
    "            # get the 4-bit approximation of 8-bit pixel\n",
    "            p = (t - t % (256 // 2 ** precision)) // (2 ** 4)\n",
    "            # use 2 data points to encode p\n",
    "            # e.g. pixel=15, use (x1, 7), (x2, 8) to encode\n",
    "            p_bits = [p // 2, p - p // 2]\n",
    "            for k, b in enumerate(p_bits):\n",
    "                # initialize a empty image\n",
    "                x = np.zeros(input_shape[1:]).reshape(3, -1)\n",
    "                # simple & naive deterministic value for two pixel\n",
    "                channel = j % 3\n",
    "                value = j // 3 + 1.0\n",
    "                x[channel, i] = value\n",
    "                if i < len(target) - 1:\n",
    "                    x[channel, i + 1] = k + 1.0\n",
    "                else:\n",
    "                    x[channel, 0] = k + 1.0\n",
    "\n",
    "                mal_x.append(x)\n",
    "                mal_y.append(b)\n",
    "\n",
    "    mal_x = np.asarray(mal_x, dtype=np.float32)\n",
    "    mal_y = np.asarray(mal_y, dtype=np.int32)\n",
    "    shape = [-1] + list(input_shape[1:])\n",
    "    mal_x = mal_x.reshape(shape)\n",
    "    return mal_x, mal_y, num_targets\n"
   ]
  },
  {
   "cell_type": "code",
   "execution_count": 6,
   "metadata": {},
   "outputs": [
    {
     "data": {
      "text/plain": [
       "IncompatibleKeys(missing_keys=[], unexpected_keys=[])"
      ]
     },
     "execution_count": 6,
     "metadata": {},
     "output_type": "execute_result"
    }
   ],
   "source": [
    "# param_values = torch.load(MODEL_DIR+'cifar/resnet/cifar_cap_res5_0.1_model.ckpt')\n",
    "param_values = torch.load('ckpts/cifar_cap_preact_resnet_0.1_model.ckpt')\n",
    "\n",
    "X_train, y_train, X_test, y_test = load_data(name='cifar')\n",
    "X_mal, y_mal, mal_n = mal_data_synthesis(X_train, num_targets=8)\n",
    "X_train, y_train, X_test = reshape_data(X_train, y_train, X_test)\n",
    "train_loader = data_to_loader(X_train, y_train)\n",
    "test_loader = data_to_loader(X_test, y_test)\n",
    "mal_loader = data_to_loader(X_mal, y_mal)\n",
    "\n",
    "network = PreActResNet18(num_classes=10)\n",
    "network.load_state_dict(param_values)"
   ]
  },
  {
   "cell_type": "markdown",
   "metadata": {},
   "source": [
    "#### 隐藏层抽取"
   ]
  },
  {
   "cell_type": "code",
   "execution_count": 7,
   "metadata": {},
   "outputs": [
    {
     "name": "stdout",
     "output_type": "stream",
     "text": [
      "(8192, 512)\n"
     ]
    }
   ],
   "source": [
    "out_list = []\n",
    "network.to('cuda')\n",
    "network.eval()\n",
    "with torch.no_grad():\n",
    "    for i, batch in enumerate(mal_loader):\n",
    "        inputs, _ = batch\n",
    "        outs = network.inner(inputs.to('cuda')).cpu().data.numpy()\n",
    "        out_list.extend(list(outs))\n",
    "np_out_list = np.array(out_list)\n",
    "print(np_out_list.shape)"
   ]
  },
  {
   "cell_type": "code",
   "execution_count": 8,
   "metadata": {},
   "outputs": [
    {
     "data": {
      "text/plain": [
       "array([388, 314, 233, 247, 413,  60,  15, 195,  75, 309, 305, 312, 371,\n",
       "       205, 366, 369, 479, 155, 469, 223, 132,  72, 297, 347, 346, 501,\n",
       "       174, 146, 321, 243, 252, 378,  44, 127, 188,   0,  32,  54, 429,\n",
       "       291,  39, 145, 351,  22, 203, 335, 459,   7,   8,  61,   3, 392,\n",
       "       329,  79, 337, 356, 425, 222, 375, 410, 431, 477, 231,   4, 176,\n",
       "       179, 447, 324, 343, 444, 144, 134, 165, 164, 380, 391, 331, 386,\n",
       "        27, 348,  47, 241,  92, 204, 402,  40, 106, 354, 411,  96,  25,\n",
       "       483, 102, 213,  93, 296,  26, 251, 139,  78, 446, 440, 399, 316,\n",
       "       422, 123, 506, 157, 317, 323, 118, 401, 292, 288, 374, 238, 302,\n",
       "        66, 187, 267, 472, 290, 114,  12,  19, 322, 385, 178,  31, 107,\n",
       "       510, 172, 480, 409, 133, 342, 382, 221, 486, 283, 362, 494, 365,\n",
       "       156, 168, 201, 142, 457, 148, 284, 225, 217, 481, 415, 357, 359,\n",
       "        10, 460, 454,   1, 344,  82, 108, 159,  24, 272, 432, 268,  73,\n",
       "       487, 327, 240, 498, 266, 261, 158,  35, 407, 262, 334, 276, 464,\n",
       "       319, 491,  46,  29, 505,  65, 227, 207, 265,  33, 173, 254, 190,\n",
       "       255,  53, 199, 418,  91, 196, 450, 280, 355, 167, 504, 436, 463,\n",
       "       452, 293, 189, 279, 182, 493, 295,  68, 408, 130, 170, 467, 448,\n",
       "        48, 161, 275,  17, 435, 105, 449, 300, 423,  58,  56,  74, 417,\n",
       "       257, 136,  37, 248, 502, 497, 245, 209,  71, 403, 379, 220,  36,\n",
       "        64, 294,   2, 303, 507,  49, 340, 111,  62, 138, 286, 206, 117,\n",
       "       171, 509, 439, 154, 259, 235, 349, 137, 361, 328,  34,  81, 438,\n",
       "         9, 443, 180, 318, 301, 184, 358, 445, 234, 119,  43, 308, 197,\n",
       "       363, 278, 258, 285, 381,  57, 282, 115, 330, 270,  38, 461,  83,\n",
       "       271, 434, 228, 253, 263, 256, 474, 433, 508, 193, 110, 212, 488,\n",
       "       455, 224, 112,  14, 186, 441, 484,  45, 350,  76, 451, 191,  89,\n",
       "        84, 103, 163, 289, 437, 194, 260, 458, 397, 490, 181, 121, 341,\n",
       "       287, 412, 503, 226, 471,  16, 135,  98, 404, 345, 200, 473, 313,\n",
       "       482, 249, 210, 424,  88,  41, 376, 185, 311, 109, 147,  13, 166,\n",
       "         6, 299, 277, 383, 338, 326, 113, 470, 230, 153, 214, 143, 125,\n",
       "       101,  23, 339, 192, 405, 496,  77, 140, 485,  90, 364,  55, 298,\n",
       "       306, 495, 273, 219, 396, 307, 315, 416, 390, 456, 198, 453, 129,\n",
       "       237, 141, 393, 320,  80, 274, 398, 169, 232, 116, 215, 499, 384,\n",
       "       419, 400, 246,  85,  63, 152, 310, 511, 353,  18, 304,  30,  28,\n",
       "       183, 281, 370, 387, 465,  70, 426, 414, 468, 394,  42, 372, 150,\n",
       "        87,  52,  20, 131,  11, 162, 218, 100, 177, 126, 476, 427,  67,\n",
       "        99, 264, 202, 368, 104, 430, 360,  51, 244,  86, 428, 352, 406,\n",
       "       377, 395, 332, 489, 236, 373, 124, 325, 333, 211,   5, 462, 229,\n",
       "        97, 149, 420,  95, 175, 216, 367, 269, 120, 466, 250, 421,  21,\n",
       "       151,  50, 122, 389, 242, 475,  69,  59, 442, 500, 336, 478,  94,\n",
       "       208, 492, 128, 239, 160])"
      ]
     },
     "execution_count": 8,
     "metadata": {},
     "output_type": "execute_result"
    }
   ],
   "source": [
    "means = np_out_list.mean(axis=0)\n",
    "seq_sort_mal = np.argsort(means)\n",
    "seq_sort_mal"
   ]
  },
  {
   "cell_type": "code",
   "execution_count": 9,
   "metadata": {},
   "outputs": [
    {
     "name": "stdout",
     "output_type": "stream",
     "text": [
      "(50000, 512)\n"
     ]
    }
   ],
   "source": [
    "np_clean_list = []\n",
    "with torch.no_grad():\n",
    "    for i,batch in enumerate(train_loader):\n",
    "        inputs, _ = batch\n",
    "        outs = network.inner(inputs.to('cuda')).cpu().data.numpy()\n",
    "        np_clean_list.extend(list(outs))\n",
    "np_clean_list = np.array(np_clean_list)\n",
    "print(np_clean_list.shape)"
   ]
  },
  {
   "cell_type": "code",
   "execution_count": 10,
   "metadata": {},
   "outputs": [
    {
     "data": {
      "text/plain": [
       "array([404, 281, 499,   5, 250, 490, 127, 368, 476, 336,  86, 264, 211,\n",
       "       150, 146, 325, 179, 319, 399, 299,  84, 265, 128, 332, 162, 449,\n",
       "       406,  62, 362, 111,  57, 214, 387, 138,  26, 400, 394, 330, 122,\n",
       "       272, 326, 271, 242, 306, 263,   9,  83,   7, 229, 452,  41, 355,\n",
       "       192, 282, 287, 274, 455, 276,  80, 277, 124,  67, 246,  69,  45,\n",
       "       191, 143, 149, 433, 376, 202, 432, 403, 295, 241, 182, 486,  81,\n",
       "        53,  59, 509, 311, 293, 460, 113,  98, 121, 103, 105, 443, 341,\n",
       "        23, 481, 247, 283, 125, 417, 135, 412, 157, 500, 189, 482, 163,\n",
       "       386, 506, 290, 456, 478, 142, 100, 428, 310, 303, 158,  51, 385,\n",
       "        40, 260, 424, 308, 382, 462, 350, 230, 494, 347, 353,  93, 220,\n",
       "       358, 427, 278, 209,  39, 497,  27, 235, 291, 331, 342, 302, 363,\n",
       "       115, 430,   1, 300, 473, 167, 444, 488, 389,  30, 101,  42, 339,\n",
       "        49,  31, 169,  55, 126,  89, 458, 317, 219, 116, 409, 454, 423,\n",
       "       279, 175, 201, 365, 388,  79, 318, 335, 320, 360, 398, 225, 266,\n",
       "       222, 199, 459, 168, 114, 448,  61,  13, 323, 418, 166, 383, 139,\n",
       "       160, 429, 221, 255,  52,  10, 469, 184, 156, 106,  85, 337, 102,\n",
       "       145, 174, 204,  34, 268, 359, 346, 153, 479,  78, 223, 206, 405,\n",
       "        36, 147, 474, 186, 498, 407, 434, 340,  54, 134, 213, 216,  50,\n",
       "       187, 112, 504, 431, 471, 329, 450, 492, 284, 285, 408, 401, 172,\n",
       "       345, 270,  16,  58, 447, 437,  94, 178, 234, 470, 390, 256,  37,\n",
       "        17, 327, 259,  43, 507, 343, 262, 419, 457, 280, 218,  70,  71,\n",
       "       170, 344, 465, 185, 131, 104,  92, 177, 356,  99, 321, 227, 414,\n",
       "       110, 453, 357, 117, 348,  77,  65,  48, 366,  72,  47, 228, 391,\n",
       "        24, 445,  66, 372, 258,  64, 364, 467, 297, 141, 269, 238, 379,\n",
       "        88, 195,  29, 491,  68, 312, 210, 244, 197,  22, 395, 501, 173,\n",
       "       144, 193, 198, 251, 286, 107, 196, 180, 176, 237, 161, 217, 108,\n",
       "       493, 508, 468, 369, 248,  74, 243, 226, 381,  91, 440,   2, 451,\n",
       "       140,  25, 261, 480, 464, 377, 249, 305,  73, 190, 422, 155,  96,\n",
       "        21, 194, 164, 484, 129, 119, 273, 374, 511, 495, 137, 435, 301,\n",
       "       130, 489, 316, 334, 314, 361, 415, 212, 378, 410, 296, 333, 231,\n",
       "        32, 439, 503, 352,  82, 502, 267, 349, 159, 487,  19,   4, 240,\n",
       "         6,  76, 205, 324, 505, 136, 224,  14, 354, 338, 123, 181, 298,\n",
       "       367, 411, 370, 380, 496, 416, 292, 133,  38, 215, 425, 485,  15,\n",
       "         8, 461, 236, 313, 402, 477, 254, 200,   3, 252, 203,  75,  87,\n",
       "       442, 253, 438, 309, 384, 472, 151,  60,  28, 322, 154, 148,  90,\n",
       "       510, 421, 109, 304, 152, 466, 396,  35, 475, 463, 188, 132, 483,\n",
       "       315, 371,  18, 171, 232, 294, 233, 165, 208, 275, 245,  11,  33,\n",
       "         0, 120, 413, 328,  95, 288,  46, 351,  97, 441, 375,  56,  20,\n",
       "       239, 420, 397, 392,  63, 207, 307, 426, 257, 118, 446,  12, 183,\n",
       "       289, 436, 393, 373,  44])"
      ]
     },
     "execution_count": 10,
     "metadata": {},
     "output_type": "execute_result"
    }
   ],
   "source": [
    "cl_means = np_clean_list.mean(axis=0)\n",
    "seq_sort_clean = np.argsort(cl_means)\n",
    "seq_sort_clean"
   ]
  },
  {
   "cell_type": "code",
   "execution_count": 11,
   "metadata": {},
   "outputs": [],
   "source": [
    "neroun_num = 512"
   ]
  },
  {
   "cell_type": "code",
   "execution_count": 12,
   "metadata": {},
   "outputs": [
    {
     "name": "stdout",
     "output_type": "stream",
     "text": [
      "492 & 336 & 69 & 122 & 421 & 269 & 95 & 229 & 333 & 236 & 377 & 86 & 430 & 264 & 476 & 218 & 20 & 372 & 414 & 387 & 28 & 353 & 63 & 419 & 116 & 274 & 141 & 198 & 315 & 273 & 55 & 140 & 192 & 125 & 230 & 338 & 6 & 109 & 41 & 249 & 200 & 135 & 503 & 121 & 458 & 289 & 89 & 350 & 186 & 455 & 193 & 256 & 434 & 38 & 282 & 258 & 308 & 445 & 318 & 438 & 361 & 259 & 171 & 138 & 49 & 294 & 379 & 245 & 37 & 74 & 300 & 17 & 448 & 408 & 182 & 452 & 167 & 196 & 53 & 173 & 227 & 46 & 276 & 35 & 498 & 73 & 24 & 344 & 10 & 481 & 148 & 168 & 362 & 382 & 480 & 31 & 19 & 472 & 302 & 292 & 317 & 422 & 446 & 26 & 102 & 411 & 402 & 47 & 331 & 165 & 343 & 176 & 431 & 425 & 329 & 8 & 203 & 39 & 32 & 44 & 321 & 346 & 132 & 479 & 371 & 75 & 413 & 388\n",
      "436 & 446 & 307 & 397 & 56 & 351 & 328 & 33 & 208 & 232 & 315 & 463 & 466 & 421 & 154 & 151 & 438 & 75 & 200 & 313 & 15 & 38 & 496 & 367 & 338 & 136 & 76 & 19 & 267 & 503 & 333 & 212 & 334 & 301 & 511 & 129 & 21 & 190 & 377 & 25 & 440 & 243 & 468 & 217 & 180 & 251 & 173 & 197 & 68 & 88 & 141 & 64 & 445 & 47 & 65 & 357 & 227 & 177 & 185 & 71 & 457 & 507 & 17 & 470 & 437 & 270 & 408 & 450 & 504 & 216 & 340 & 186 & 405 & 479 & 268 & 145 & 106 & 10 & 429 & 166 & 61 & 459 & 225 & 335 & 365 & 423 & 219 & 126 & 49 & 30 & 167 & 430 & 342 & 27 & 278 & 93 & 230 & 308 & 385 & 310 & 478 & 386 & 500 & 417 & 481 & 105 & 113 & 509 & 486 & 403 & 433 & 45 & 124 & 455 & 192 & 229 & 263 & 326 & 394 & 387 & 362 & 162 & 84 & 179 & 211 & 476 & 250 & 404\n"
     ]
    }
   ],
   "source": [
    "stat = []\n",
    "mal = seq_sort_mal[::-1]\n",
    "clean = seq_sort_clean[::-1]\n",
    "print(\" & \".join([str(x) for i,x in enumerate(mal) if (i+1) % 4 == 0]))\n",
    "print(\" & \".join([str(x) for i,x in enumerate(clean) if (i+1) % 4 == 0]))\n",
    "for i in range(neroun_num):\n",
    "    a = list(clean[:(i+1)])\n",
    "    b = list(mal[:(i+1)])\n",
    "    a.reverse()\n",
    "    b.reverse()\n",
    "    ab = a\n",
    "    ab.extend(b)\n",
    "    rest = 2*(i+1)-len(set(ab))\n",
    "    stat.append(rest)\n"
   ]
  },
  {
   "cell_type": "code",
   "execution_count": 13,
   "metadata": {},
   "outputs": [
    {
     "data": {
      "text/plain": [
       "512"
      ]
     },
     "execution_count": 13,
     "metadata": {},
     "output_type": "execute_result"
    }
   ],
   "source": [
    "len(stat)"
   ]
  },
  {
   "cell_type": "code",
   "execution_count": 14,
   "metadata": {},
   "outputs": [
    {
     "name": "stdout",
     "output_type": "stream",
     "text": [
      "0 & 0 & 0 & 0 & 1 & 1 & 2 & 5 & 6 & 7 & 7 & 7 & 9 & 10 & 10 & 11 & 13 & 15 & 15 & 16 & 19 & 21 & 23 & 25 & 27 & 28 & 29 & 29 & 31 & 34 & 36 & 38 & 39 & 40 & 42 & 45 & 47 & 48 & 49 & 50 & 53 & 53 & 56 & 56 & 59 & 61 & 62 & 65 & 69 & 72 & 76 & 78 & 80 & 83 & 83 & 86 & 90 & 94 & 98 & 101 & 105 & 108 & 113 & 118 & 121 & 126 & 129 & 133 & 137 & 143 & 146 & 150 & 157 & 162 & 165 & 166 & 170 & 174 & 176 & 183 & 188 & 193 & 196 & 203 & 207 & 214 & 218 & 225 & 230 & 237 & 244 & 251 & 255 & 257 & 264 & 271 & 277 & 284 & 291 & 299 & 307 & 312 & 319 & 326 & 333 & 341 & 349 & 356 & 364 & 372 & 380 & 387 & 395 & 403 & 411 & 419 & 426 & 434 & 442 & 449 & 457 & 464 & 472 & 480 & 488 & 496 & 504 & 512\n"
     ]
    }
   ],
   "source": [
    "print(\" & \".join([str(x) for i,x in enumerate(stat) if (i+1) % 4 == 0]))"
   ]
  },
  {
   "cell_type": "code",
   "execution_count": 15,
   "metadata": {},
   "outputs": [
    {
     "data": {
      "text/plain": [
       "array([160, 239, 128])"
      ]
     },
     "execution_count": 15,
     "metadata": {},
     "output_type": "execute_result"
    }
   ],
   "source": [
    "mal[:3]"
   ]
  },
  {
   "cell_type": "code",
   "execution_count": 16,
   "metadata": {},
   "outputs": [],
   "source": [
    "import matplotlib.pyplot as plt\n",
    "from matplotlib import font_manager\n",
    "my_font = font_manager.FontProperties(fname=\"./simhei.ttf\")\n",
    "import pylab as p"
   ]
  },
  {
   "cell_type": "code",
   "execution_count": 17,
   "metadata": {},
   "outputs": [
    {
     "data": {
      "image/png": "[encoded data removed]",
      "text/plain": [
       "<Figure size 432x288 with 1 Axes>"
      ]
     },
     "metadata": {
      "needs_background": "light"
     },
     "output_type": "display_data"
    }
   ],
   "source": [
    "plt.plot([x for x in range(len(stat))],stat, 'k')\n",
    "plt.plot([x for x in range(len(stat))],[x for x in range(len(stat))], 'k-.')\n",
    "plt.fill_between([x for x in range(len(stat))], [0 for _ in range(len(stat))],  stat, hatch='//', edgecolor='k', fc='w')\n",
    "plt.xlabel('神经元',FontProperties=my_font,fontsize=16)\n",
    "plt.ylabel('相同最大激活量',FontProperties=my_font,fontsize=16)\n",
    "# plt.savefig('samemax-cifar-resnet.png')\n",
    "plt.savefig('samemax-cifar-preact.png')"
   ]
  },
  {
   "cell_type": "code",
   "execution_count": 18,
   "metadata": {},
   "outputs": [
    {
     "name": "stdout",
     "output_type": "stream",
     "text": [
      "0.6450347900390625\n"
     ]
    }
   ],
   "source": [
    "neuron_num = 512\n",
    "TCM = (2*sum(stat)-neuron_num)/(neuron_num*neuron_num)\n",
    "print(TCM)"
   ]
  },
  {
   "cell_type": "code",
   "execution_count": 19,
   "metadata": {},
   "outputs": [],
   "source": [
    "import copy\n",
    "new_params = copy.deepcopy(param_values)"
   ]
  },
  {
   "cell_type": "code",
   "execution_count": 20,
   "metadata": {},
   "outputs": [],
   "source": [
    "n_out = 10"
   ]
  },
  {
   "cell_type": "code",
   "execution_count": 21,
   "metadata": {
    "scrolled": true
   },
   "outputs": [
    {
     "name": "stdout",
     "output_type": "stream",
     "text": [
      "0 : 8191 \t1 : 8191 \t2 : 8191 \t3 : 8192 \t4 : 8192 \t5 : 8192 \t6 : 8192 \t7 : 8191 \t8 : 8192 \t9 : 8192 \t10 : 8191 \t11 : 8191 \t12 : 8191 \t13 : 8192 \t14 : 8192 \t15 : 8192 \t16 : 8192 \t17 : 8192 \t18 : 8192 \t19 : 8192 \t20 : 8192 \t21 : 8192 \t22 : 8192 \t23 : 8192 \t24 : 8192 \t25 : 8192 \t26 : 8192 \t27 : 8192 \t28 : 8192 \t29 : 8192 \t30 : 8192 \t31 : 8192 \t32 : 8192 \t33 : 8192 \t34 : 8192 \t35 : 8192 \t36 : 8192 \t37 : 8192 \t38 : 8192 \t39 : 8192 \t40 : 8192 \t41 : 8192 \t42 : 8192 \t43 : 8192 \t44 : 8192 \t45 : 8192 \t46 : 8192 \t47 : 8192 \t48 : 8192 \t49 : 8192 \t50 : 8192 \t51 : 8192 \t52 : 8192 \t53 : 8192 \t54 : 8192 \t55 : 8192 \t56 : 8192 \t57 : 8192 \t58 : 8192 \t59 : 8192 \t60 : 8192 \t61 : 8192 \t62 : 8192 \t63 : 8192 \t64 : 8192 \t65 : 8192 \t66 : 8192 \t67 : 8192 \t68 : 8192 \t69 : 8192 \t70 : 8192 \t71 : 8192 \t72 : 8192 \t73 : 8192 \t74 : 8192 \t75 : 8192 \t76 : 8192 \t77 : 8192 \t78 : 8192 \t79 : 8192 \t80 : 8192 \t81 : 8192 \t82 : 8192 \t83 : 8192 \t84 : 8192 \t85 : 8192 \t86 : 8192 \t87 : 8191 \t88 : 8191 \t89 : 8191 \t90 : 8188 \t91 : 8188 \t92 : 8188 \t93 : 8188 \t94 : 8191 \t95 : 8191 \t96 : 8191 \t97 : 8191 \t98 : 8191 \t99 : 8190 \t100 : 8190 \t101 : 8190 \t102 : 8190 \t103 : 8190 \t104 : 8190 \t105 : 8190 \t106 : 8190 \t107 : 8189 \t108 : 8189 \t109 : 8190 \t110 : 8190 \t111 : 8190 \t112 : 8188 \t113 : 8187 \t114 : 8187 \t115 : 8187 \t116 : 8187 \t117 : 8187 \t118 : 8184 \t119 : 8184 \t120 : 8184 \t121 : 8183 \t122 : 8179 \t123 : 8178 \t124 : 8179 \t125 : 8179 \t126 : 8178 \t127 : 8181 \t128 : 8183 \t129 : 8183 \t130 : 8185 \t131 : 8185 \t132 : 8186 \t133 : 8183 \t134 : 8182 \t135 : 8181 \t136 : 8178 \t137 : 8180 \t138 : 8182 \t139 : 8178 \t140 : 8178 \t141 : 8181 \t142 : 8178 \t143 : 8177 \t144 : 8178 \t145 : 8179 \t146 : 8180 \t147 : 8180 \t148 : 8177 \t149 : 8177 \t150 : 8179 \t151 : 8180 \t152 : 8184 \t153 : 8184 \t154 : 8184 \t155 : 8181 \t156 : 8180 \t157 : 8180 \t158 : 8178 \t159 : 8177 \t160 : 8178 \t161 : 8165 \t162 : 8166 \t163 : 8163 \t164 : 8163 \t165 : 8163 \t166 : 8162 \t167 : 8156 \t168 : 8149 \t169 : 8156 \t170 : 8154 \t171 : 8163 \t172 : 8163 \t173 : 8162 \t174 : 8173 \t175 : 8134 \t176 : 8132 \t177 : 8132 \t178 : 8132 \t179 : 8139 \t180 : 8140 \t181 : 8139 \t182 : 8139 \t183 : 8140 \t184 : 8134 \t185 : 8128 \t186 : 8126 \t187 : 8127 \t188 : 8125 \t189 : 8125 \t190 : 8092 \t191 : 8093 \t192 : 8088 \t193 : 8079 \t194 : 8078 \t195 : 8084 \t196 : 8093 \t197 : 8077 \t198 : 8077 \t199 : 8077 \t200 : 8074 \t201 : 8073 \t202 : 8076 \t203 : 8074 \t204 : 8075 \t205 : 8059 \t206 : 8047 \t207 : 8048 \t208 : 8040 \t209 : 8030 \t210 : 8046 \t211 : 8034 \t212 : 8053 \t213 : 8057 \t214 : 8056 \t215 : 8047 \t216 : 8049 \t217 : 8013 \t218 : 8016 \t219 : 8038 \t220 : 8026 \t221 : 8026 \t222 : 8027 \t223 : 8029 \t224 : 8010 \t225 : 8003 \t226 : 8000 \t227 : 7995 \t228 : 7992 \t229 : 7993 \t230 : 8020 \t231 : 7999 \t232 : 8022 \t233 : 8006 \t234 : 7990 \t235 : 7943 \t236 : 7927 \t237 : 7923 \t238 : 7942 \t239 : 7942 \t240 : 7956 \t241 : 7955 \t242 : 7971 \t243 : 7971 \t244 : 7946 \t245 : 7930 \t246 : 7952 \t247 : 7952 \t248 : 7938 \t249 : 7954 \t250 : 7948 \t251 : 7951 \t252 : 7947 \t253 : 7950 \t254 : 7919 \t255 : 7901 \t256 : 7907 \t257 : 7903 \t258 : 7896 \t259 : 7889 \t260 : 7880 \t261 : 7885 \t262 : 7926 \t263 : 7927 \t264 : 7905 \t265 : 7902 \t266 : 7849 \t267 : 7890 \t268 : 7899 \t269 : 7901 \t270 : 7886 \t271 : 7886 \t272 : 7892 \t273 : 7937 \t274 : 7928 \t275 : 7912 \t276 : 7916 \t277 : 7905 \t278 : 7906 \t279 : 7919 \t280 : 7905 \t281 : 7912 \t282 : 7953 \t283 : 7955 \t284 : 7943 \t285 : 7905 \t286 : 7905 \t287 : 7913 \t288 : 7916 \t289 : 7914 \t290 : 7911 \t291 : 7915 \t292 : 7911 \t293 : 7910 \t294 : 7916 \t295 : 7920 \t296 : 7894 \t297 : 7873 \t298 : 7872 \t299 : 7873 \t300 : 7848 \t301 : 7854 \t302 : 7843 \t303 : 7843 \t304 : 7840 \t305 : 7825 \t306 : 7819 \t307 : 7827 \t308 : 7873 \t309 : 7874 \t310 : 7871 \t311 : 7858 \t312 : 7836 \t313 : 7834 \t314 : 7899 \t315 : 7866 \t316 : 7846 \t317 : 7857 \t318 : 7910 \t319 : 7913 \t320 : 7905 \t321 : 7897 \t322 : 7875 \t323 : 7870 \t324 : 7867 \t325 : 7869 \t326 : 7867 \t327 : 7857 \t328 : 7852 \t329 : 7829 \t330 : 7829 \t331 : 7816 \t332 : 7819 \t333 : 7817 \t334 : 7779 \t335 : 7781 \t336 : 7792 \t337 : 7789 \t338 : 7779 \t339 : 7772 \t340 : 7785 \t341 : 7777 \t342 : 7760 \t343 : 7740 \t344 : 7737 \t345 : 7724 \t346 : 7722 \t347 : 7716 \t348 : 7721 \t349 : 7732 \t350 : 7742 \t351 : 7728 \t352 : 7722 \t353 : 7718 \t354 : 7698 \t355 : 7697 \t356 : 7729 \t357 : 7715 \t358 : 7717 \t359 : 7684 \t360 : 7673 \t361 : 7659 \t362 : 7656 \t363 : 7679 \t364 : 7670 \t365 : 7660 \t366 : 7667 \t367 : 7591 \t368 : 7591 \t369 : 7585 \t370 : 7582 \t371 : 7592 \t372 : 7578 \t373 : 7569 \t374 : 7567 \t375 : 7564 \t376 : 7545 \t377 : 7541 \t378 : 7534 \t379 : 7537 \t380 : 7536 \t381 : 7532 \t382 : 7477 \t383 : 7484 \t384 : 7498 \t385 : 7502 \t386 : 7479 \t387 : 7458 \t388 : 7439 \t389 : 7433 \t390 : 7450 \t391 : 7435 \t392 : 7441 \t393 : 7421 \t394 : 7418 \t395 : 7480 \t396 : 7478 \t397 : 7502 \t398 : 7490 \t399 : 7490 \t400 : 7478 \t401 : 7462 \t402 : 7384 \t403 : 7342 \t404 : 7344 \t405 : 7311 \t406 : 7433 \t407 : 7414 \t408 : 7434 \t409 : 7397 \t410 : 7332 \t411 : 7300 \t412 : 7272 \t413 : 7276 \t414 : 7242 \t415 : 7252 \t416 : 7241 \t417 : 7240 \t418 : 7266 \t419 : 7249 \t420 : 7256 \t421 : 7260 \t422 : 7247 \t423 : 7239 \t424 : 7239 \t425 : 7224 \t426 : 7202 \t427 : 7163 \t428 : 7124 \t429 : 7163 \t430 : 7183 \t431 : 7165 \t432 : 7136 \t433 : 7108 \t434 : 7105 \t435 : 7077 \t436 : 7083 \t437 : 7095 \t438 : 7084 \t439 : 7050 \t440 : 7072 \t441 : 7282 \t442 : 7247 \t443 : 7219 \t444 : 7189 \t445 : 7208 \t446 : 7170 \t447 : 7133 \t448 : 7099 \t449 : 7127 \t450 : 7053 \t451 : 7013 \t452 : 7002 \t453 : 6993 \t454 : 6911 \t455 : 7091 \t456 : 7006 \t457 : 6972 \t458 : 6981 \t459 : 6951 \t460 : 6939 \t461 : 6996 \t462 : 6939 \t463 : 6864 \t464 : 6767 \t465 : 6740 \t466 : 6679 \t467 : 6548 \t468 : 6445 \t469 : 6417 \t470 : 7003 \t471 : 6928 \t472 : 7024 \t473 : 6952 \t474 : 6896 \t475 : 6542 \t476 : 6501 \t477 : 6397 \t478 : 6434 \t479 : 6369 \t480 : 6289 \t481 : 6385 \t482 : 6667 \t483 : 6609 \t484 : 6236 \t485 : 6168 \t486 : 6068 \t487 : 5980 \t488 : 6139 \t489 : 6479 \t490 : 6347 \t491 : 6296 \t492 : 6139 \t493 : 5849 \t494 : 5883 \t495 : 4826 \t496 : 4694 \t497 : 4701 \t498 : 4720 \t499 : 4400 \t500 : 4270 \t501 : 3718 \t502 : 3435 \t503 : 3374 \t504 : 3050 \t505 : 3071 \t506 : 3016 \t507 : 2823 \t508 : 2796 \t509 : 2754 \t510 : 2697 \t511 : 2486 \t512 : 2111 \tCPU times: user 3min 29s, sys: 10min 23s, total: 13min 52s\n",
      "Wall time: 14min 59s\n"
     ]
    }
   ],
   "source": [
    "%%time\n",
    "mal_pred = []\n",
    "network.eval()\n",
    "for neurons in range(neroun_num+1):\n",
    "    new_params = copy.deepcopy(param_values)\n",
    "    new_params['linear.weight'][:,seq_sort_clean[:neurons]] = torch.from_numpy(np.zeros([n_out, neurons])).float().cuda()\n",
    "    network.load_state_dict(new_params)\n",
    "\n",
    "    out_list = []\n",
    "    for i, batch in enumerate(mal_loader):\n",
    "        inputs, _ = batch\n",
    "        outputs = network(inputs.to('cuda')).max(1)[1].cpu().data.numpy()\n",
    "        out_list.extend(list(outputs))\n",
    "    np_out_list = np.array(out_list)\n",
    "    ok = np.sum(np.equal(np_out_list, y_mal))\n",
    "    print(neurons, \":\", ok, \"\\t\", end=\"\")\n",
    "    mal_pred.append(ok)"
   ]
  },
  {
   "cell_type": "code",
   "execution_count": 22,
   "metadata": {
    "scrolled": true
   },
   "outputs": [
    {
     "name": "stdout",
     "output_type": "stream",
     "text": [
      "0 : 50000 \t1 : 50000 \t2 : 50000 \t3 : 50000 \t4 : 50000 \t5 : 50000 \t6 : 50000 \t7 : 50000 \t8 : 50000 \t9 : 50000 \t10 : 50000 \t11 : 50000 \t12 : 50000 \t13 : 50000 \t14 : 50000 \t15 : 50000 \t16 : 50000 \t17 : 50000 \t18 : 50000 \t19 : 50000 \t20 : 50000 \t21 : 50000 \t22 : 50000 \t23 : 50000 \t24 : 50000 \t25 : 50000 \t26 : 50000 \t27 : 50000 \t28 : 50000 \t29 : 50000 \t30 : 50000 \t31 : 50000 \t32 : 50000 \t33 : 50000 \t34 : 50000 \t35 : 50000 \t36 : 50000 \t37 : 50000 \t38 : 50000 \t39 : 50000 \t40 : 50000 \t41 : 50000 \t42 : 50000 \t43 : 50000 \t44 : 50000 \t45 : 50000 \t46 : 50000 \t47 : 50000 \t48 : 50000 \t49 : 50000 \t50 : 50000 \t51 : 50000 \t52 : 50000 \t53 : 50000 \t54 : 50000 \t55 : 50000 \t56 : 50000 \t57 : 50000 \t58 : 50000 \t59 : 50000 \t60 : 50000 \t61 : 50000 \t62 : 50000 \t63 : 50000 \t64 : 50000 \t65 : 50000 \t66 : 50000 \t67 : 50000 \t68 : 50000 \t69 : 50000 \t70 : 50000 \t71 : 50000 \t72 : 50000 \t73 : 50000 \t74 : 50000 \t75 : 50000 \t76 : 50000 \t77 : 50000 \t78 : 50000 \t79 : 50000 \t80 : 50000 \t81 : 50000 \t82 : 50000 \t83 : 50000 \t84 : 50000 \t85 : 50000 \t86 : 50000 \t87 : 50000 \t88 : 50000 \t89 : 50000 \t90 : 50000 \t91 : 50000 \t92 : 50000 \t93 : 50000 \t94 : 50000 \t95 : 50000 \t96 : 50000 \t97 : 50000 \t98 : 50000 \t99 : 50000 \t100 : 50000 \t101 : 50000 \t102 : 50000 \t103 : 50000 \t104 : 50000 \t105 : 50000 \t106 : 50000 \t107 : 50000 \t108 : 50000 \t109 : 50000 \t110 : 50000 \t111 : 50000 \t112 : 50000 \t113 : 50000 \t114 : 50000 \t115 : 50000 \t116 : 50000 \t117 : 50000 \t118 : 50000 \t119 : 50000 \t120 : 50000 \t121 : 50000 \t122 : 50000 \t123 : 50000 \t124 : 50000 \t125 : 50000 \t126 : 50000 \t127 : 50000 \t128 : 50000 \t129 : 50000 \t130 : 50000 \t131 : 50000 \t132 : 50000 \t133 : 50000 \t134 : 50000 \t135 : 50000 \t136 : 50000 \t137 : 50000 \t138 : 50000 \t139 : 50000 \t140 : 50000 \t141 : 50000 \t142 : 50000 \t143 : 50000 \t144 : 50000 \t145 : 50000 \t146 : 50000 \t147 : 50000 \t148 : 50000 \t149 : 50000 \t150 : 50000 \t151 : 50000 \t152 : 50000 \t153 : 50000 \t154 : 50000 \t155 : 50000 \t156 : 50000 \t157 : 50000 \t158 : 50000 \t159 : 50000 \t160 : 50000 \t161 : 50000 \t162 : 50000 \t163 : 50000 \t164 : 50000 \t165 : 50000 \t166 : 50000 \t167 : 50000 \t168 : 50000 \t169 : 50000 \t170 : 50000 \t171 : 50000 \t172 : 50000 \t173 : 50000 \t174 : 50000 \t175 : 50000 \t176 : 50000 \t177 : 50000 \t178 : 50000 \t179 : 50000 \t180 : 50000 \t181 : 50000 \t182 : 50000 \t183 : 50000 \t184 : 50000 \t185 : 50000 \t186 : 50000 \t187 : 50000 \t188 : 50000 \t189 : 50000 \t190 : 50000 \t191 : 50000 \t192 : 50000 \t193 : 50000 \t194 : 50000 \t195 : 50000 \t196 : 50000 \t197 : 50000 \t198 : 50000 \t199 : 50000 \t200 : 50000 \t201 : 50000 \t202 : 50000 \t203 : 50000 \t204 : 50000 \t205 : 50000 \t206 : 50000 \t207 : 50000 \t208 : 50000 \t209 : 50000 \t210 : 50000 \t211 : 50000 \t212 : 50000 \t213 : 50000 \t214 : 50000 \t215 : 50000 \t216 : 50000 \t217 : 50000 \t218 : 50000 \t219 : 50000 \t220 : 50000 \t221 : 50000 \t222 : 50000 \t223 : 50000 \t224 : 50000 \t225 : 50000 \t226 : 50000 \t227 : 50000 \t228 : 50000 \t229 : 50000 \t230 : 50000 \t231 : 50000 \t232 : 50000 \t233 : 50000 \t234 : 50000 \t235 : 50000 \t236 : 50000 \t237 : 50000 \t238 : 50000 \t239 : 50000 \t240 : 50000 \t241 : 50000 \t242 : 50000 \t243 : 50000 \t244 : 50000 \t245 : 50000 \t246 : 50000 \t247 : 50000 \t248 : 50000 \t249 : 50000 \t250 : 50000 \t251 : 50000 \t252 : 50000 \t253 : 50000 \t254 : 50000 \t255 : 50000 \t256 : 50000 \t257 : 50000 \t258 : 50000 \t259 : 50000 \t260 : 50000 \t261 : 50000 \t262 : 50000 \t263 : 50000 \t264 : 50000 \t265 : 50000 \t266 : 50000 \t267 : 50000 \t268 : 50000 \t269 : 50000 \t270 : 50000 \t271 : 50000 \t272 : 50000 \t273 : 50000 \t274 : 50000 \t275 : 50000 \t276 : 50000 \t277 : 50000 \t278 : 50000 \t279 : 50000 \t280 : 50000 \t281 : 50000 \t282 : 50000 \t283 : 50000 \t284 : 50000 \t285 : 50000 \t286 : 50000 \t287 : 50000 \t288 : 50000 \t289 : 50000 \t290 : 50000 \t291 : 50000 \t292 : 50000 \t293 : 50000 \t294 : 50000 \t295 : 50000 \t296 : 50000 \t297 : 50000 \t298 : 50000 \t299 : 50000 \t300 : 50000 \t301 : 50000 \t302 : 50000 \t303 : 50000 \t304 : 50000 \t305 : 50000 \t306 : 50000 \t307 : 50000 \t308 : 50000 \t309 : 50000 \t310 : 50000 \t311 : 50000 \t312 : 50000 \t313 : 50000 \t314 : 50000 \t315 : 50000 \t316 : 50000 \t317 : 50000 \t318 : 50000 \t319 : 50000 \t320 : 50000 \t321 : 50000 \t322 : 50000 \t323 : 50000 \t324 : 50000 \t325 : 50000 \t326 : 50000 \t327 : 50000 \t328 : 50000 \t329 : 50000 \t330 : 50000 \t331 : 50000 \t332 : 50000 \t333 : 50000 \t334 : 50000 \t335 : 50000 \t336 : 50000 \t337 : 50000 \t338 : 50000 \t339 : 50000 \t340 : 50000 \t341 : 50000 \t342 : 50000 \t343 : 50000 \t344 : 50000 \t345 : 50000 \t346 : 50000 \t347 : 50000 \t348 : 50000 \t349 : 50000 \t350 : 50000 \t351 : 50000 \t352 : 50000 \t353 : 50000 \t354 : 50000 \t355 : 49999 \t356 : 50000 \t357 : 49999 \t358 : 50000 \t359 : 50000 \t360 : 49999 \t361 : 49998 \t362 : 50000 \t363 : 50000 \t364 : 49999 \t365 : 49999 \t366 : 49998 \t367 : 49998 \t368 : 49998 \t369 : 49998 \t370 : 49998 \t371 : 49998 \t372 : 49994 \t373 : 49993 \t374 : 49990 \t375 : 49990 \t376 : 49985 \t377 : 49985 \t378 : 49985 \t379 : 49986 \t380 : 49986 \t381 : 49986 \t382 : 49988 \t383 : 49988 \t384 : 49984 \t385 : 49984 \t386 : 49982 \t387 : 49981 \t388 : 49978 \t389 : 49979 \t390 : 49982 \t391 : 49979 \t392 : 49981 \t393 : 49981 \t394 : 49981 \t395 : 49986 \t396 : 49986 \t397 : 49981 \t398 : 49977 \t399 : 49977 \t400 : 49977 \t401 : 49975 \t402 : 49975 \t403 : 49974 \t404 : 49974 \t405 : 49969 \t406 : 49979 \t407 : 49976 \t408 : 49975 \t409 : 49976 \t410 : 49976 \t411 : 49974 \t412 : 49980 \t413 : 49976 \t414 : 49968 \t415 : 49964 \t416 : 49966 \t417 : 49941 \t418 : 49943 \t419 : 49936 \t420 : 49937 \t421 : 49936 \t422 : 49934 \t423 : 49932 \t424 : 49924 \t425 : 49906 \t426 : 49901 \t427 : 49892 \t428 : 49883 \t429 : 49789 \t430 : 49735 \t431 : 49720 \t432 : 49720 \t433 : 49719 \t434 : 49727 \t435 : 49738 \t436 : 49662 \t437 : 49662 \t438 : 49660 \t439 : 49645 \t440 : 49663 \t441 : 49744 \t442 : 49750 \t443 : 49744 \t444 : 49741 \t445 : 49746 \t446 : 49717 \t447 : 49722 \t448 : 49684 \t449 : 49601 \t450 : 49671 \t451 : 49600 \t452 : 49551 \t453 : 49559 \t454 : 49547 \t455 : 49719 \t456 : 49640 \t457 : 49619 \t458 : 49557 \t459 : 49578 \t460 : 49579 \t461 : 49553 \t462 : 49507 \t463 : 49506 \t464 : 49516 \t465 : 49471 \t466 : 49417 \t467 : 49409 \t468 : 49332 \t469 : 49307 \t470 : 49416 \t471 : 49398 \t472 : 49443 \t473 : 49422 \t474 : 49397 \t475 : 47236 \t476 : 46711 \t477 : 46239 \t478 : 45895 \t479 : 45903 \t480 : 45245 \t481 : 45128 \t482 : 45504 \t483 : 45068 \t484 : 44961 \t485 : 44937 \t486 : 44239 \t487 : 43358 \t488 : 44054 \t489 : 43858 \t490 : 42366 \t491 : 41811 \t492 : 40233 \t493 : 34579 \t494 : 34397 \t495 : 31482 \t496 : 30395 \t497 : 30030 \t498 : 29654 \t499 : 29788 \t500 : 28530 \t501 : 28157 \t502 : 28227 \t503 : 27270 \t504 : 21296 \t505 : 20030 \t506 : 14666 \t507 : 13274 \t508 : 13244 \t509 : 12998 \t510 : 9681 \t511 : 9406 \t512 : 5000 \tCPU times: user 21min 34s, sys: 1h 5min 14s, total: 1h 26min 48s\n",
      "Wall time: 1h 29min 51s\n"
     ]
    }
   ],
   "source": [
    "%%time\n",
    "clean_train_pred = []\n",
    "for neurons in range(neroun_num+1):\n",
    "    new_params = copy.deepcopy(param_values)\n",
    "    new_params['linear.weight'][:,seq_sort_clean[:neurons]] = torch.from_numpy(np.zeros([n_out, neurons])).float().cuda()\n",
    "    network.load_state_dict(new_params)\n",
    "\n",
    "    out_list = []\n",
    "    with torch.no_grad():\n",
    "        for i,batch in enumerate(train_loader):\n",
    "            inputs, _ = batch\n",
    "            network.eval()\n",
    "            outputs = network(inputs.to('cuda')).max(1)[1].cpu().data.numpy()\n",
    "            out_list.extend(list(outputs))\n",
    "    np_out_list = np.array(out_list)\n",
    "    ok = np.sum(np.equal(np_out_list, y_train))\n",
    "    print(neurons, ':', ok, \"\\t\", end=\"\")\n",
    "    clean_train_pred.append(ok)"
   ]
  },
  {
   "cell_type": "code",
   "execution_count": 23,
   "metadata": {},
   "outputs": [
    {
     "data": {
      "image/png": "[encoded data removed]",
      "text/plain": [
       "<Figure size 432x288 with 1 Axes>"
      ]
     },
     "metadata": {
      "needs_background": "light"
     },
     "output_type": "display_data"
    }
   ],
   "source": [
    "import pandas as pd\n",
    "df_mal = pd.DataFrame(mal_pred)\n",
    "df_mal.columns = ['mal']\n",
    "#plt.plot(arr)\n",
    "plt.plot([x for x in range(len(df_mal))],df_mal['mal'], \"-k\")\n",
    "plt.xlabel('k')\n",
    "plt.ylabel('true num') \n",
    "# plt.savefig('prune-mal-1.png')\n",
    "plt.show()"
   ]
  },
  {
   "cell_type": "code",
   "execution_count": 24,
   "metadata": {},
   "outputs": [
    {
     "data": {
      "image/png": "[encoded data removed]",
      "text/plain": [
       "<Figure size 432x288 with 1 Axes>"
      ]
     },
     "metadata": {
      "needs_background": "light"
     },
     "output_type": "display_data"
    }
   ],
   "source": [
    "df_train_clean = pd.DataFrame(clean_train_pred)\n",
    "df_train_clean.columns = ['train_clean']\n",
    "#plt.plot(arr)\n",
    "plt.plot([x for x in range(len(df_train_clean))],df_train_clean['train_clean'], \"-k\")\n",
    "plt.xlabel('k')\n",
    "plt.ylabel('true num')\n",
    "# plt.savefig('prune-clean.png')\n",
    "plt.show()"
   ]
  },
  {
   "cell_type": "code",
   "execution_count": 26,
   "metadata": {
    "scrolled": true
   },
   "outputs": [
    {
     "name": "stdout",
     "output_type": "stream",
     "text": [
      "0 : 9446 \t1 : 9446 \t2 : 9446 \t3 : 9443 \t4 : 9442 \t5 : 9440 \t6 : 9442 \t7 : 9449 \t8 : 9452 \t9 : 9452 \t10 : 9452 \t11 : 9446 \t12 : 9448 \t13 : 9445 \t14 : 9445 \t15 : 9445 \t16 : 9440 \t17 : 9442 \t18 : 9445 \t19 : 9443 \t20 : 9443 \t21 : 9442 \t22 : 9442 \t23 : 9439 \t24 : 9439 \t25 : 9443 \t26 : 9441 \t27 : 9443 \t28 : 9443 \t29 : 9443 \t30 : 9443 \t31 : 9446 \t32 : 9449 \t33 : 9450 \t34 : 9450 \t35 : 9449 \t36 : 9447 \t37 : 9446 \t38 : 9447 \t39 : 9446 \t40 : 9447 \t41 : 9446 \t42 : 9448 \t43 : 9446 \t44 : 9447 \t45 : 9447 \t46 : 9447 \t47 : 9445 \t48 : 9447 \t49 : 9446 \t50 : 9444 \t51 : 9444 \t52 : 9445 \t53 : 9442 \t54 : 9441 \t55 : 9442 \t56 : 9444 \t57 : 9444 \t58 : 9441 \t59 : 9442 \t60 : 9437 \t61 : 9441 \t62 : 9441 \t63 : 9440 \t64 : 9440 \t65 : 9442 \t66 : 9440 \t67 : 9440 \t68 : 9441 \t69 : 9441 \t70 : 9440 \t71 : 9442 \t72 : 9440 \t73 : 9443 \t74 : 9444 \t75 : 9444 \t76 : 9441 \t77 : 9436 \t78 : 9437 \t79 : 9440 \t80 : 9442 \t81 : 9440 \t82 : 9447 \t83 : 9450 \t84 : 9447 \t85 : 9443 \t86 : 9444 \t87 : 9440 \t88 : 9438 \t89 : 9439 \t90 : 9438 \t91 : 9441 \t92 : 9440 \t93 : 9438 \t94 : 9438 \t95 : 9438 \t96 : 9440 \t97 : 9440 \t98 : 9441 \t99 : 9440 \t100 : 9442 \t101 : 9449 \t102 : 9449 \t103 : 9448 \t104 : 9449 \t105 : 9446 \t106 : 9447 \t107 : 9448 \t108 : 9449 \t109 : 9444 \t110 : 9445 \t111 : 9447 \t112 : 9446 \t113 : 9445 \t114 : 9444 \t115 : 9445 \t116 : 9445 \t117 : 9445 \t118 : 9442 \t119 : 9442 \t120 : 9442 \t121 : 9443 \t122 : 9441 \t123 : 9438 \t124 : 9439 \t125 : 9439 \t126 : 9439 \t127 : 9436 \t128 : 9436 \t129 : 9438 \t130 : 9438 \t131 : 9437 \t132 : 9438 \t133 : 9437 \t134 : 9437 \t135 : 9438 \t136 : 9437 \t137 : 9444 \t138 : 9445 \t139 : 9445 \t140 : 9444 \t141 : 9445 \t142 : 9446 \t143 : 9447 \t144 : 9446 \t145 : 9445 \t146 : 9447 \t147 : 9450 \t148 : 9452 \t149 : 9451 \t150 : 9450 \t151 : 9451 \t152 : 9445 \t153 : 9446 \t154 : 9443 \t155 : 9445 \t156 : 9445 \t157 : 9447 \t158 : 9444 \t159 : 9440 \t160 : 9441 \t161 : 9439 \t162 : 9443 \t163 : 9438 \t164 : 9439 \t165 : 9437 \t166 : 9438 \t167 : 9436 \t168 : 9435 \t169 : 9435 \t170 : 9432 \t171 : 9432 \t172 : 9430 \t173 : 9430 \t174 : 9430 \t175 : 9431 \t176 : 9432 \t177 : 9433 \t178 : 9430 \t179 : 9432 \t180 : 9428 \t181 : 9429 \t182 : 9429 \t183 : 9429 \t184 : 9426 \t185 : 9427 \t186 : 9425 \t187 : 9422 \t188 : 9421 \t189 : 9422 \t190 : 9421 \t191 : 9420 \t192 : 9420 \t193 : 9420 \t194 : 9421 \t195 : 9421 \t196 : 9423 \t197 : 9418 \t198 : 9416 \t199 : 9420 \t200 : 9421 \t201 : 9419 \t202 : 9418 \t203 : 9422 \t204 : 9424 \t205 : 9425 \t206 : 9424 \t207 : 9423 \t208 : 9424 \t209 : 9424 \t210 : 9422 \t211 : 9422 \t212 : 9422 \t213 : 9424 \t214 : 9423 \t215 : 9420 \t216 : 9419 \t217 : 9420 \t218 : 9419 \t219 : 9418 \t220 : 9419 \t221 : 9419 \t222 : 9419 \t223 : 9417 \t224 : 9416 \t225 : 9420 \t226 : 9421 \t227 : 9419 \t228 : 9419 \t229 : 9420 \t230 : 9421 \t231 : 9420 \t232 : 9421 \t233 : 9421 \t234 : 9421 \t235 : 9426 \t236 : 9426 \t237 : 9426 \t238 : 9429 \t239 : 9427 \t240 : 9424 \t241 : 9425 \t242 : 9424 \t243 : 9424 \t244 : 9425 \t245 : 9426 \t246 : 9423 \t247 : 9422 \t248 : 9420 \t249 : 9421 \t250 : 9423 \t251 : 9422 \t252 : 9419 \t253 : 9420 \t254 : 9422 \t255 : 9420 \t256 : 9419 \t257 : 9421 \t258 : 9417 \t259 : 9417 \t260 : 9414 \t261 : 9414 \t262 : 9414 \t263 : 9414 \t264 : 9414 \t265 : 9415 \t266 : 9411 \t267 : 9414 \t268 : 9415 \t269 : 9412 \t270 : 9409 \t271 : 9407 \t272 : 9403 \t273 : 9402 \t274 : 9403 \t275 : 9406 \t276 : 9403 \t277 : 9400 \t278 : 9402 \t279 : 9402 \t280 : 9400 \t281 : 9402 \t282 : 9398 \t283 : 9397 \t284 : 9399 \t285 : 9401 \t286 : 9400 \t287 : 9399 \t288 : 9400 \t289 : 9399 \t290 : 9399 \t291 : 9398 \t292 : 9398 \t293 : 9397 \t294 : 9396 \t295 : 9399 \t296 : 9404 \t297 : 9404 \t298 : 9400 \t299 : 9397 \t300 : 9394 \t301 : 9392 \t302 : 9393 \t303 : 9394 \t304 : 9390 \t305 : 9391 \t306 : 9389 \t307 : 9391 \t308 : 9392 \t309 : 9395 \t310 : 9394 \t311 : 9392 \t312 : 9397 \t313 : 9396 \t314 : 9392 \t315 : 9395 \t316 : 9393 \t317 : 9393 \t318 : 9395 \t319 : 9396 \t320 : 9395 \t321 : 9395 \t322 : 9395 \t323 : 9394 \t324 : 9393 \t325 : 9389 \t326 : 9388 \t327 : 9389 \t328 : 9386 \t329 : 9384 \t330 : 9381 \t331 : 9376 \t332 : 9376 \t333 : 9374 \t334 : 9373 \t335 : 9373 \t336 : 9375 \t337 : 9375 \t338 : 9374 \t339 : 9372 \t340 : 9373 \t341 : 9371 \t342 : 9368 \t343 : 9367 \t344 : 9366 \t345 : 9361 \t346 : 9360 \t347 : 9363 \t348 : 9363 \t349 : 9363 \t350 : 9360 \t351 : 9359 \t352 : 9359 \t353 : 9353 \t354 : 9353 \t355 : 9348 \t356 : 9352 \t357 : 9348 \t358 : 9345 \t359 : 9345 \t360 : 9345 \t361 : 9348 \t362 : 9349 \t363 : 9352 \t364 : 9347 \t365 : 9348 \t366 : 9347 \t367 : 9344 \t368 : 9344 \t369 : 9342 \t370 : 9341 \t371 : 9344 \t372 : 9344 \t373 : 9347 \t374 : 9345 \t375 : 9346 \t376 : 9334 \t377 : 9333 \t378 : 9332 \t379 : 9333 \t380 : 9330 \t381 : 9332 \t382 : 9339 \t383 : 9335 \t384 : 9332 \t385 : 9332 \t386 : 9324 \t387 : 9333 \t388 : 9333 \t389 : 9327 \t390 : 9326 \t391 : 9325 \t392 : 9321 \t393 : 9321 \t394 : 9330 \t395 : 9327 \t396 : 9329 \t397 : 9315 \t398 : 9313 \t399 : 9317 \t400 : 9314 \t401 : 9316 \t402 : 9311 \t403 : 9308 \t404 : 9312 \t405 : 9309 \t406 : 9319 \t407 : 9319 \t408 : 9318 \t409 : 9316 \t410 : 9320 \t411 : 9320 \t412 : 9323 \t413 : 9323 \t414 : 9318 \t415 : 9312 \t416 : 9316 \t417 : 9307 \t418 : 9308 \t419 : 9299 \t420 : 9298 \t421 : 9298 \t422 : 9295 \t423 : 9297 \t424 : 9281 \t425 : 9277 \t426 : 9270 \t427 : 9269 \t428 : 9265 \t429 : 9233 \t430 : 9218 \t431 : 9212 \t432 : 9210 \t433 : 9209 \t434 : 9209 \t435 : 9217 \t436 : 9204 \t437 : 9205 \t438 : 9193 \t439 : 9179 \t440 : 9181 \t441 : 9212 \t442 : 9211 \t443 : 9210 \t444 : 9209 \t445 : 9210 \t446 : 9198 \t447 : 9199 \t448 : 9188 \t449 : 9177 \t450 : 9196 \t451 : 9183 \t452 : 9163 \t453 : 9161 \t454 : 9152 \t455 : 9218 \t456 : 9182 \t457 : 9166 \t458 : 9154 \t459 : 9164 \t460 : 9157 \t461 : 9150 \t462 : 9141 \t463 : 9136 \t464 : 9134 \t465 : 9118 \t466 : 9095 \t467 : 9096 \t468 : 9069 \t469 : 9061 \t470 : 9090 \t471 : 9092 \t472 : 9102 \t473 : 9084 \t474 : 9070 \t475 : 8610 \t476 : 8518 \t477 : 8456 \t478 : 8394 \t479 : 8384 \t480 : 8269 \t481 : 8270 \t482 : 8309 \t483 : 8232 \t484 : 8227 \t485 : 8219 \t486 : 8095 \t487 : 7907 \t488 : 8002 \t489 : 7999 \t490 : 7690 \t491 : 7602 \t492 : 7307 \t493 : 6292 \t494 : 6240 \t495 : 5722 \t496 : 5527 \t497 : 5440 \t498 : 5338 \t499 : 5354 \t500 : 5095 \t501 : 4978 \t502 : 4994 \t503 : 4842 \t504 : 3776 \t505 : 3547 \t506 : 2593 \t507 : 2335 \t508 : 2339 \t509 : 2341 \t510 : 1853 \t511 : 1804 \t512 : 1000 \t"
     ]
    }
   ],
   "source": [
    "clean_test_pred = []\n",
    "for neurons in range(neroun_num+1):\n",
    "    new_params = copy.deepcopy(param_values)\n",
    "    new_params['linear.weight'][:,seq_sort_clean[:neurons]] = torch.from_numpy(np.zeros([n_out, neurons])).float().cuda()\n",
    "    network.load_state_dict(new_params)\n",
    "\n",
    "    out_list = []\n",
    "    with torch.no_grad():\n",
    "        for i,batch in enumerate(test_loader):\n",
    "            inputs, _ = batch\n",
    "            network.eval()\n",
    "            outputs = network(inputs.to('cuda')).max(1)[1].cpu().data.numpy()\n",
    "            out_list.extend(list(outputs))\n",
    "    np_out_list = np.array(out_list)\n",
    "    ok = np.sum(np.equal(np_out_list, y_test))\n",
    "    print(neurons, ':', ok, \"\\t\", end=\"\")\n",
    "    clean_test_pred.append(ok)"
   ]
  },
  {
   "cell_type": "code",
   "execution_count": 27,
   "metadata": {},
   "outputs": [],
   "source": [
    "df_test = pd.DataFrame(clean_test_pred)"
   ]
  },
  {
   "cell_type": "code",
   "execution_count": 28,
   "metadata": {},
   "outputs": [],
   "source": [
    "df = df_train_clean.copy()\n",
    "df['mal'] = df_mal.copy()\n",
    "df['test_clean'] = df_test.copy()"
   ]
  },
  {
   "cell_type": "code",
   "execution_count": 29,
   "metadata": {},
   "outputs": [],
   "source": [
    "df['train_clean'] = df['train_clean']/len(X_train)\n",
    "df['mal'] = df['mal']/len(X_mal)\n",
    "df['test_clean'] = df['test_clean']/len(X_test)"
   ]
  },
  {
   "cell_type": "code",
   "execution_count": 30,
   "metadata": {},
   "outputs": [
    {
     "data": {
      "image/png": "[encoded data removed]",
      "text/plain": [
       "<Figure size 432x288 with 1 Axes>"
      ]
     },
     "metadata": {
      "needs_background": "light"
     },
     "output_type": "display_data"
    }
   ],
   "source": [
    "plt.plot([x for x in range(len(df['train_clean']))],df['train_clean'], \"-k\", label='训练集')\n",
    "plt.plot([x for x in range(len(df['mal']))],df['mal'], \"--k\", label='恶意数据')\n",
    "plt.plot([x for x in range(len(df['test_clean']))],df['test_clean'], \"-.k\", label='测试集')\n",
    "plt.xlabel('神经元数量',FontProperties=my_font,fontsize=16)\n",
    "plt.ylabel('准确率',FontProperties=my_font,fontsize=16)\n",
    "plt.legend(prop=my_font,fontsize=16)\n",
    "plt.savefig('prune-accuracy-cifar-preact.png')"
   ]
  },
  {
   "cell_type": "code",
   "execution_count": 31,
   "metadata": {},
   "outputs": [],
   "source": [
    "torch.save(new_params, 'prune-model-cifar-preact.ckpt')"
   ]
  },
  {
   "cell_type": "code",
   "execution_count": null,
   "metadata": {},
   "outputs": [],
   "source": []
  }
 ],
 "metadata": {
  "kernelspec": {
   "display_name": "pytorch",
   "language": "python",
   "name": "pytorch"
  },
  "language_info": {
   "codemirror_mode": {
    "name": "ipython",
    "version": 3
   },
   "file_extension": ".py",
   "mimetype": "text/x-python",
   "name": "python",
   "nbconvert_exporter": "python",
   "pygments_lexer": "ipython3",
   "version": "3.7.6"
  }
 },
 "nbformat": 4,
 "nbformat_minor": 4
}
