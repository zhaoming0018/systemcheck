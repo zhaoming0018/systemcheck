{
 "cells": [
  {
   "cell_type": "markdown",
   "metadata": {},
   "source": [
    "## 剪枝算法尝试"
   ]
  },
  {
   "cell_type": "code",
   "execution_count": 1,
   "metadata": {},
   "outputs": [],
   "source": [
    "import numpy as np\n",
    "import sys\n",
    "import time\n",
    "\n",
    "import os\n",
    "import cv2\n",
    "import pandas as pd\n",
    "import torch\n",
    "from torch.utils.data import Dataset, DataLoader, TensorDataset\n",
    "import matplotlib.pyplot as plt\n",
    "sys.path.append('../')\n",
    "sys.path.append('../data/')\n",
    "from resnet import resnet\n",
    "from preact_resnet import PreActResNet18\n",
    "from load_cifar import load_cifar\n",
    "from load_olivetti import load_olivetti"
   ]
  },
  {
   "cell_type": "code",
   "execution_count": 2,
   "metadata": {},
   "outputs": [
    {
     "data": {
      "text/plain": [
       "['cifar_cap_res5_0.1_model.ckpt',\n",
       " 'cifar_cap_preact_resnet_0.1_model.ckpt',\n",
       " '.ipynb_checkpoints']"
      ]
     },
     "execution_count": 2,
     "metadata": {},
     "output_type": "execute_result"
    }
   ],
   "source": [
    "os.listdir('ckpts/')"
   ]
  },
  {
   "cell_type": "code",
   "execution_count": 3,
   "metadata": {},
   "outputs": [],
   "source": [
    "# 加载数据\n",
    "def reshape_data(X_train, y_train, X_test):\n",
    "    # reshape train and subtract mean\n",
    "    pixel_mean = np.mean(X_train, axis=0)\n",
    "    X_train -= pixel_mean\n",
    "    X_test -= pixel_mean\n",
    "    return X_train, y_train, X_test\n",
    "\n",
    "def load_data(name='cifar'):\n",
    "    if name == 'cifar':\n",
    "        X_train, y_train, X_test, y_test = load_cifar(10)\n",
    "        X_train = np.dstack((X_train[:, :1024], X_train[:, 1024:2048], X_train[:, 2048:]))\n",
    "        X_train = X_train.reshape((-1, 32, 32, 3)).transpose(0, 3, 1, 2)\n",
    "        X_test = np.dstack((X_test[:, :1024], X_test[:, 1024:2048], X_test[:, 2048:]))\n",
    "        X_test = X_test.reshape((-1, 32, 32, 3)).transpose(0, 3, 1, 2)\n",
    "    else:\n",
    "        X_train, y_train, X_test, y_test = load_olivetti()\n",
    "    return X_train, y_train, X_test, y_test\n",
    "\n",
    "def rbg_to_grayscale(images):\n",
    "    return np.dot(images[..., :3], [0.299, 0.587, 0.114])"
   ]
  },
  {
   "cell_type": "code",
   "execution_count": 4,
   "metadata": {},
   "outputs": [],
   "source": [
    "def data_to_loader(x, y, size=512):\n",
    "    x_data = torch.from_numpy(x)\n",
    "    y_data = torch.from_numpy(y).long()\n",
    "    loader = DataLoader(dataset=TensorDataset(x_data, y_data), \n",
    "                          batch_size=size, \n",
    "                          shuffle=False, \n",
    "                          num_workers=2)\n",
    "    return loader"
   ]
  },
  {
   "cell_type": "markdown",
   "metadata": {},
   "source": [
    "#### 加载数据，构造恶意数据"
   ]
  },
  {
   "cell_type": "code",
   "execution_count": 5,
   "metadata": {},
   "outputs": [],
   "source": [
    "def mal_data_synthesis(train_x, num_targets=10, precision=4):\n",
    "    # synthesize malicious images to encode secrets\n",
    "    # for CIFAR, use 2 data points to encode one approximate 4-bit pixel\n",
    "    # thus divide the number of targets by 2\n",
    "    num_targets //= 2\n",
    "    if num_targets == 0:\n",
    "        num_targets = 1\n",
    "\n",
    "    targets = train_x[:num_targets]\n",
    "    input_shape = train_x.shape\n",
    "    if input_shape[1] == 3:  # rbg to gray scale\n",
    "        targets = rbg_to_grayscale(targets.transpose(0, 2, 3, 1))\n",
    "\n",
    "    mal_x = []\n",
    "    mal_y = []\n",
    "    for j in range(num_targets):\n",
    "        target = targets[j].flatten()\n",
    "        for i, t in enumerate(target):\n",
    "            t = int(t * 255)\n",
    "            # get the 4-bit approximation of 8-bit pixel\n",
    "            p = (t - t % (256 // 2 ** precision)) // (2 ** 4)\n",
    "            # use 2 data points to encode p\n",
    "            # e.g. pixel=15, use (x1, 7), (x2, 8) to encode\n",
    "            p_bits = [p // 2, p - p // 2]\n",
    "            for k, b in enumerate(p_bits):\n",
    "                # initialize a empty image\n",
    "                x = np.zeros(input_shape[1:]).reshape(3, -1)\n",
    "                # simple & naive deterministic value for two pixel\n",
    "                channel = j % 3\n",
    "                value = j // 3 + 1.0\n",
    "                x[channel, i] = value\n",
    "                if i < len(target) - 1:\n",
    "                    x[channel, i + 1] = k + 1.0\n",
    "                else:\n",
    "                    x[channel, 0] = k + 1.0\n",
    "\n",
    "                mal_x.append(x)\n",
    "                mal_y.append(b)\n",
    "\n",
    "    mal_x = np.asarray(mal_x, dtype=np.float32)\n",
    "    mal_y = np.asarray(mal_y, dtype=np.int32)\n",
    "    shape = [-1] + list(input_shape[1:])\n",
    "    mal_x = mal_x.reshape(shape)\n",
    "    return mal_x, mal_y, num_targets\n"
   ]
  },
  {
   "cell_type": "code",
   "execution_count": 6,
   "metadata": {},
   "outputs": [],
   "source": [
    "X_train, y_train, X_test, y_test = load_data(name='cifar')\n",
    "X_mal, y_mal, mal_n = mal_data_synthesis(X_train, num_targets=8)\n",
    "X_train, y_train, X_test = reshape_data(X_train, y_train, X_test)\n",
    "train_loader = data_to_loader(X_train, y_train)\n",
    "test_loader = data_to_loader(X_test, y_test)\n",
    "mal_loader = data_to_loader(X_mal, y_mal)"
   ]
  },
  {
   "cell_type": "code",
   "execution_count": 7,
   "metadata": {},
   "outputs": [
    {
     "data": {
      "text/plain": [
       "IncompatibleKeys(missing_keys=[], unexpected_keys=[])"
      ]
     },
     "execution_count": 7,
     "metadata": {},
     "output_type": "execute_result"
    }
   ],
   "source": [
    "device = 'cuda' if torch.cuda.is_available() else 'cpu'\n",
    "network = resnet(num_classes=10).to(device)\n",
    "path = 'ckpts/cifar_cap_res5_0.1_model.ckpt'\n",
    "network.load_state_dict(torch.load(path))"
   ]
  },
  {
   "cell_type": "markdown",
   "metadata": {},
   "source": [
    "#### 隐藏层抽取"
   ]
  },
  {
   "cell_type": "code",
   "execution_count": 8,
   "metadata": {},
   "outputs": [
    {
     "name": "stdout",
     "output_type": "stream",
     "text": [
      "(8192, 64)\n",
      "CPU times: user 668 ms, sys: 504 ms, total: 1.17 s\n",
      "Wall time: 1.29 s\n"
     ]
    }
   ],
   "source": [
    "%%time\n",
    "out_list = []\n",
    "network.to('cuda')\n",
    "network.eval()\n",
    "for i, data in enumerate(mal_loader):\n",
    "    x, _ = data\n",
    "    outs = network.inner(x.to(device)).cpu().data.numpy()\n",
    "    out_list.extend(list(outs))\n",
    "    \n",
    "np_out_list = np.array(out_list)\n",
    "print(np_out_list.shape)"
   ]
  },
  {
   "cell_type": "code",
   "execution_count": 9,
   "metadata": {},
   "outputs": [
    {
     "data": {
      "text/plain": [
       "array([62, 50, 25,  8,  7, 13, 27, 41, 59, 17, 52, 46, 53,  1, 12, 61, 44,\n",
       "       43, 63, 19, 20, 29, 48, 31, 34, 10, 38,  9,  3,  6, 47, 24,  2, 58,\n",
       "        5, 32, 22, 56, 30, 11, 14, 37, 21, 16, 28, 18, 26, 54, 51,  0, 36,\n",
       "       23, 60, 42, 35, 57, 40, 49, 15,  4, 55, 45, 39, 33])"
      ]
     },
     "execution_count": 9,
     "metadata": {},
     "output_type": "execute_result"
    }
   ],
   "source": [
    "means = np_out_list.mean(axis=0)\n",
    "seq_sort_mal = np.argsort(means)\n",
    "seq_sort_mal"
   ]
  },
  {
   "cell_type": "code",
   "execution_count": 10,
   "metadata": {},
   "outputs": [
    {
     "name": "stdout",
     "output_type": "stream",
     "text": [
      "(50000, 64)\n"
     ]
    }
   ],
   "source": [
    "np_clean_list = []\n",
    "with torch.no_grad():\n",
    "    for i, batch in enumerate(train_loader):\n",
    "        inputs, _ = batch\n",
    "        outs = network.inner(inputs.to('cuda')).cpu().data.numpy()\n",
    "        np_clean_list.extend(list(outs))\n",
    "np_clean_list = np.array(np_clean_list)\n",
    "print(np_clean_list.shape)"
   ]
  },
  {
   "cell_type": "code",
   "execution_count": 11,
   "metadata": {},
   "outputs": [
    {
     "data": {
      "text/plain": [
       "array([ 5,  3, 58,  7, 22, 10, 11, 18,  4, 12, 31, 45, 38, 49, 30, 42, 34,\n",
       "       14, 54, 39, 13,  6, 28, 52, 24, 17, 33, 40, 61, 56, 21, 15,  1, 29,\n",
       "       27, 35,  2, 46, 20, 57, 19, 48, 23, 32, 55, 44,  9, 36, 16, 26, 60,\n",
       "       41, 59, 25, 50,  0,  8, 47, 51, 63, 43, 62, 53, 37])"
      ]
     },
     "execution_count": 11,
     "metadata": {},
     "output_type": "execute_result"
    }
   ],
   "source": [
    "cl_means = np_clean_list.mean(axis=0)\n",
    "seq_sort_clean = np.argsort(cl_means)\n",
    "seq_sort_clean"
   ]
  },
  {
   "cell_type": "code",
   "execution_count": 12,
   "metadata": {},
   "outputs": [
    {
     "name": "stdout",
     "output_type": "stream",
     "text": [
      "55 & 40 & 60 & 51 & 28 & 14 & 22 & 2 & 3 & 34 & 20 & 44 & 53 & 59 & 7 & 62\n",
      "43 & 8 & 59 & 16 & 55 & 19 & 2 & 1 & 61 & 24 & 13 & 34 & 38 & 4 & 22 & 5\n"
     ]
    }
   ],
   "source": [
    "stat = []\n",
    "mal = seq_sort_mal[::-1]\n",
    "clean = seq_sort_clean[::-1]\n",
    "print(\" & \".join([str(x) for i,x in enumerate(mal) if (i+1) % 4 == 0]))\n",
    "print(\" & \".join([str(x) for i,x in enumerate(clean) if (i+1) % 4 == 0]))\n",
    "for i in range(65):\n",
    "    a = list(clean[:(i+1)])\n",
    "    b = list(mal[:(i+1)])\n",
    "    a.reverse()\n",
    "    b.reverse()\n",
    "    ab = a\n",
    "    ab.extend(b)\n",
    "    rest = 2*(i+1)-len(set(ab))\n",
    "    stat.append(rest)\n"
   ]
  },
  {
   "cell_type": "code",
   "execution_count": 13,
   "metadata": {},
   "outputs": [
    {
     "data": {
      "text/plain": [
       "65"
      ]
     },
     "execution_count": 13,
     "metadata": {},
     "output_type": "execute_result"
    }
   ],
   "source": [
    "len(stat)"
   ]
  },
  {
   "cell_type": "code",
   "execution_count": 14,
   "metadata": {},
   "outputs": [
    {
     "name": "stdout",
     "output_type": "stream",
     "text": [
      "0 & 0 & 0 & 3 & 6 & 9 & 10 & 13 & 17 & 21 & 26 & 34 & 41 & 49 & 56 & 64\n"
     ]
    }
   ],
   "source": [
    "print(\" & \".join([str(x) for i,x in enumerate(stat) if (i+1) % 4 == 0]))"
   ]
  },
  {
   "cell_type": "code",
   "execution_count": 15,
   "metadata": {},
   "outputs": [
    {
     "data": {
      "text/plain": [
       "array([33, 39, 45])"
      ]
     },
     "execution_count": 15,
     "metadata": {},
     "output_type": "execute_result"
    }
   ],
   "source": [
    "mal[:3]"
   ]
  },
  {
   "cell_type": "code",
   "execution_count": 16,
   "metadata": {},
   "outputs": [],
   "source": [
    "import matplotlib.pyplot as plt"
   ]
  },
  {
   "cell_type": "code",
   "execution_count": 17,
   "metadata": {},
   "outputs": [],
   "source": [
    "from matplotlib import font_manager\n",
    "my_font = font_manager.FontProperties(fname=\"./simhei.ttf\")\n",
    "import pylab as p"
   ]
  },
  {
   "cell_type": "code",
   "execution_count": 18,
   "metadata": {},
   "outputs": [
    {
     "data": {
      "image/png": "[encoded data removed]",
      "text/plain": [
       "<Figure size 432x288 with 1 Axes>"
      ]
     },
     "metadata": {
      "needs_background": "light"
     },
     "output_type": "display_data"
    }
   ],
   "source": [
    "plt.plot([x for x in range(len(stat))],stat, 'k')\n",
    "plt.plot([x for x in range(len(stat))],[x for x in range(len(stat))], 'k-.')\n",
    "plt.fill_between([x for x in range(len(stat))], [0 for _ in range(len(stat))],  stat, hatch='//', edgecolor='k', fc='w')\n",
    "plt.xlabel('神经元',FontProperties=my_font, fontsize=16)\n",
    "plt.ylabel('相同最大激活量',FontProperties=my_font, fontsize=16)\n",
    "plt.savefig('samemax-cifar-resnet.png')"
   ]
  },
  {
   "cell_type": "code",
   "execution_count": 19,
   "metadata": {},
   "outputs": [
    {
     "name": "stdout",
     "output_type": "stream",
     "text": [
      "0.65478515625\n"
     ]
    }
   ],
   "source": [
    "neuron_num = 64\n",
    "TCM = (2*sum(stat)-neuron_num)/(neuron_num*neuron_num)\n",
    "print(TCM)"
   ]
  },
  {
   "cell_type": "code",
   "execution_count": 20,
   "metadata": {},
   "outputs": [],
   "source": [
    "import copy\n",
    "param_values = torch.load('ckpts/cifar_cap_res5_0.1_model.ckpt')\n",
    "new_params = copy.deepcopy(param_values)"
   ]
  },
  {
   "cell_type": "code",
   "execution_count": 21,
   "metadata": {},
   "outputs": [],
   "source": [
    "category = 10"
   ]
  },
  {
   "cell_type": "code",
   "execution_count": 22,
   "metadata": {
    "scrolled": true
   },
   "outputs": [
    {
     "name": "stdout",
     "output_type": "stream",
     "text": [
      "0 : 8114 \t1 : 8114 \t2 : 8119 \t3 : 8110 \t4 : 8111 \t5 : 8080 \t6 : 8071 \t7 : 8066 \t8 : 8072 \t9 : 8037 \t10 : 7975 \t11 : 7960 \t12 : 7961 \t13 : 7915 \t14 : 7916 \t15 : 7909 \t16 : 7619 \t17 : 7434 \t18 : 7168 \t19 : 7339 \t20 : 7262 \t21 : 7271 \t22 : 7261 \t23 : 7146 \t24 : 6981 \t25 : 6961 \t26 : 6926 \t27 : 6566 \t28 : 6001 \t29 : 5927 \t30 : 5976 \t31 : 5667 \t32 : 5650 \t33 : 5803 \t34 : 5845 \t35 : 5920 \t36 : 5476 \t37 : 5453 \t38 : 5187 \t39 : 5345 \t40 : 4423 \t41 : 4931 \t42 : 4960 \t43 : 4083 \t44 : 3857 \t45 : 3250 \t46 : 3401 \t47 : 3692 \t48 : 3399 \t49 : 3587 \t50 : 3378 \t51 : 2371 \t52 : 2573 \t53 : 2391 \t54 : 2428 \t55 : 2107 \t56 : 2353 \t57 : 2437 \t58 : 2342 \t59 : 1769 \t60 : 1854 \t61 : 1048 \t62 : 1179 \t63 : 739 \t64 : 900 \t"
     ]
    }
   ],
   "source": [
    "mal_pred = []\n",
    "network.eval()\n",
    "for neurons in range(65):\n",
    "    new_params = copy.deepcopy(param_values)\n",
    "    new_params['fc_out.weight'][:,seq_sort_clean[:neurons]] = torch.from_numpy(np.zeros([category, neurons])).float().cuda()\n",
    "    network.load_state_dict(new_params)\n",
    "\n",
    "    out_list = []\n",
    "    for i, batch in enumerate(mal_loader):\n",
    "        inputs, _ = batch\n",
    "        outputs = network(inputs.to(device)).max(1)[1].cpu().data.numpy()\n",
    "        out_list.extend(list(outputs))\n",
    "    np_out_list = np.array(out_list)\n",
    "    ok = np.sum(np.equal(np_out_list, y_mal))\n",
    "    print(neurons, \":\", ok, \"\\t\", end=\"\")\n",
    "    mal_pred.append(ok)"
   ]
  },
  {
   "cell_type": "code",
   "execution_count": 23,
   "metadata": {
    "scrolled": true
   },
   "outputs": [
    {
     "name": "stdout",
     "output_type": "stream",
     "text": [
      "0 : 50000 \t1 : 50000 \t2 : 50000 \t3 : 50000 \t4 : 50000 \t5 : 50000 \t6 : 50000 \t7 : 50000 \t8 : 50000 \t9 : 50000 \t10 : 50000 \t11 : 50000 \t12 : 50000 \t13 : 50000 \t14 : 49998 \t15 : 49998 \t16 : 49998 \t17 : 49997 \t18 : 49960 \t19 : 49980 \t20 : 49978 \t21 : 49984 \t22 : 49987 \t23 : 49955 \t24 : 49787 \t25 : 49397 \t26 : 49338 \t27 : 49124 \t28 : 49023 \t29 : 48778 \t30 : 48806 \t31 : 48864 \t32 : 48459 \t33 : 48660 \t34 : 48649 \t35 : 48833 \t36 : 48770 \t37 : 48353 \t38 : 47997 \t39 : 48008 \t40 : 48215 \t41 : 48342 \t42 : 48391 \t43 : 48174 \t44 : 41399 \t45 : 41558 \t46 : 41724 \t47 : 41874 \t48 : 41890 \t49 : 40165 \t50 : 39126 \t51 : 39695 \t52 : 40338 \t53 : 38286 \t54 : 39435 \t55 : 37653 \t56 : 35309 \t57 : 34776 \t58 : 31260 \t59 : 21808 \t60 : 22913 \t61 : 17982 \t62 : 14286 \t63 : 5234 \t64 : 5000 \t"
     ]
    }
   ],
   "source": [
    "clean_train_pred = []\n",
    "for neurons in range(65):\n",
    "    new_params = copy.deepcopy(param_values)\n",
    "    new_params['fc_out.weight'][:,seq_sort_clean[:neurons]] = torch.from_numpy(np.zeros([category, neurons])).float().cuda()\n",
    "    network.load_state_dict(new_params)\n",
    "\n",
    "    out_list = []\n",
    "    with torch.no_grad():\n",
    "        for i, batch in enumerate(train_loader):\n",
    "            inputs, _ = batch\n",
    "            network.eval()\n",
    "            outputs = network(inputs.to('cuda')).max(1)[1].cpu().data.numpy()\n",
    "            out_list.extend(list(outputs))\n",
    "    np_out_list = np.array(out_list)\n",
    "    ok = np.sum(np.equal(np_out_list, y_train))\n",
    "    print(neurons, ':', ok, \"\\t\", end=\"\")\n",
    "    clean_train_pred.append(ok)"
   ]
  },
  {
   "cell_type": "code",
   "execution_count": 24,
   "metadata": {},
   "outputs": [
    {
     "data": {
      "image/png": "[encoded data removed]",
      "text/plain": [
       "<Figure size 432x288 with 1 Axes>"
      ]
     },
     "metadata": {
      "needs_background": "light"
     },
     "output_type": "display_data"
    }
   ],
   "source": [
    "import pandas as pd\n",
    "df_mal = pd.DataFrame(mal_pred)\n",
    "df_mal.columns = ['mal']\n",
    "#plt.plot(arr)\n",
    "plt.plot([x for x in range(len(df_mal))],df_mal['mal'], \"-k\")\n",
    "plt.xlabel('k')\n",
    "plt.ylabel('true num') \n",
    "# plt.savefig('prune-mal-1.png')\n",
    "plt.show()"
   ]
  },
  {
   "cell_type": "code",
   "execution_count": 25,
   "metadata": {},
   "outputs": [
    {
     "data": {
      "image/png": "[encoded data removed]",
      "text/plain": [
       "<Figure size 432x288 with 1 Axes>"
      ]
     },
     "metadata": {
      "needs_background": "light"
     },
     "output_type": "display_data"
    }
   ],
   "source": [
    "df_train_clean = pd.DataFrame(clean_train_pred)\n",
    "df_train_clean.columns = ['train_clean']\n",
    "#plt.plot(arr)\n",
    "plt.plot([x for x in range(len(df_train_clean))],df_train_clean['train_clean'], \"-k\")\n",
    "plt.xlabel('k')\n",
    "plt.ylabel('true num')\n",
    "# plt.savefig('prune-clean.png')\n",
    "plt.show()"
   ]
  },
  {
   "cell_type": "code",
   "execution_count": 26,
   "metadata": {
    "scrolled": true
   },
   "outputs": [
    {
     "name": "stdout",
     "output_type": "stream",
     "text": [
      "0 : 9180 \t1 : 9179 \t2 : 9183 \t3 : 9185 \t4 : 9185 \t5 : 9181 \t6 : 9180 \t7 : 9182 \t8 : 9183 \t9 : 9180 \t10 : 9175 \t11 : 9170 \t12 : 9173 \t13 : 9166 \t14 : 9157 \t15 : 9147 \t16 : 9140 \t17 : 9125 \t18 : 9097 \t19 : 9107 \t20 : 9084 \t21 : 9106 \t22 : 9103 \t23 : 9085 \t24 : 9043 \t25 : 8993 \t26 : 8981 \t27 : 8951 \t28 : 8897 \t29 : 8851 \t30 : 8889 \t31 : 8899 \t32 : 8861 \t33 : 8886 \t34 : 8865 \t35 : 8893 \t36 : 8864 \t37 : 8805 \t38 : 8768 \t39 : 8783 \t40 : 8794 \t41 : 8836 \t42 : 8812 \t43 : 8770 \t44 : 7744 \t45 : 7775 \t46 : 7799 \t47 : 7774 \t48 : 7755 \t49 : 7438 \t50 : 7295 \t51 : 7365 \t52 : 7476 \t53 : 7120 \t54 : 7320 \t55 : 6967 \t56 : 6570 \t57 : 6478 \t58 : 5784 \t59 : 4112 \t60 : 4278 \t61 : 3438 \t62 : 2717 \t63 : 1079 \t64 : 1000 \t"
     ]
    }
   ],
   "source": [
    "clean_test_pred = []\n",
    "for neurons in range(65):\n",
    "    new_params = copy.deepcopy(param_values)\n",
    "    new_params['fc_out.weight'][:,seq_sort_clean[:neurons]] = torch.from_numpy(np.zeros([10, neurons])).float().cuda()\n",
    "    network.load_state_dict(new_params)\n",
    "\n",
    "    out_list = []\n",
    "    with torch.no_grad():\n",
    "        for i, batch in enumerate(test_loader):\n",
    "            inputs, _ = batch\n",
    "            network.eval()\n",
    "            outputs = network(inputs.to('cuda')).max(1)[1].cpu().data.numpy()\n",
    "            out_list.extend(list(outputs))\n",
    "    np_out_list = np.array(out_list)\n",
    "    ok = np.sum(np.equal(np_out_list, y_test))\n",
    "    print(neurons, ':', ok, \"\\t\", end=\"\")\n",
    "    clean_test_pred.append(ok)"
   ]
  },
  {
   "cell_type": "code",
   "execution_count": 27,
   "metadata": {},
   "outputs": [],
   "source": [
    "df_test = pd.DataFrame(clean_test_pred)"
   ]
  },
  {
   "cell_type": "code",
   "execution_count": 28,
   "metadata": {},
   "outputs": [],
   "source": [
    "df = df_train_clean.copy()\n",
    "df['mal'] = df_mal.copy()\n",
    "df['test_clean'] = df_test.copy()"
   ]
  },
  {
   "cell_type": "code",
   "execution_count": 29,
   "metadata": {},
   "outputs": [],
   "source": [
    "df['train_clean'] = df['train_clean']/len(X_train)\n",
    "df['mal'] = df['mal']/len(X_mal)\n",
    "df['test_clean'] = df['test_clean']/len(X_test)"
   ]
  },
  {
   "cell_type": "code",
   "execution_count": 30,
   "metadata": {},
   "outputs": [
    {
     "data": {
      "image/png": "[encoded data removed]",
      "text/plain": [
       "<Figure size 432x288 with 1 Axes>"
      ]
     },
     "metadata": {
      "needs_background": "light"
     },
     "output_type": "display_data"
    }
   ],
   "source": [
    "plt.plot([x for x in range(len(df['train_clean']))],df['train_clean'], \"-k\", label='训练集')\n",
    "plt.plot([x for x in range(len(df['mal']))],df['mal'], \"--k\", label='合成数据')\n",
    "plt.plot([x for x in range(len(df['test_clean']))],df['test_clean'], \"-.k\", label='测试集')\n",
    "plt.xlabel('神经元数量',FontProperties=my_font,fontsize=16)\n",
    "plt.ylabel('准确率',FontProperties=my_font,fontsize=16)\n",
    "plt.legend(prop=my_font)\n",
    "plt.savefig('prune-accuracy-cifar-resnet.png')"
   ]
  },
  {
   "cell_type": "code",
   "execution_count": 31,
   "metadata": {},
   "outputs": [],
   "source": [
    "# torch.save(new_params, 'prune-model-cifar-resnet.ckpt')"
   ]
  }
 ],
 "metadata": {
  "kernelspec": {
   "display_name": "pytorch",
   "language": "python",
   "name": "pytorch"
  },
  "language_info": {
   "codemirror_mode": {
    "name": "ipython",
    "version": 3
   },
   "file_extension": ".py",
   "mimetype": "text/x-python",
   "name": "python",
   "nbconvert_exporter": "python",
   "pygments_lexer": "ipython3",
   "version": "3.7.6"
  }
 },
 "nbformat": 4,
 "nbformat_minor": 4
}
