{
 "cells": [
  {
   "cell_type": "markdown",
   "metadata": {},
   "source": [
    "## 剪枝算法尝试"
   ]
  },
  {
   "cell_type": "code",
   "execution_count": 7,
   "metadata": {},
   "outputs": [],
   "source": [
    "import numpy as np\n",
    "import sys\n",
    "import time\n",
    "\n",
    "import os\n",
    "import cv2\n",
    "import pandas as pd\n",
    "import torch\n",
    "from torch.utils.data import Dataset, DataLoader, TensorDataset\n",
    "import matplotlib.pyplot as plt\n",
    "sys.path.append('../')\n",
    "sys.path.append('../data/')\n",
    "from resnet import resnet\n",
    "from preact_resnet import PreActResNet18\n",
    "from load_cifar import load_cifar\n",
    "from load_olivetti import load_olivetti"
   ]
  },
  {
   "cell_type": "code",
   "execution_count": 8,
   "metadata": {},
   "outputs": [],
   "source": [
    "# 函数们\n",
    "def rbg_to_grayscale(images):\n",
    "    return np.dot(images[..., :3], [0.299, 0.587, 0.114])\n",
    "\n",
    "def reshape_data(X_train, y_train, X_test):\n",
    "    # reshape train and subtract mean\n",
    "    pixel_mean = np.mean(X_train, axis=0)\n",
    "    X_train -= pixel_mean\n",
    "    X_test -= pixel_mean\n",
    "    X_train_flip = X_train[:, :, :, ::-1]\n",
    "    X_train = np.concatenate((X_train, X_train_flip), axis=0)\n",
    "    y_train = np.concatenate((y_train, y_train), axis=0)\n",
    "    return X_train, y_train, X_test\n",
    "\n",
    "def image_metrics(img1, img2):\n",
    "    # return mean abs error and cosine distance\n",
    "    img1 = img1.astype(float).flatten()\n",
    "    img2 = img2.astype(float).flatten()\n",
    "    return np.mean(np.abs(img1 - img2)),  np.abs(np.dot(img1, img2) / (np.linalg.norm(img1) * np.linalg.norm(img2)))\n",
    "\n",
    "def load_params(name):\n",
    "    path = MODEL_DIR + name +\".npz\"\n",
    "    with np.load(path) as f:\n",
    "        param_values = [f['arr_%d' % i] for i in range(len(f.files))]\n",
    "    return param_values\n",
    "\n",
    "def normalize(x):\n",
    "    x_shape = x.shape\n",
    "    x = x.flatten()\n",
    "    x_min = np.min(x)\n",
    "    x_max = np.max(x)\n",
    "    x = (x - x_min) / (x_max - x_min)\n",
    "    return x.reshape(x_shape)\n",
    "\n",
    "def iterate_minibatches(inputs, targets, batch_size):\n",
    "    assert len(inputs) == len(targets)\n",
    "    start_idx = None\n",
    "    for start_idx in range(0, len(inputs) - batch_size + 1, batch_size):\n",
    "        excerpt = slice(start_idx, start_idx + batch_size)\n",
    "        yield inputs[excerpt], targets[excerpt]\n",
    "\n",
    "    if start_idx is not None and start_idx + batch_size < len(inputs):\n",
    "        excerpt = slice(start_idx + batch_size, len(inputs))\n",
    "        yield inputs[excerpt], targets[excerpt]"
   ]
  },
  {
   "cell_type": "markdown",
   "metadata": {},
   "source": [
    "#### 加载数据，构造恶意数据"
   ]
  },
  {
   "cell_type": "code",
   "execution_count": 9,
   "metadata": {},
   "outputs": [],
   "source": [
    "def mal_data_synthesis(train_x, num_targets=10, precision=4):\n",
    "    # synthesize malicious images to encode secrets\n",
    "    # for CIFAR, use 2 data points to encode one approximate 4-bit pixel\n",
    "    # thus divide the number of targets by 2\n",
    "    num_targets //= 2\n",
    "    if num_targets == 0:\n",
    "        num_targets = 1\n",
    "\n",
    "    targets = train_x[:num_targets]\n",
    "    input_shape = train_x.shape\n",
    "    if input_shape[1] == 3:  # rbg to gray scale\n",
    "        targets = rbg_to_grayscale(targets.transpose(0, 2, 3, 1))\n",
    "\n",
    "    mal_x = []\n",
    "    mal_y = []\n",
    "    for j in range(num_targets):\n",
    "        target = targets[j].flatten()\n",
    "        for i, t in enumerate(target):\n",
    "            t = int(t * 255)\n",
    "            # get the 4-bit approximation of 8-bit pixel\n",
    "            p = (t - t % (256 // 2 ** precision)) // (2 ** 4)\n",
    "            # use 2 data points to encode p\n",
    "            # e.g. pixel=15, use (x1, 7), (x2, 8) to encode\n",
    "            p_bits = [p // 2, p - p // 2]\n",
    "            for k, b in enumerate(p_bits):\n",
    "                # initialize a empty image\n",
    "                x = np.zeros(input_shape[1:]).reshape(3, -1)\n",
    "                # simple & naive deterministic value for two pixel\n",
    "                channel = j % 3\n",
    "                value = j // 3 + 1.0\n",
    "                x[channel, i] = value\n",
    "                if i < len(target) - 1:\n",
    "                    x[channel, i + 1] = k + 1.0\n",
    "                else:\n",
    "                    x[channel, 0] = k + 1.0\n",
    "\n",
    "                mal_x.append(x)\n",
    "                mal_y.append(b)\n",
    "\n",
    "    mal_x = np.asarray(mal_x, dtype=np.float32)\n",
    "    mal_y = np.asarray(mal_y, dtype=np.int32)\n",
    "    shape = [-1] + list(input_shape[1:])\n",
    "    mal_x = mal_x.reshape(shape)\n",
    "    return mal_x, mal_y, num_targets\n"
   ]
  },
  {
   "cell_type": "code",
   "execution_count": 10,
   "metadata": {},
   "outputs": [
    {
     "name": "stdout",
     "output_type": "stream",
     "text": [
      "40\n"
     ]
    },
    {
     "data": {
      "text/plain": [
       "IncompatibleKeys(missing_keys=[], unexpected_keys=[])"
      ]
     },
     "execution_count": 10,
     "metadata": {},
     "output_type": "execute_result"
    }
   ],
   "source": [
    "# param_values = torch.load(MODEL_DIR+'cifar/resnet/cifar_cap_res5_0.1_model.ckpt')\n",
    "param_values = torch.load('ckpts/olivetti_cap_resnet_1_model.ckpt')\n",
    "\n",
    "X_train, y_train, X_test, y_test = load_olivetti()\n",
    "\n",
    "# X_train = np.dstack((X_train[:, :1024], X_train[:, 1024:2048], X_train[:, 2048:]))\n",
    "# X_train = X_train.reshape((-1, 32, 32, 3)).transpose(0, 3, 1, 2)\n",
    "# X_test = np.dstack((X_test[:, :1024], X_test[:, 1024:2048], X_test[:, 2048:]))\n",
    "# X_test = X_test.reshape((-1, 32, 32, 3)).transpose(0, 3, 1, 2)\n",
    "\n",
    "input_shape = (None, 3, X_train.shape[2], X_train.shape[3])\n",
    "n_out = len(np.unique(y_train))\n",
    "print(n_out)\n",
    "network = resnet(num_classes=40)\n",
    "# p = 0.1\n",
    "# mal_n = int(p * len(X_train) * 2)\n",
    "\n",
    "network.load_state_dict(param_values)"
   ]
  },
  {
   "cell_type": "code",
   "execution_count": 11,
   "metadata": {},
   "outputs": [],
   "source": [
    "# hidden_data_dim = np.prod(X_train.shape[2:])\n",
    "# mal_n //= hidden_data_dim\n",
    "\n",
    "# if mal_n == 0:\n",
    "#     mal_n = 1\n",
    "mal_n = 1\n",
    "\n",
    "# recreate malicious feature vector\n",
    "X_mal, y_mal, mal_n = mal_data_synthesis(X_train, num_targets=mal_n)\n",
    "\n",
    "X_train, y_train, X_test = reshape_data(X_train, y_train, X_test)\n",
    "n_out = len(np.unique(y_train))"
   ]
  },
  {
   "cell_type": "markdown",
   "metadata": {},
   "source": [
    "#### 隐藏层抽取"
   ]
  },
  {
   "cell_type": "code",
   "execution_count": 12,
   "metadata": {},
   "outputs": [
    {
     "name": "stdout",
     "output_type": "stream",
     "text": [
      "(2048, 64)\n"
     ]
    }
   ],
   "source": [
    "out_list = []\n",
    "network.to('cuda')\n",
    "network.eval()\n",
    "with torch.no_grad():\n",
    "    for batch in iterate_minibatches(X_mal, y_mal, 1024):\n",
    "        inputs, _ = batch\n",
    "        outs = network.inner(torch.from_numpy(inputs).to('cuda')).cpu().data.numpy()\n",
    "        out_list.extend(list(outs))\n",
    "np_out_list = np.array(out_list)\n",
    "print(np_out_list.shape)"
   ]
  },
  {
   "cell_type": "code",
   "execution_count": 13,
   "metadata": {},
   "outputs": [],
   "source": [
    "means = np_out_list.mean(axis=0)"
   ]
  },
  {
   "cell_type": "code",
   "execution_count": 14,
   "metadata": {},
   "outputs": [],
   "source": [
    "seq_sort_mal = np.argsort(means)"
   ]
  },
  {
   "cell_type": "code",
   "execution_count": 15,
   "metadata": {},
   "outputs": [
    {
     "data": {
      "text/plain": [
       "array([53, 19, 26, 60, 36,  0, 24,  6, 44, 10, 62, 34, 31, 17,  1, 55, 41,\n",
       "       49, 50,  8, 21, 38, 16, 18, 51, 15, 40, 12, 52,  5, 46,  3, 61, 37,\n",
       "        4, 39,  2, 14, 57, 11, 27, 47,  9, 35, 58, 54, 29, 32, 30, 22,  7,\n",
       "       33, 42, 13, 25, 23, 48, 43, 56, 28, 45, 20, 63, 59])"
      ]
     },
     "execution_count": 15,
     "metadata": {},
     "output_type": "execute_result"
    }
   ],
   "source": [
    "seq_sort_mal"
   ]
  },
  {
   "cell_type": "code",
   "execution_count": 16,
   "metadata": {},
   "outputs": [
    {
     "name": "stdout",
     "output_type": "stream",
     "text": [
      "(560, 64)\n"
     ]
    }
   ],
   "source": [
    "np_clean_list = []\n",
    "with torch.no_grad():\n",
    "    for batch in iterate_minibatches(X_train, y_train, 40):\n",
    "        inputs, _ = batch\n",
    "        outs = network.inner(torch.from_numpy(inputs).to('cuda')).cpu().data.numpy()\n",
    "        np_clean_list.extend(list(outs))\n",
    "np_clean_list = np.array(np_clean_list)\n",
    "print(np_clean_list.shape)"
   ]
  },
  {
   "cell_type": "code",
   "execution_count": 17,
   "metadata": {},
   "outputs": [],
   "source": [
    "cl_means = np_clean_list.mean(axis=0)\n",
    "seq_sort_clean = np.argsort(cl_means)"
   ]
  },
  {
   "cell_type": "code",
   "execution_count": 18,
   "metadata": {},
   "outputs": [
    {
     "data": {
      "text/plain": [
       "array([53, 60, 36, 19, 26, 44, 34, 62, 55, 49,  0, 16, 51, 50, 24,  5, 41,\n",
       "       31, 21, 18,  4, 15, 52, 40, 37, 22, 35, 38, 48, 20, 47, 33, 32, 63,\n",
       "       56, 46, 57, 29, 54, 39, 10, 14, 25, 12, 58, 42, 28, 43,  8, 61,  2,\n",
       "       27, 11, 23,  9, 59,  7,  3, 30,  1, 45, 13, 17,  6])"
      ]
     },
     "execution_count": 18,
     "metadata": {},
     "output_type": "execute_result"
    }
   ],
   "source": [
    "seq_sort_clean"
   ]
  },
  {
   "cell_type": "code",
   "execution_count": 19,
   "metadata": {},
   "outputs": [
    {
     "name": "stdout",
     "output_type": "stream",
     "text": [
      "45 & 48 & 42 & 30 & 58 & 27 & 2 & 61 & 52 & 51 & 21 & 41 & 31 & 44 & 36 & 53\n",
      "45 & 7 & 11 & 8 & 58 & 10 & 57 & 32 & 48 & 37 & 4 & 41 & 51 & 55 & 26 & 53\n"
     ]
    }
   ],
   "source": [
    "stat = []\n",
    "mal = seq_sort_mal[::-1]\n",
    "clean = seq_sort_clean[::-1]\n",
    "print(\" & \".join([str(x) for i,x in enumerate(mal) if (i+1) % 4 == 0]))\n",
    "print(\" & \".join([str(x) for i,x in enumerate(clean) if (i+1) % 4 == 0]))\n",
    "for i in range(64):\n",
    "    a = list(clean[:(i+1)])\n",
    "    b = list(mal[:(i+1)])\n",
    "    a.reverse()\n",
    "    b.reverse()\n",
    "    ab = a\n",
    "    ab.extend(b)\n",
    "    rest = 2*(i+1)-len(set(ab))\n",
    "    stat.append(rest)\n"
   ]
  },
  {
   "cell_type": "code",
   "execution_count": 20,
   "metadata": {},
   "outputs": [
    {
     "data": {
      "text/plain": [
       "64"
      ]
     },
     "execution_count": 20,
     "metadata": {},
     "output_type": "execute_result"
    }
   ],
   "source": [
    "len(stat)"
   ]
  },
  {
   "cell_type": "code",
   "execution_count": 21,
   "metadata": {},
   "outputs": [
    {
     "name": "stdout",
     "output_type": "stream",
     "text": [
      "1 & 1 & 4 & 6 & 10 & 13 & 19 & 24 & 30 & 34 & 39 & 43 & 49 & 53 & 59 & 64\n"
     ]
    }
   ],
   "source": [
    "print(\" & \".join([str(x) for i,x in enumerate(stat) if (i+1) % 4 == 0]))"
   ]
  },
  {
   "cell_type": "code",
   "execution_count": 22,
   "metadata": {},
   "outputs": [
    {
     "data": {
      "text/plain": [
       "array([59, 63, 20])"
      ]
     },
     "execution_count": 22,
     "metadata": {},
     "output_type": "execute_result"
    }
   ],
   "source": [
    "mal[:3]"
   ]
  },
  {
   "cell_type": "code",
   "execution_count": 23,
   "metadata": {},
   "outputs": [],
   "source": [
    "import matplotlib.pyplot as plt\n",
    "from matplotlib import font_manager\n",
    "my_font = font_manager.FontProperties(fname=\"./simhei.ttf\")\n",
    "import pylab as p"
   ]
  },
  {
   "cell_type": "code",
   "execution_count": 24,
   "metadata": {},
   "outputs": [
    {
     "data": {
      "image/png": "[encoded data removed]",
      "text/plain": [
       "<Figure size 432x288 with 1 Axes>"
      ]
     },
     "metadata": {
      "needs_background": "light"
     },
     "output_type": "display_data"
    }
   ],
   "source": [
    "plt.plot([x for x in range(len(stat))],stat, 'k')\n",
    "plt.plot([x for x in range(len(stat))],[x for x in range(len(stat))], 'k-.')\n",
    "plt.fill_between([x for x in range(len(stat))], [0 for _ in range(len(stat))],  stat, hatch='//', edgecolor='k', fc='w')\n",
    "plt.xlabel('神经元',FontProperties=my_font,fontsize=16)\n",
    "plt.ylabel('相同最大激活量',FontProperties=my_font,fontsize=16)\n",
    "# plt.savefig('samemax-cifar-resnet.png')\n",
    "plt.savefig('samemax-olivetti-resnet.png')"
   ]
  },
  {
   "cell_type": "code",
   "execution_count": 25,
   "metadata": {},
   "outputs": [
    {
     "name": "stdout",
     "output_type": "stream",
     "text": [
      "0.8125\n"
     ]
    }
   ],
   "source": [
    "neuron_num = 64\n",
    "TCM = (2*sum(stat)-neuron_num)/(neuron_num*neuron_num)\n",
    "print(TCM)"
   ]
  },
  {
   "cell_type": "code",
   "execution_count": 26,
   "metadata": {},
   "outputs": [],
   "source": [
    "import copy\n",
    "new_params = copy.deepcopy(param_values)"
   ]
  },
  {
   "cell_type": "code",
   "execution_count": 27,
   "metadata": {
    "scrolled": true
   },
   "outputs": [
    {
     "name": "stdout",
     "output_type": "stream",
     "text": [
      "0 : 2048\n",
      "1 : 2048\n",
      "2 : 2048\n",
      "3 : 2048\n",
      "4 : 2048\n",
      "5 : 2048\n",
      "6 : 2048\n",
      "7 : 2048\n",
      "8 : 2048\n",
      "9 : 2048\n",
      "10 : 2048\n",
      "11 : 2048\n",
      "12 : 2048\n",
      "13 : 2048\n",
      "14 : 2048\n",
      "15 : 2048\n",
      "16 : 2048\n",
      "17 : 2048\n",
      "18 : 2048\n",
      "19 : 2048\n",
      "20 : 2047\n",
      "21 : 2046\n",
      "22 : 2046\n",
      "23 : 2046\n",
      "24 : 2046\n",
      "25 : 2046\n",
      "26 : 2045\n",
      "27 : 2045\n",
      "28 : 2043\n",
      "29 : 2014\n",
      "30 : 2025\n",
      "31 : 2015\n",
      "32 : 1984\n",
      "33 : 1922\n",
      "34 : 1936\n",
      "35 : 1463\n",
      "36 : 1458\n",
      "37 : 1454\n",
      "38 : 1441\n",
      "39 : 1429\n",
      "40 : 1387\n",
      "41 : 1393\n",
      "42 : 1406\n",
      "43 : 1337\n",
      "44 : 1334\n",
      "45 : 1307\n",
      "46 : 1272\n",
      "47 : 1290\n",
      "48 : 1249\n",
      "49 : 1249\n",
      "50 : 1239\n",
      "51 : 1244\n",
      "52 : 1167\n",
      "53 : 1153\n",
      "54 : 1126\n",
      "55 : 1136\n",
      "56 : 1084\n",
      "57 : 1163\n",
      "58 : 1167\n",
      "59 : 1135\n",
      "60 : 1128\n",
      "61 : 1082\n",
      "62 : 325\n",
      "63 : 269\n"
     ]
    }
   ],
   "source": [
    "mal_pred = []\n",
    "for neurons in range(64):\n",
    "    new_params = copy.deepcopy(param_values)\n",
    "    new_params['fc_out.weight'][:,seq_sort_clean[:neurons]] = torch.from_numpy(np.zeros([n_out, neurons])).float().cuda()\n",
    "    network.load_state_dict(new_params)\n",
    "\n",
    "    out_list = []\n",
    "    for batch in iterate_minibatches(X_mal, y_mal, 128):\n",
    "        inputs, _ = batch\n",
    "        network.eval()\n",
    "        outputs = network(torch.from_numpy(inputs).to('cuda')).max(1)[1].cpu().data.numpy()\n",
    "        out_list.extend(list(outputs))\n",
    "    np_out_list = np.array(out_list)\n",
    "    ok = np.sum(np.equal(np_out_list, y_mal))\n",
    "    print(neurons, \":\", ok)\n",
    "    mal_pred.append(ok)"
   ]
  },
  {
   "cell_type": "code",
   "execution_count": 28,
   "metadata": {
    "scrolled": true
   },
   "outputs": [
    {
     "name": "stdout",
     "output_type": "stream",
     "text": [
      "0 : 560 \t1 : 560 \t2 : 560 \t3 : 560 \t4 : 560 \t5 : 560 \t6 : 560 \t7 : 560 \t8 : 560 \t9 : 560 \t10 : 560 \t11 : 560 \t12 : 560 \t13 : 560 \t14 : 560 \t15 : 560 \t16 : 560 \t17 : 560 \t18 : 560 \t19 : 560 \t20 : 560 \t21 : 559 \t22 : 559 \t23 : 559 \t24 : 559 \t25 : 560 \t26 : 560 \t27 : 559 \t28 : 559 \t29 : 559 \t30 : 559 \t31 : 560 \t32 : 560 \t33 : 560 \t34 : 558 \t35 : 544 \t36 : 543 \t37 : 538 \t38 : 538 \t39 : 540 \t40 : 522 \t41 : 525 \t42 : 525 \t43 : 514 \t44 : 505 \t45 : 494 \t46 : 471 \t47 : 469 \t48 : 416 \t49 : 402 \t50 : 376 \t51 : 347 \t52 : 338 \t53 : 312 \t54 : 299 \t55 : 266 \t56 : 190 \t57 : 160 \t58 : 127 \t59 : 101 \t60 : 94 \t61 : 58 \t62 : 31 \t63 : 22 \t"
     ]
    }
   ],
   "source": [
    "clean_train_pred = []\n",
    "for neurons in range(64):\n",
    "    new_params = copy.deepcopy(param_values)\n",
    "    new_params['fc_out.weight'][:,seq_sort_clean[:neurons]] = torch.from_numpy(np.zeros([n_out, neurons])).float().cuda()\n",
    "    network.load_state_dict(new_params)\n",
    "\n",
    "    out_list = []\n",
    "    with torch.no_grad():\n",
    "        for batch in iterate_minibatches(X_train, y_train, 40):\n",
    "            inputs, _ = batch\n",
    "            network.eval()\n",
    "            outputs = network(torch.from_numpy(inputs).to('cuda')).max(1)[1].cpu().data.numpy()\n",
    "            out_list.extend(list(outputs))\n",
    "    np_out_list = np.array(out_list)\n",
    "    ok = np.sum(np.equal(np_out_list, y_train))\n",
    "    print(neurons, ':', ok, \"\\t\", end=\"\")\n",
    "    clean_train_pred.append(ok)"
   ]
  },
  {
   "cell_type": "code",
   "execution_count": 29,
   "metadata": {},
   "outputs": [
    {
     "data": {
      "image/png": "[encoded data removed]",
      "text/plain": [
       "<Figure size 432x288 with 1 Axes>"
      ]
     },
     "metadata": {
      "needs_background": "light"
     },
     "output_type": "display_data"
    }
   ],
   "source": [
    "import pandas as pd\n",
    "df_mal = pd.DataFrame(mal_pred)\n",
    "df_mal.columns = ['mal']\n",
    "#plt.plot(arr)\n",
    "plt.plot([x for x in range(len(df_mal))],df_mal['mal'], \"-k\")\n",
    "plt.xlabel('k')\n",
    "plt.ylabel('true num') \n",
    "# plt.savefig('prune-mal-1.png')\n",
    "plt.show()"
   ]
  },
  {
   "cell_type": "code",
   "execution_count": 30,
   "metadata": {},
   "outputs": [
    {
     "data": {
      "image/png": "[encoded data removed]",
      "text/plain": [
       "<Figure size 432x288 with 1 Axes>"
      ]
     },
     "metadata": {
      "needs_background": "light"
     },
     "output_type": "display_data"
    }
   ],
   "source": [
    "df_train_clean = pd.DataFrame(clean_train_pred)\n",
    "df_train_clean.columns = ['train_clean']\n",
    "#plt.plot(arr)\n",
    "plt.plot([x for x in range(len(df_train_clean))],df_train_clean['train_clean'], \"-k\")\n",
    "plt.xlabel('k')\n",
    "plt.ylabel('true num')\n",
    "# plt.savefig('prune-clean.png')\n",
    "plt.show()"
   ]
  },
  {
   "cell_type": "code",
   "execution_count": 31,
   "metadata": {
    "scrolled": true
   },
   "outputs": [
    {
     "name": "stdout",
     "output_type": "stream",
     "text": [
      "0 : 107\n",
      "1 : 107\n",
      "2 : 107\n",
      "3 : 107\n",
      "4 : 107\n",
      "5 : 107\n",
      "6 : 107\n",
      "7 : 107\n",
      "8 : 107\n",
      "9 : 107\n",
      "10 : 107\n",
      "11 : 107\n",
      "12 : 107\n",
      "13 : 107\n",
      "14 : 107\n",
      "15 : 107\n",
      "16 : 107\n",
      "17 : 107\n",
      "18 : 107\n",
      "19 : 106\n",
      "20 : 106\n",
      "21 : 106\n",
      "22 : 106\n",
      "23 : 106\n",
      "24 : 106\n",
      "25 : 106\n",
      "26 : 106\n",
      "27 : 106\n",
      "28 : 107\n",
      "29 : 107\n",
      "30 : 107\n",
      "31 : 107\n",
      "32 : 107\n",
      "33 : 107\n",
      "34 : 103\n",
      "35 : 96\n",
      "36 : 95\n",
      "37 : 96\n",
      "38 : 96\n",
      "39 : 96\n",
      "40 : 90\n",
      "41 : 89\n",
      "42 : 90\n",
      "43 : 90\n",
      "44 : 91\n",
      "45 : 88\n",
      "46 : 81\n",
      "47 : 80\n",
      "48 : 71\n",
      "49 : 66\n",
      "50 : 57\n",
      "51 : 59\n",
      "52 : 55\n",
      "53 : 53\n",
      "54 : 48\n",
      "55 : 43\n",
      "56 : 35\n",
      "57 : 28\n",
      "58 : 22\n",
      "59 : 17\n",
      "60 : 21\n",
      "61 : 11\n",
      "62 : 6\n",
      "63 : 9\n"
     ]
    }
   ],
   "source": [
    "clean_test_pred = []\n",
    "for neurons in range(64):\n",
    "    new_params = copy.deepcopy(param_values)\n",
    "    new_params['fc_out.weight'][:,seq_sort_clean[:neurons]] = torch.from_numpy(np.zeros([n_out, neurons])).float().cuda()\n",
    "    network.load_state_dict(new_params)\n",
    "\n",
    "    out_list = []\n",
    "    with torch.no_grad():\n",
    "        for batch in iterate_minibatches(X_test, y_test, 40):\n",
    "            inputs, _ = batch\n",
    "            network.eval()\n",
    "            outputs = network(torch.from_numpy(inputs).to('cuda')).max(1)[1].cpu().data.numpy()\n",
    "            out_list.extend(list(outputs))\n",
    "    np_out_list = np.array(out_list)\n",
    "    ok = np.sum(np.equal(np_out_list, y_test))\n",
    "    print(neurons, ':', ok)\n",
    "    clean_test_pred.append(ok)"
   ]
  },
  {
   "cell_type": "code",
   "execution_count": 32,
   "metadata": {},
   "outputs": [],
   "source": [
    "df_test = pd.DataFrame(clean_test_pred)"
   ]
  },
  {
   "cell_type": "code",
   "execution_count": 33,
   "metadata": {},
   "outputs": [],
   "source": [
    "df = df_train_clean.copy()\n",
    "df['mal'] = df_mal.copy()\n",
    "df['test_clean'] = df_test.copy()"
   ]
  },
  {
   "cell_type": "code",
   "execution_count": 34,
   "metadata": {},
   "outputs": [],
   "source": [
    "df['train_clean'] = df['train_clean']/len(X_train)\n",
    "df['mal'] = df['mal']/len(X_mal)\n",
    "df['test_clean'] = df['test_clean']/len(X_test)"
   ]
  },
  {
   "cell_type": "code",
   "execution_count": 36,
   "metadata": {},
   "outputs": [
    {
     "data": {
      "image/png": "[encoded data removed]",
      "text/plain": [
       "<Figure size 432x288 with 1 Axes>"
      ]
     },
     "metadata": {
      "needs_background": "light"
     },
     "output_type": "display_data"
    }
   ],
   "source": [
    "plt.plot([x for x in range(len(df['train_clean']))],df['train_clean'], \"-k\", label='训练集')\n",
    "plt.plot([x for x in range(len(df['mal']))],df['mal'], \"--k\", label='合成数据')\n",
    "plt.plot([x for x in range(len(df['test_clean']))],df['test_clean'], \"-.k\", label='测试集')\n",
    "plt.xlabel('神经元数量',FontProperties=my_font,fontsize=16)\n",
    "plt.ylabel('准确率',FontProperties=my_font,fontsize=16)\n",
    "plt.legend(prop=my_font)\n",
    "plt.savefig('prune-accuracy-olivetti-resnet.png')"
   ]
  },
  {
   "cell_type": "code",
   "execution_count": 37,
   "metadata": {},
   "outputs": [],
   "source": [
    "torch.save(new_params, 'prune-model-olivetti-resnet.ckpt')"
   ]
  },
  {
   "cell_type": "code",
   "execution_count": null,
   "metadata": {},
   "outputs": [],
   "source": []
  }
 ],
 "metadata": {
  "kernelspec": {
   "display_name": "pytorch",
   "language": "python",
   "name": "pytorch"
  },
  "language_info": {
   "codemirror_mode": {
    "name": "ipython",
    "version": 3
   },
   "file_extension": ".py",
   "mimetype": "text/x-python",
   "name": "python",
   "nbconvert_exporter": "python",
   "pygments_lexer": "ipython3",
   "version": "3.7.6"
  }
 },
 "nbformat": 4,
 "nbformat_minor": 4
}
