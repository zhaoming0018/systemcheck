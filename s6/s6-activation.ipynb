{
 "cells": [
  {
   "cell_type": "markdown",
   "metadata": {},
   "source": [
    "## 隐藏层激活图像"
   ]
  },
  {
   "cell_type": "code",
   "execution_count": 1,
   "metadata": {},
   "outputs": [],
   "source": [
    "import torch\n",
    "import matplotlib.pyplot as plt\n",
    "import os\n",
    "import sys\n",
    "import numpy as np"
   ]
  },
  {
   "cell_type": "code",
   "execution_count": 2,
   "metadata": {},
   "outputs": [],
   "source": [
    "sys.path.append('../data/')\n",
    "sys.path.append(\"../\")"
   ]
  },
  {
   "cell_type": "code",
   "execution_count": 3,
   "metadata": {},
   "outputs": [],
   "source": [
    "from load_cifar import load_cifar\n",
    "from resnet import resnet"
   ]
  },
  {
   "cell_type": "code",
   "execution_count": 4,
   "metadata": {},
   "outputs": [],
   "source": [
    "# 加载数据\n",
    "def reshape_data(X_train, y_train, X_test):\n",
    "    # reshape train and subtract mean\n",
    "    pixel_mean = np.mean(X_train, axis=0)\n",
    "    X_train -= pixel_mean\n",
    "    X_test -= pixel_mean\n",
    "    X_train_flip = X_train[:, :, :, ::-1]\n",
    "    X_train = np.concatenate((X_train, X_train_flip), axis=0)\n",
    "    y_train = np.concatenate((y_train, y_train), axis=0)\n",
    "    return X_train, y_train, X_test\n",
    "\n",
    "def load_data(name='cifar'):\n",
    "    if name == 'cifar':\n",
    "        X_train, y_train, X_test, y_test = load_cifar(10)\n",
    "        X_train = np.dstack((X_train[:, :1024], X_train[:, 1024:2048], X_train[:, 2048:]))\n",
    "        X_train = X_train.reshape((-1, 32, 32, 3)).transpose(0, 3, 1, 2)\n",
    "        X_test = np.dstack((X_test[:, :1024], X_test[:, 1024:2048], X_test[:, 2048:]))\n",
    "        X_test = X_test.reshape((-1, 32, 32, 3)).transpose(0, 3, 1, 2)\n",
    "    else:\n",
    "        X_train, y_train, X_test, y_test = load_olivetti()\n",
    "    \n",
    "    return X_train, y_train, X_test, y_test\n",
    "\n",
    "def iterate_minibatches(inputs, targets, batch_size):\n",
    "    assert len(inputs) == len(targets)\n",
    "    start_idx = None\n",
    "    for start_idx in range(0, len(inputs) - batch_size + 1, batch_size):\n",
    "        excerpt = slice(start_idx, start_idx + batch_size)\n",
    "        yield inputs[excerpt], targets[excerpt]\n",
    "    if start_idx is not None and start_idx + batch_size < len(inputs):\n",
    "        excerpt = slice(start_idx + batch_size, len(inputs))\n",
    "        yield inputs[excerpt], targets[excerpt]\n",
    "\n",
    "def rbg_to_grayscale(images):\n",
    "    return np.dot(images[..., :3], [0.299, 0.587, 0.114])\n",
    "        \n",
    "def mal_data_synthesis(train_x, num_targets=10, precision=4):\n",
    "    num_targets //= 2\n",
    "    if num_targets == 0:\n",
    "        num_targets = 1\n",
    "\n",
    "    targets = train_x[:num_targets]\n",
    "    input_shape = train_x.shape\n",
    "    if input_shape[1] == 3:     # rbg to gray scale\n",
    "        targets = rbg_to_grayscale(targets.transpose(0, 2, 3, 1))\n",
    "\n",
    "    mal_x = []\n",
    "    mal_y = []\n",
    "    for j in range(num_targets):\n",
    "        target = targets[j].flatten()\n",
    "        for i, t in enumerate(target):\n",
    "            t = int(t * 255)\n",
    "            p = (t - t % (256 // 2 ** precision)) // (2 ** 4)\n",
    "            p_bits = [p // 2, p - p // 2]\n",
    "            for k, b in enumerate(p_bits):\n",
    "                x = np.zeros(input_shape[1:]).reshape(3, -1)\n",
    "                channel = j % 3\n",
    "                value = j // 3 + 1.0\n",
    "                x[channel, i] = value\n",
    "                if i < len(target) - 1:\n",
    "                    x[channel, i + 1] = k + 1.0\n",
    "                else:\n",
    "                    x[channel, 0] = k + 1.0\n",
    "\n",
    "                mal_x.append(x)\n",
    "                mal_y.append(b)\n",
    "\n",
    "    mal_x = np.asarray(mal_x, dtype=np.float32)\n",
    "    mal_y = np.asarray(mal_y, dtype=np.int32)\n",
    "    shape = [-1] + list(input_shape[1:])\n",
    "    mal_x = mal_x.reshape(shape)\n",
    "    return mal_x, mal_y, num_targets"
   ]
  },
  {
   "cell_type": "code",
   "execution_count": 5,
   "metadata": {},
   "outputs": [
    {
     "name": "stdout",
     "output_type": "stream",
     "text": [
      "8192\n"
     ]
    }
   ],
   "source": [
    "X_train, y_train, X_test, y_test = load_data(name='cifar')\n",
    "mal_x, mal_y, num_targets = mal_data_synthesis(X_train, num_targets=8)\n",
    "print(len(mal_x))\n",
    "X_train, y_train, X_test = reshape_data(X_train, y_train, X_test)"
   ]
  },
  {
   "cell_type": "code",
   "execution_count": 6,
   "metadata": {},
   "outputs": [],
   "source": [
    "device = 'cuda' if torch.cuda.is_available() else 'cpu'\n",
    "network = resnet(num_classes=10).to(device)"
   ]
  },
  {
   "cell_type": "code",
   "execution_count": 7,
   "metadata": {},
   "outputs": [
    {
     "data": {
      "text/plain": [
       "IncompatibleKeys(missing_keys=[], unexpected_keys=[])"
      ]
     },
     "execution_count": 7,
     "metadata": {},
     "output_type": "execute_result"
    }
   ],
   "source": [
    "full_path = 'ckpts/cifar_cap_res5_0.1_model.ckpt'\n",
    "network.load_state_dict(torch.load(full_path))"
   ]
  },
  {
   "cell_type": "code",
   "execution_count": 8,
   "metadata": {},
   "outputs": [
    {
     "data": {
      "image/png": "[encoded data removed]",
      "text/plain": [
       "<Figure size 432x288 with 36 Axes>"
      ]
     },
     "metadata": {
      "needs_background": "light"
     },
     "output_type": "display_data"
    }
   ],
   "source": [
    "for i in range(36):\n",
    "    plt.subplot(6,6,i+1)\n",
    "    plt.axis('off')\n",
    "    x = network.inner(torch.tensor(X_train[i:i+1]).cuda())\n",
    "    plt.imshow(x[0].view(8,8).cpu().detach().numpy(), cmap='gray')\n",
    "plt.show()"
   ]
  },
  {
   "cell_type": "code",
   "execution_count": 9,
   "metadata": {},
   "outputs": [
    {
     "data": {
      "image/png": "[encoded data removed]",
      "text/plain": [
       "<Figure size 432x288 with 36 Axes>"
      ]
     },
     "metadata": {
      "needs_background": "light"
     },
     "output_type": "display_data"
    }
   ],
   "source": [
    "for i in range(36):\n",
    "    plt.subplot(6,6,i+1)\n",
    "    plt.axis('off')\n",
    "    t = network.inner(torch.tensor(mal_x[i:i+1]).cuda())\n",
    "    plt.imshow(t[0].view(8,8).cpu().detach().numpy(), cmap='gray')\n",
    "plt.show()"
   ]
  },
  {
   "cell_type": "code",
   "execution_count": 10,
   "metadata": {},
   "outputs": [
    {
     "data": {
      "image/png": "[encoded data removed]",
      "text/plain": [
       "<Figure size 432x288 with 36 Axes>"
      ]
     },
     "metadata": {
      "needs_background": "light"
     },
     "output_type": "display_data"
    }
   ],
   "source": [
    "for i in range(36):\n",
    "    plt.subplot(6,6,i+1)\n",
    "    plt.axis('off')\n",
    "    x = network.inner(torch.tensor(X_train[i:i+1]).cuda())\n",
    "    t = network.inner(torch.tensor(mal_x[i:i+1]).cuda())\n",
    "    tmp = t-x\n",
    "    plt.imshow(tmp[0].view(8,8).cpu().detach().numpy(), cmap='gray')\n",
    "plt.show()"
   ]
  },
  {
   "cell_type": "code",
   "execution_count": null,
   "metadata": {},
   "outputs": [],
   "source": []
  }
 ],
 "metadata": {
  "kernelspec": {
   "display_name": "pytorch",
   "language": "python",
   "name": "pytorch"
  },
  "language_info": {
   "codemirror_mode": {
    "name": "ipython",
    "version": 3
   },
   "file_extension": ".py",
   "mimetype": "text/x-python",
   "name": "python",
   "nbconvert_exporter": "python",
   "pygments_lexer": "ipython3",
   "version": "3.7.6"
  }
 },
 "nbformat": 4,
 "nbformat_minor": 4
}
