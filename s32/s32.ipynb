{
 "cells": [
  {
   "cell_type": "markdown",
   "metadata": {},
   "source": [
    "## 利用剪枝的模型抽取图像"
   ]
  },
  {
   "cell_type": "code",
   "execution_count": 2,
   "metadata": {},
   "outputs": [],
   "source": [
    "import numpy as np\n",
    "import sys\n",
    "import time\n",
    "\n",
    "import os\n",
    "import cv2\n",
    "import pandas as pd\n",
    "import torch\n",
    "from torch.utils.data import Dataset, DataLoader, TensorDataset\n",
    "import matplotlib.pyplot as plt\n",
    "sys.path.append('../')\n",
    "sys.path.append('../data/')\n",
    "from resnet import resnet\n",
    "from preact_resnet import PreActResNet18\n",
    "from load_cifar import load_cifar\n",
    "from load_olivetti import load_olivetti"
   ]
  },
  {
   "cell_type": "code",
   "execution_count": 3,
   "metadata": {},
   "outputs": [
    {
     "data": {
      "text/plain": [
       "['cifar_cap_res5_0.1_model.ckpt']"
      ]
     },
     "execution_count": 3,
     "metadata": {},
     "output_type": "execute_result"
    }
   ],
   "source": [
    "os.listdir('ckpts/')"
   ]
  },
  {
   "cell_type": "code",
   "execution_count": 4,
   "metadata": {},
   "outputs": [],
   "source": [
    "# 加载数据\n",
    "def reshape_data(X_train, y_train, X_test):\n",
    "    # reshape train and subtract mean\n",
    "    pixel_mean = np.mean(X_train, axis=0)\n",
    "    X_train -= pixel_mean\n",
    "    X_test -= pixel_mean\n",
    "    return X_train, y_train, X_test\n",
    "\n",
    "def load_data(name='cifar'):\n",
    "    if name == 'cifar':\n",
    "        X_train, y_train, X_test, y_test = load_cifar(10)\n",
    "        X_train = np.dstack((X_train[:, :1024], X_train[:, 1024:2048], X_train[:, 2048:]))\n",
    "        X_train = X_train.reshape((-1, 32, 32, 3)).transpose(0, 3, 1, 2)\n",
    "        X_test = np.dstack((X_test[:, :1024], X_test[:, 1024:2048], X_test[:, 2048:]))\n",
    "        X_test = X_test.reshape((-1, 32, 32, 3)).transpose(0, 3, 1, 2)\n",
    "    else:\n",
    "        X_train, y_train, X_test, y_test = load_olivetti()\n",
    "    return X_train, y_train, X_test, y_test\n",
    "\n",
    "def rbg_to_grayscale(images):\n",
    "    return np.dot(images[..., :3], [0.299, 0.587, 0.114])"
   ]
  },
  {
   "cell_type": "code",
   "execution_count": 5,
   "metadata": {},
   "outputs": [],
   "source": [
    "def data_to_loader(x, y, size=512):\n",
    "    x_data = torch.from_numpy(x)\n",
    "    y_data = torch.from_numpy(y).long()\n",
    "    loader = DataLoader(dataset=TensorDataset(x_data, y_data), \n",
    "                          batch_size=size, \n",
    "                          shuffle=False, \n",
    "                          num_workers=2)\n",
    "    return loader"
   ]
  },
  {
   "cell_type": "code",
   "execution_count": 6,
   "metadata": {},
   "outputs": [],
   "source": [
    "def mal_data_synthesis(train_x, num_targets=10, precision=4):\n",
    "    # synthesize malicious images to encode secrets\n",
    "    # for CIFAR, use 2 data points to encode one approximate 4-bit pixel\n",
    "    # thus divide the number of targets by 2\n",
    "    num_targets //= 2\n",
    "    if num_targets == 0:\n",
    "        num_targets = 1\n",
    "\n",
    "    targets = train_x[:num_targets]\n",
    "    input_shape = train_x.shape\n",
    "    if input_shape[1] == 3:  # rbg to gray scale\n",
    "        targets = rbg_to_grayscale(targets.transpose(0, 2, 3, 1))\n",
    "\n",
    "    mal_x = []\n",
    "    mal_y = []\n",
    "    for j in range(num_targets):\n",
    "        target = targets[j].flatten()\n",
    "        for i, t in enumerate(target):\n",
    "            t = int(t * 255)\n",
    "            # get the 4-bit approximation of 8-bit pixel\n",
    "            p = (t - t % (256 // 2 ** precision)) // (2 ** 4)\n",
    "            # use 2 data points to encode p\n",
    "            # e.g. pixel=15, use (x1, 7), (x2, 8) to encode\n",
    "            p_bits = [p // 2, p - p // 2]\n",
    "            for k, b in enumerate(p_bits):\n",
    "                # initialize a empty image\n",
    "                x = np.zeros(input_shape[1:]).reshape(3, -1)\n",
    "                # simple & naive deterministic value for two pixel\n",
    "                channel = j % 3\n",
    "                value = j // 3 + 1.0\n",
    "                x[channel, i] = value\n",
    "                if i < len(target) - 1:\n",
    "                    x[channel, i + 1] = k + 1.0\n",
    "                else:\n",
    "                    x[channel, 0] = k + 1.0\n",
    "\n",
    "                mal_x.append(x)\n",
    "                mal_y.append(b)\n",
    "\n",
    "    mal_x = np.asarray(mal_x, dtype=np.float32)\n",
    "    mal_y = np.asarray(mal_y, dtype=np.int32)\n",
    "    shape = [-1] + list(input_shape[1:])\n",
    "    mal_x = mal_x.reshape(shape)\n",
    "    return mal_x, mal_y, num_targets\n"
   ]
  },
  {
   "cell_type": "code",
   "execution_count": 7,
   "metadata": {},
   "outputs": [],
   "source": [
    "X_train, y_train, X_test, y_test = load_data(name='cifar')\n",
    "X_mal, y_mal, mal_n = mal_data_synthesis(X_train, num_targets=8)\n",
    "X_train, y_train, X_test = reshape_data(X_train, y_train, X_test)\n",
    "train_loader = data_to_loader(X_train, y_train)\n",
    "test_loader = data_to_loader(X_test, y_test)\n",
    "mal_loader = data_to_loader(X_mal, y_mal)"
   ]
  },
  {
   "cell_type": "code",
   "execution_count": 8,
   "metadata": {},
   "outputs": [
    {
     "data": {
      "text/plain": [
       "IncompatibleKeys(missing_keys=[], unexpected_keys=[])"
      ]
     },
     "execution_count": 8,
     "metadata": {},
     "output_type": "execute_result"
    }
   ],
   "source": [
    "device = 'cuda' if torch.cuda.is_available() else 'cpu'\n",
    "network = resnet(num_classes=10).to(device)\n",
    "path = 'ckpts/cifar_cap_res5_0.1_model.ckpt'\n",
    "network.load_state_dict(torch.load(path))"
   ]
  },
  {
   "cell_type": "code",
   "execution_count": 9,
   "metadata": {},
   "outputs": [
    {
     "name": "stdout",
     "output_type": "stream",
     "text": [
      "(50000, 64)\n"
     ]
    }
   ],
   "source": [
    "np_clean_list = []\n",
    "network.eval()\n",
    "with torch.no_grad():\n",
    "    for i, batch in enumerate(train_loader):\n",
    "        inputs, _ = batch\n",
    "        outs = network.inner(inputs.to('cuda')).cpu().data.numpy()\n",
    "        np_clean_list.extend(list(outs))\n",
    "np_clean_list = np.array(np_clean_list)\n",
    "print(np_clean_list.shape)"
   ]
  },
  {
   "cell_type": "code",
   "execution_count": 10,
   "metadata": {},
   "outputs": [
    {
     "data": {
      "text/plain": [
       "array([ 5,  3, 58,  7, 22, 10, 11, 18,  4, 12, 31, 45, 38, 49, 30, 42, 34,\n",
       "       14, 54, 39, 13,  6, 28, 52, 24, 17, 33, 40, 61, 56, 21, 15,  1, 29,\n",
       "       27, 35,  2, 46, 20, 57, 19, 48, 23, 32, 55, 44,  9, 36, 16, 26, 60,\n",
       "       41, 59, 25, 50,  0,  8, 47, 51, 63, 43, 62, 53, 37])"
      ]
     },
     "execution_count": 10,
     "metadata": {},
     "output_type": "execute_result"
    }
   ],
   "source": [
    "cl_means = np_clean_list.mean(axis=0)\n",
    "seq_sort_clean = np.argsort(cl_means)\n",
    "seq_sort_clean"
   ]
  },
  {
   "cell_type": "code",
   "execution_count": 11,
   "metadata": {},
   "outputs": [],
   "source": [
    "import copy\n",
    "param_values = torch.load('ckpts/cifar_cap_res5_0.1_model.ckpt')\n",
    "new_params = copy.deepcopy(param_values)"
   ]
  },
  {
   "cell_type": "code",
   "execution_count": 24,
   "metadata": {},
   "outputs": [],
   "source": [
    "# 剪枝\n",
    "neurons = 40\n",
    "\n",
    "new_params = copy.deepcopy(param_values)\n",
    "new_params['fc_out.weight'][:,seq_sort_clean[:neurons]] = torch.from_numpy(np.zeros([10, neurons])).float().cuda()\n",
    "network.load_state_dict(new_params)\n",
    "\n",
    "out_list = []\n",
    "with torch.no_grad():\n",
    "    for i, batch in enumerate(test_loader):\n",
    "        inputs, _ = batch\n",
    "        network.eval()\n",
    "        outputs = network(inputs.to('cuda')).max(1)[1].cpu().data.numpy()\n",
    "        out_list.extend(list(outputs))\n",
    "        \n",
    "np_out_list = np.array(out_list)\n"
   ]
  },
  {
   "cell_type": "code",
   "execution_count": 25,
   "metadata": {},
   "outputs": [],
   "source": [
    "def cap_reconstruct(net, loader):\n",
    "    res = []\n",
    "    net.eval()\n",
    "    for i, data in enumerate(loader):\n",
    "        x, y = data\n",
    "        x = x.to(device)\n",
    "        pred = net(x)\n",
    "        res.append(pred.max(1)[1])\n",
    "    res = torch.cat(res)\n",
    "    res = res.reshape(-1, 2).sum(1).reshape(-1,32,32)*(2**4)\n",
    "    return res"
   ]
  },
  {
   "cell_type": "code",
   "execution_count": 26,
   "metadata": {},
   "outputs": [],
   "source": [
    "x = cap_reconstruct(network, mal_loader)"
   ]
  },
  {
   "cell_type": "code",
   "execution_count": 27,
   "metadata": {},
   "outputs": [],
   "source": [
    "import matplotlib.pyplot as plt"
   ]
  },
  {
   "cell_type": "code",
   "execution_count": 28,
   "metadata": {},
   "outputs": [
    {
     "data": {
      "image/png": "[encoded data removed]",
      "text/plain": [
       "<Figure size 432x288 with 4 Axes>"
      ]
     },
     "metadata": {
      "needs_background": "light"
     },
     "output_type": "display_data"
    }
   ],
   "source": [
    "for i in range(4):\n",
    "    plt.subplot(1,4,i+1)\n",
    "    plt.imshow(x[i].cpu(), cmap='gray')\n",
    "    plt.axis('off')"
   ]
  },
  {
   "cell_type": "code",
   "execution_count": null,
   "metadata": {},
   "outputs": [],
   "source": []
  }
 ],
 "metadata": {
  "kernelspec": {
   "display_name": "pytorch",
   "language": "python",
   "name": "pytorch"
  },
  "language_info": {
   "codemirror_mode": {
    "name": "ipython",
    "version": 3
   },
   "file_extension": ".py",
   "mimetype": "text/x-python",
   "name": "python",
   "nbconvert_exporter": "python",
   "pygments_lexer": "ipython3",
   "version": "3.7.6"
  }
 },
 "nbformat": 4,
 "nbformat_minor": 4
}
